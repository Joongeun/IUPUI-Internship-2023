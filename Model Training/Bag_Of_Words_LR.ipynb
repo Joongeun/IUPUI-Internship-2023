{
  "cells": [
    {
      "cell_type": "code",
      "execution_count": null,
      "metadata": {
        "colab": {
          "base_uri": "https://localhost:8080/"
        },
        "executionInfo": {
          "elapsed": 9173,
          "status": "ok",
          "timestamp": 1692028986854,
          "user": {
            "displayName": "Joongeun Choi",
            "userId": "16179959334871840414"
          },
          "user_tz": 240
        },
        "id": "SEAmDvjK7kqr",
        "outputId": "02601237-4de4-4bcc-87fd-e8976632293a"
      },
      "outputs": [
        {
          "output_type": "stream",
          "name": "stdout",
          "text": [
            "Requirement already satisfied: nltk in /usr/local/lib/python3.10/dist-packages (3.8.1)\n",
            "Requirement already satisfied: click in /usr/local/lib/python3.10/dist-packages (from nltk) (8.1.6)\n",
            "Requirement already satisfied: joblib in /usr/local/lib/python3.10/dist-packages (from nltk) (1.3.2)\n",
            "Requirement already satisfied: regex>=2021.8.3 in /usr/local/lib/python3.10/dist-packages (from nltk) (2023.6.3)\n",
            "Requirement already satisfied: tqdm in /usr/local/lib/python3.10/dist-packages (from nltk) (4.66.0)\n"
          ]
        },
        {
          "output_type": "stream",
          "name": "stderr",
          "text": [
            "[nltk_data] Downloading package stopwords to /root/nltk_data...\n",
            "[nltk_data]   Package stopwords is already up-to-date!\n"
          ]
        }
      ],
      "source": [
        "from sklearn.model_selection import StratifiedKFold\n",
        "from sklearn.feature_extraction.text import CountVectorizer\n",
        "from sklearn.linear_model import LogisticRegression\n",
        "from sklearn import metrics\n",
        "from sklearn.metrics import f1_score\n",
        "from sklearn.metrics import precision_score\n",
        "from sklearn.metrics import recall_score\n",
        "import pandas as pd\n",
        "import numpy as np\n",
        "!pip install nltk\n",
        "import nltk\n",
        "nltk.download('stopwords')\n",
        "from nltk.corpus import stopwords\n",
        "import string\n",
        "import re\n",
        "import pickle"
      ]
    },
    {
      "cell_type": "code",
      "execution_count": null,
      "metadata": {
        "id": "tbB3k8T075h8"
      },
      "outputs": [],
      "source": [
        "# Keeping stopwords, removing repeated words or multiple punctuations in a row (e.x: 'yay!!!' --> 'yay !') - only keeps '!', '?' for punctuation\n",
        "def clean_text(sentences):\n",
        "  split = re.findall(r\"[\\w']+|[!?]\", sentences)\n",
        "  i = 0\n",
        "  while i < len(split)-1:\n",
        "    if split[i] == split[i+1]:\n",
        "      del split[i+1]\n",
        "      i-=1\n",
        "    i+= 1\n",
        "  # Remove all instances of \\n where only the n remains\n",
        "  split = [i for i in split if i != \"n\"]\n",
        "  return \" \".join(split)"
      ]
    },
    {
      "cell_type": "code",
      "execution_count": null,
      "metadata": {
        "id": "rlOGiip776uL"
      },
      "outputs": [],
      "source": [
        "def classify(X_train, y_train, X_test, y_test, length, count, label):\n",
        "  w = {0:count, 1:length-count}\n",
        "  lr = LogisticRegression(C=100.0, random_state=1, solver='lbfgs', max_iter = 10000, multi_class='ovr', class_weight = w)\n",
        "\n",
        "  # Use metrics.accuracy_score to measure the score\n",
        "  #'macro' favors minority, 'weighted' favors majority, 'micro' favors none (when you have multiclass)\n",
        "  scores = []\n",
        "  precision = []\n",
        "  recall = []\n",
        "  for i in range(0, 10):\n",
        "    #Get 9 folds for training\n",
        "    xtrain = X_train[i]\n",
        "    ytrain = y_train[i]\n",
        "    lr.fit(xtrain, ytrain)\n",
        "\n",
        "    xtest = X_test[i]\n",
        "    ytest = y_test[i]\n",
        "    y_predict = lr.predict(xtest)\n",
        "    score = f1_score(ytest, y_predict)\n",
        "    scores.append(\"%.3f\" %score)\n",
        "    prec = precision_score(ytest, y_predict)\n",
        "    precision.append(\"%.3f\"%prec)\n",
        "    rec = recall_score(ytest, y_predict)\n",
        "    recall.append(rec)\n",
        "    # print(i)\n",
        "  return scores, precision, recall"
      ]
    },
    {
      "cell_type": "code",
      "source": [
        "df = pd.read_csv('/content/Labeled Posts - preprocessed_csv.csv')\n",
        "x = df['selftext'].tolist()\n",
        "x[243] = \"AB\"\n",
        "print(x[243])\n",
        "# X = df.loc[0:244]\n",
        "# for i, post in enumerate(X['selftext']):\n",
        "#   X['selftext'][i] = clean_text(post)\n",
        "#   if i == 243:\n",
        "#     print(X['selftext'][i])"
      ],
      "metadata": {
        "colab": {
          "base_uri": "https://localhost:8080/"
        },
        "id": "2w3zSy88eObm",
        "executionInfo": {
          "status": "ok",
          "timestamp": 1692025918968,
          "user_tz": 240,
          "elapsed": 148,
          "user": {
            "displayName": "Joongeun Choi",
            "userId": "16179959334871840414"
          }
        },
        "outputId": "4685601e-05c7-4574-edfc-3b10f5953077"
      },
      "execution_count": null,
      "outputs": [
        {
          "output_type": "stream",
          "name": "stdout",
          "text": [
            "AB\n"
          ]
        }
      ]
    },
    {
      "cell_type": "code",
      "execution_count": null,
      "metadata": {
        "id": "nQEXTjLQzk4m"
      },
      "outputs": [],
      "source": [
        "df = pd.read_csv('/content/Labeled Posts - preprocessed_csv.csv')\n",
        "def preprocess(length):\n",
        "  X = df['selftext'][0:length].tolist()\n",
        "  for i, post in enumerate(X):\n",
        "    X[i] = clean_text(post)\n",
        "  return X\n",
        "def vectorize(X, ngram):\n",
        "  if ngram == \"binary\":\n",
        "    vectorizer = CountVectorizer(binary=True)\n",
        "  elif ngram == \"unigram\":\n",
        "    vectorizer = CountVectorizer()\n",
        "  else:\n",
        "    vectorizer = CountVectorizer(ngram_range = (2, 2), binary=True) #Bigram/binary\n",
        "  bag = vectorizer.fit_transform(X)\n",
        "  #len(bag) == 100 - vectors of posts\n",
        "  bag = bag.toarray()\n",
        "  return bag\n",
        "\n",
        "def save_file(name, item):\n",
        "  with open(name, 'wb') as f:\n",
        "    pickle.dump(item, f)\n",
        "\n",
        "X = preprocess(3500)\n",
        "bag = vectorize(X, 'unigram')\n",
        "save_file(\"3500_unigram_binaryFalse\", bag)\n",
        "bag = vectorize(X, 'bigram')\n",
        "save_file(\"3500_bigram_binaryFalse\", bag)\n",
        "bag = vectorize(X, 'binary')\n",
        "save_file(\"3500_binary\", bag)"
      ]
    },
    {
      "cell_type": "code",
      "execution_count": null,
      "metadata": {
        "id": "GvQbSYXWAoai"
      },
      "outputs": [],
      "source": [
        "def get_folds(bag):\n",
        "  Y = df['labels'][0:length].tolist()\n",
        "  skf = StratifiedKFold(n_splits=10)\n",
        "  skf.get_n_splits(bag, Y)\n",
        "  X_train, y_train, X_test, y_test = [], [], [], []\n",
        "  for i, (train_index, test_index) in enumerate(skf.split(bag, Y)):\n",
        "    xtrain, ytrain, xtest, ytest = [], [], [], []\n",
        "    for j in train_index:\n",
        "      xtrain.append(bag[j])\n",
        "      ytrain.append(Y[j])\n",
        "    for j in test_index:\n",
        "      xtest.append(bag[j])\n",
        "      ytest.append(Y[j])\n",
        "    X_train.append(xtrain)\n",
        "    y_train.append(ytrain)\n",
        "    X_test.append(xtest)\n",
        "    y_test.append(ytest)\n",
        "  return X_train, y_train, X_test, y_test"
      ]
    },
    {
      "cell_type": "code",
      "execution_count": null,
      "metadata": {
        "id": "Wn5_h29HygeM"
      },
      "outputs": [],
      "source": [
        "def open_file(name):\n",
        "  with open(name, 'rb') as f:\n",
        "    return pickle.load(f)\n",
        "def average(lst):\n",
        "  s = 0\n",
        "  for i in lst:\n",
        "    s += float(i)\n",
        "  return s/len(lst)"
      ]
    },
    {
      "cell_type": "code",
      "execution_count": null,
      "metadata": {
        "colab": {
          "base_uri": "https://localhost:8080/"
        },
        "id": "veVPk0C17pnc",
        "outputId": "af9c9919-58a2-4f47-ef24-d767bdecc0a7",
        "executionInfo": {
          "status": "ok",
          "timestamp": 1692030011457,
          "user_tz": 240,
          "elapsed": 785527,
          "user": {
            "displayName": "Joongeun Choi",
            "userId": "16179959334871840414"
          }
        }
      },
      "outputs": [
        {
          "output_type": "stream",
          "name": "stdout",
          "text": [
            "['0.556', '0.385', '0.429', '0.593', '0.483', '0.400', '0.500', '0.519', '0.414', '0.562'] ['0.500', '0.500', '0.500', '0.727', '0.538', '0.429', '0.583', '0.636', '0.462', '0.562'] [0.625, 0.3125, 0.375, 0.5, 0.4375, 0.375, 0.4375, 0.4375, 0.375, 0.5625]\n",
            "3000 posts: \n",
            "---------------\n",
            "Scores for 2.0 : \n",
            "\n",
            "Precision 0.5437 0.913 0.5748\n",
            "Recall 0.44375 0.2625 0.39375\n",
            "Unigram F1: 0.484\n",
            "['0.556', '0.385', '0.429', '0.593', '0.483', '0.400', '0.500', '0.519', '0.414', '0.562']\n",
            "---------------\n",
            "Bigram F1: 0.394\n",
            "['0.609', '0.222', '0.435', '0.545', '0.222', '0.455', '0.300', '0.455', '0.476', '0.222']\n",
            "---------------\n",
            "Binary F1: 0.455\n",
            "['0.529', '0.348', '0.500', '0.615', '0.387', '0.387', '0.364', '0.483', '0.370', '0.571']\n",
            "---------------\n",
            "\n",
            "\n"
          ]
        }
      ],
      "source": [
        "df = pd.read_csv('/content/Labeled Posts - preprocessed_csv.csv')\n",
        "for i in [2.0]:\n",
        "  count = 0\n",
        "  for ind in df.index:\n",
        "    if df.loc[ind, \"labels\"] != i:\n",
        "      df.loc[ind, \"labels\"] = 0.0\n",
        "    else:\n",
        "      df.loc[ind, \"labels\"] = 1.0\n",
        "      count += 1\n",
        "  length = 3000\n",
        "  unigram, bigram, binary = [], [], []\n",
        "  #~33 seconds per fold (3500 posts) --> 5.5 minutes\n",
        "  while length < 3100:\n",
        "    unigram_bag = open_file(\"3500_unigram_binaryFalse\")\n",
        "    X_train, y_train, X_test, y_test = get_folds(unigram_bag[0:length])\n",
        "    unigram, p1, r1 = classify(X_train, y_train, X_test, y_test, length, count, i)\n",
        "    bigram_bag = open_file(\"3500_bigram_binaryFalse\")\n",
        "    X_train, y_train, X_test, y_test = get_folds(bigram_bag[0:length])\n",
        "    bigram, p2, r2 = classify(X_train, y_train, X_test, y_test, length, count, i)\n",
        "    binary_bag = open_file(\"3500_binary\")\n",
        "    X_train, y_train, X_test, y_test = get_folds(binary_bag[0:length])\n",
        "    binary, p3, r3 = classify(X_train, y_train, X_test, y_test, length, count, i)\n",
        "    print(length, \"posts: \")\n",
        "    print(\"-\"*15)\n",
        "    print(\"Scores for\", i, \": \\n\")\n",
        "    print(\"Precision\", average(p1), average(p2), average(p3))\n",
        "    print(\"Recall\", average(r1), average(r2), average(r3))\n",
        "    print(\"Unigram F1: %.3f\"%average(unigram))\n",
        "    print(unigram)\n",
        "    print(\"-\"*15)\n",
        "    print(\"Bigram F1: %.3f\"%average(bigram))\n",
        "    print(bigram)\n",
        "    print(\"-\"*15)\n",
        "    print(\"Binary F1: %.3f\"%average(binary))\n",
        "    print(binary)\n",
        "    print(\"-\"*15)\n",
        "    print(\"\\n\")\n",
        "    length += 500\n",
        "  df = pd.read_csv('/content/Labeled Posts - preprocessed_csv.csv')"
      ]
    }
  ],
  "metadata": {
    "colab": {
      "provenance": [
        {
          "file_id": "1vxc1Uin9QBhKGJwpwKhcYs8zU9KH9d-V",
          "timestamp": 1690455819253
        },
        {
          "file_id": "1zEI3cEllICPUaXCHHVY1MymBxXvp12fS",
          "timestamp": 1689834896579
        }
      ],
      "authorship_tag": "ABX9TyOL2Tt+TnWL33MEjPomtAE8"
    },
    "kernelspec": {
      "display_name": "Python 3",
      "name": "python3"
    },
    "language_info": {
      "name": "python"
    }
  },
  "nbformat": 4,
  "nbformat_minor": 0
}
