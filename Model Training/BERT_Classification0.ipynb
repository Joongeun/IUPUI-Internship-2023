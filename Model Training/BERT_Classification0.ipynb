{
  "nbformat": 4,
  "nbformat_minor": 0,
  "metadata": {
    "colab": {
      "provenance": [],
      "machine_shape": "hm",
      "gpuType": "V100",
      "authorship_tag": "ABX9TyOl7WDgxEVD34ltYyKX8Cyp",
      "include_colab_link": true
    },
    "kernelspec": {
      "name": "python3",
      "display_name": "Python 3"
    },
    "language_info": {
      "name": "python"
    },
    "accelerator": "GPU",
    "widgets": {
      "application/vnd.jupyter.widget-state+json": {
        "e82e2dde9206464ca20dfce8101d273a": {
          "model_module": "@jupyter-widgets/controls",
          "model_name": "HBoxModel",
          "model_module_version": "1.5.0",
          "state": {
            "_dom_classes": [],
            "_model_module": "@jupyter-widgets/controls",
            "_model_module_version": "1.5.0",
            "_model_name": "HBoxModel",
            "_view_count": null,
            "_view_module": "@jupyter-widgets/controls",
            "_view_module_version": "1.5.0",
            "_view_name": "HBoxView",
            "box_style": "",
            "children": [
              "IPY_MODEL_4876a5a7638a4331aa5dc9e871d7b410",
              "IPY_MODEL_c5cbae5a883b45adafc1285ee1927854",
              "IPY_MODEL_73c43602d26c47f0b6feb4cd2be71ffa"
            ],
            "layout": "IPY_MODEL_afa9839edc094cceb216347b28d72201"
          }
        },
        "4876a5a7638a4331aa5dc9e871d7b410": {
          "model_module": "@jupyter-widgets/controls",
          "model_name": "HTMLModel",
          "model_module_version": "1.5.0",
          "state": {
            "_dom_classes": [],
            "_model_module": "@jupyter-widgets/controls",
            "_model_module_version": "1.5.0",
            "_model_name": "HTMLModel",
            "_view_count": null,
            "_view_module": "@jupyter-widgets/controls",
            "_view_module_version": "1.5.0",
            "_view_name": "HTMLView",
            "description": "",
            "description_tooltip": null,
            "layout": "IPY_MODEL_5f5975c2583d4fac86f4729e36c903f3",
            "placeholder": "​",
            "style": "IPY_MODEL_6ece799d292c4b7a9a688cef62960ed3",
            "value": "Downloading (…)solve/main/vocab.txt: 100%"
          }
        },
        "c5cbae5a883b45adafc1285ee1927854": {
          "model_module": "@jupyter-widgets/controls",
          "model_name": "FloatProgressModel",
          "model_module_version": "1.5.0",
          "state": {
            "_dom_classes": [],
            "_model_module": "@jupyter-widgets/controls",
            "_model_module_version": "1.5.0",
            "_model_name": "FloatProgressModel",
            "_view_count": null,
            "_view_module": "@jupyter-widgets/controls",
            "_view_module_version": "1.5.0",
            "_view_name": "ProgressView",
            "bar_style": "success",
            "description": "",
            "description_tooltip": null,
            "layout": "IPY_MODEL_436644c6c8a94a2babceebde82dd7c39",
            "max": 231508,
            "min": 0,
            "orientation": "horizontal",
            "style": "IPY_MODEL_378949ae69b44c3fa8f2a46fcaeccc01",
            "value": 231508
          }
        },
        "73c43602d26c47f0b6feb4cd2be71ffa": {
          "model_module": "@jupyter-widgets/controls",
          "model_name": "HTMLModel",
          "model_module_version": "1.5.0",
          "state": {
            "_dom_classes": [],
            "_model_module": "@jupyter-widgets/controls",
            "_model_module_version": "1.5.0",
            "_model_name": "HTMLModel",
            "_view_count": null,
            "_view_module": "@jupyter-widgets/controls",
            "_view_module_version": "1.5.0",
            "_view_name": "HTMLView",
            "description": "",
            "description_tooltip": null,
            "layout": "IPY_MODEL_8f19336eb5dc48c8a296ac02dbfa2361",
            "placeholder": "​",
            "style": "IPY_MODEL_774949bdca6d48abafa7ea0730430418",
            "value": " 232k/232k [00:00&lt;00:00, 594kB/s]"
          }
        },
        "afa9839edc094cceb216347b28d72201": {
          "model_module": "@jupyter-widgets/base",
          "model_name": "LayoutModel",
          "model_module_version": "1.2.0",
          "state": {
            "_model_module": "@jupyter-widgets/base",
            "_model_module_version": "1.2.0",
            "_model_name": "LayoutModel",
            "_view_count": null,
            "_view_module": "@jupyter-widgets/base",
            "_view_module_version": "1.2.0",
            "_view_name": "LayoutView",
            "align_content": null,
            "align_items": null,
            "align_self": null,
            "border": null,
            "bottom": null,
            "display": null,
            "flex": null,
            "flex_flow": null,
            "grid_area": null,
            "grid_auto_columns": null,
            "grid_auto_flow": null,
            "grid_auto_rows": null,
            "grid_column": null,
            "grid_gap": null,
            "grid_row": null,
            "grid_template_areas": null,
            "grid_template_columns": null,
            "grid_template_rows": null,
            "height": null,
            "justify_content": null,
            "justify_items": null,
            "left": null,
            "margin": null,
            "max_height": null,
            "max_width": null,
            "min_height": null,
            "min_width": null,
            "object_fit": null,
            "object_position": null,
            "order": null,
            "overflow": null,
            "overflow_x": null,
            "overflow_y": null,
            "padding": null,
            "right": null,
            "top": null,
            "visibility": null,
            "width": null
          }
        },
        "5f5975c2583d4fac86f4729e36c903f3": {
          "model_module": "@jupyter-widgets/base",
          "model_name": "LayoutModel",
          "model_module_version": "1.2.0",
          "state": {
            "_model_module": "@jupyter-widgets/base",
            "_model_module_version": "1.2.0",
            "_model_name": "LayoutModel",
            "_view_count": null,
            "_view_module": "@jupyter-widgets/base",
            "_view_module_version": "1.2.0",
            "_view_name": "LayoutView",
            "align_content": null,
            "align_items": null,
            "align_self": null,
            "border": null,
            "bottom": null,
            "display": null,
            "flex": null,
            "flex_flow": null,
            "grid_area": null,
            "grid_auto_columns": null,
            "grid_auto_flow": null,
            "grid_auto_rows": null,
            "grid_column": null,
            "grid_gap": null,
            "grid_row": null,
            "grid_template_areas": null,
            "grid_template_columns": null,
            "grid_template_rows": null,
            "height": null,
            "justify_content": null,
            "justify_items": null,
            "left": null,
            "margin": null,
            "max_height": null,
            "max_width": null,
            "min_height": null,
            "min_width": null,
            "object_fit": null,
            "object_position": null,
            "order": null,
            "overflow": null,
            "overflow_x": null,
            "overflow_y": null,
            "padding": null,
            "right": null,
            "top": null,
            "visibility": null,
            "width": null
          }
        },
        "6ece799d292c4b7a9a688cef62960ed3": {
          "model_module": "@jupyter-widgets/controls",
          "model_name": "DescriptionStyleModel",
          "model_module_version": "1.5.0",
          "state": {
            "_model_module": "@jupyter-widgets/controls",
            "_model_module_version": "1.5.0",
            "_model_name": "DescriptionStyleModel",
            "_view_count": null,
            "_view_module": "@jupyter-widgets/base",
            "_view_module_version": "1.2.0",
            "_view_name": "StyleView",
            "description_width": ""
          }
        },
        "436644c6c8a94a2babceebde82dd7c39": {
          "model_module": "@jupyter-widgets/base",
          "model_name": "LayoutModel",
          "model_module_version": "1.2.0",
          "state": {
            "_model_module": "@jupyter-widgets/base",
            "_model_module_version": "1.2.0",
            "_model_name": "LayoutModel",
            "_view_count": null,
            "_view_module": "@jupyter-widgets/base",
            "_view_module_version": "1.2.0",
            "_view_name": "LayoutView",
            "align_content": null,
            "align_items": null,
            "align_self": null,
            "border": null,
            "bottom": null,
            "display": null,
            "flex": null,
            "flex_flow": null,
            "grid_area": null,
            "grid_auto_columns": null,
            "grid_auto_flow": null,
            "grid_auto_rows": null,
            "grid_column": null,
            "grid_gap": null,
            "grid_row": null,
            "grid_template_areas": null,
            "grid_template_columns": null,
            "grid_template_rows": null,
            "height": null,
            "justify_content": null,
            "justify_items": null,
            "left": null,
            "margin": null,
            "max_height": null,
            "max_width": null,
            "min_height": null,
            "min_width": null,
            "object_fit": null,
            "object_position": null,
            "order": null,
            "overflow": null,
            "overflow_x": null,
            "overflow_y": null,
            "padding": null,
            "right": null,
            "top": null,
            "visibility": null,
            "width": null
          }
        },
        "378949ae69b44c3fa8f2a46fcaeccc01": {
          "model_module": "@jupyter-widgets/controls",
          "model_name": "ProgressStyleModel",
          "model_module_version": "1.5.0",
          "state": {
            "_model_module": "@jupyter-widgets/controls",
            "_model_module_version": "1.5.0",
            "_model_name": "ProgressStyleModel",
            "_view_count": null,
            "_view_module": "@jupyter-widgets/base",
            "_view_module_version": "1.2.0",
            "_view_name": "StyleView",
            "bar_color": null,
            "description_width": ""
          }
        },
        "8f19336eb5dc48c8a296ac02dbfa2361": {
          "model_module": "@jupyter-widgets/base",
          "model_name": "LayoutModel",
          "model_module_version": "1.2.0",
          "state": {
            "_model_module": "@jupyter-widgets/base",
            "_model_module_version": "1.2.0",
            "_model_name": "LayoutModel",
            "_view_count": null,
            "_view_module": "@jupyter-widgets/base",
            "_view_module_version": "1.2.0",
            "_view_name": "LayoutView",
            "align_content": null,
            "align_items": null,
            "align_self": null,
            "border": null,
            "bottom": null,
            "display": null,
            "flex": null,
            "flex_flow": null,
            "grid_area": null,
            "grid_auto_columns": null,
            "grid_auto_flow": null,
            "grid_auto_rows": null,
            "grid_column": null,
            "grid_gap": null,
            "grid_row": null,
            "grid_template_areas": null,
            "grid_template_columns": null,
            "grid_template_rows": null,
            "height": null,
            "justify_content": null,
            "justify_items": null,
            "left": null,
            "margin": null,
            "max_height": null,
            "max_width": null,
            "min_height": null,
            "min_width": null,
            "object_fit": null,
            "object_position": null,
            "order": null,
            "overflow": null,
            "overflow_x": null,
            "overflow_y": null,
            "padding": null,
            "right": null,
            "top": null,
            "visibility": null,
            "width": null
          }
        },
        "774949bdca6d48abafa7ea0730430418": {
          "model_module": "@jupyter-widgets/controls",
          "model_name": "DescriptionStyleModel",
          "model_module_version": "1.5.0",
          "state": {
            "_model_module": "@jupyter-widgets/controls",
            "_model_module_version": "1.5.0",
            "_model_name": "DescriptionStyleModel",
            "_view_count": null,
            "_view_module": "@jupyter-widgets/base",
            "_view_module_version": "1.2.0",
            "_view_name": "StyleView",
            "description_width": ""
          }
        },
        "b754e331f0ee4400b92cd92f7596781e": {
          "model_module": "@jupyter-widgets/controls",
          "model_name": "HBoxModel",
          "model_module_version": "1.5.0",
          "state": {
            "_dom_classes": [],
            "_model_module": "@jupyter-widgets/controls",
            "_model_module_version": "1.5.0",
            "_model_name": "HBoxModel",
            "_view_count": null,
            "_view_module": "@jupyter-widgets/controls",
            "_view_module_version": "1.5.0",
            "_view_name": "HBoxView",
            "box_style": "",
            "children": [
              "IPY_MODEL_84d097c1856a40c3ac343cd622337b81",
              "IPY_MODEL_55a259e7a3c548c38bcd160f2ca4b071",
              "IPY_MODEL_18016108afbc402ea7bdf3ca946ec9a1"
            ],
            "layout": "IPY_MODEL_f46428930bad4e4aad12b53aa447edb0"
          }
        },
        "84d097c1856a40c3ac343cd622337b81": {
          "model_module": "@jupyter-widgets/controls",
          "model_name": "HTMLModel",
          "model_module_version": "1.5.0",
          "state": {
            "_dom_classes": [],
            "_model_module": "@jupyter-widgets/controls",
            "_model_module_version": "1.5.0",
            "_model_name": "HTMLModel",
            "_view_count": null,
            "_view_module": "@jupyter-widgets/controls",
            "_view_module_version": "1.5.0",
            "_view_name": "HTMLView",
            "description": "",
            "description_tooltip": null,
            "layout": "IPY_MODEL_7c0c40db970e40148b30a1ca26646609",
            "placeholder": "​",
            "style": "IPY_MODEL_749b0682e2df467f8d797fd5633e1e19",
            "value": "Downloading (…)okenizer_config.json: 100%"
          }
        },
        "55a259e7a3c548c38bcd160f2ca4b071": {
          "model_module": "@jupyter-widgets/controls",
          "model_name": "FloatProgressModel",
          "model_module_version": "1.5.0",
          "state": {
            "_dom_classes": [],
            "_model_module": "@jupyter-widgets/controls",
            "_model_module_version": "1.5.0",
            "_model_name": "FloatProgressModel",
            "_view_count": null,
            "_view_module": "@jupyter-widgets/controls",
            "_view_module_version": "1.5.0",
            "_view_name": "ProgressView",
            "bar_style": "success",
            "description": "",
            "description_tooltip": null,
            "layout": "IPY_MODEL_88f4206dafb74f84b65f89eee8f3bdab",
            "max": 28,
            "min": 0,
            "orientation": "horizontal",
            "style": "IPY_MODEL_a19f76919d0940499380c13b54c3dee4",
            "value": 28
          }
        },
        "18016108afbc402ea7bdf3ca946ec9a1": {
          "model_module": "@jupyter-widgets/controls",
          "model_name": "HTMLModel",
          "model_module_version": "1.5.0",
          "state": {
            "_dom_classes": [],
            "_model_module": "@jupyter-widgets/controls",
            "_model_module_version": "1.5.0",
            "_model_name": "HTMLModel",
            "_view_count": null,
            "_view_module": "@jupyter-widgets/controls",
            "_view_module_version": "1.5.0",
            "_view_name": "HTMLView",
            "description": "",
            "description_tooltip": null,
            "layout": "IPY_MODEL_5b69c59379dc49ad8819d180570fbc90",
            "placeholder": "​",
            "style": "IPY_MODEL_5f89ac1e9bbc4c71b3648f4612fce201",
            "value": " 28.0/28.0 [00:00&lt;00:00, 1.87kB/s]"
          }
        },
        "f46428930bad4e4aad12b53aa447edb0": {
          "model_module": "@jupyter-widgets/base",
          "model_name": "LayoutModel",
          "model_module_version": "1.2.0",
          "state": {
            "_model_module": "@jupyter-widgets/base",
            "_model_module_version": "1.2.0",
            "_model_name": "LayoutModel",
            "_view_count": null,
            "_view_module": "@jupyter-widgets/base",
            "_view_module_version": "1.2.0",
            "_view_name": "LayoutView",
            "align_content": null,
            "align_items": null,
            "align_self": null,
            "border": null,
            "bottom": null,
            "display": null,
            "flex": null,
            "flex_flow": null,
            "grid_area": null,
            "grid_auto_columns": null,
            "grid_auto_flow": null,
            "grid_auto_rows": null,
            "grid_column": null,
            "grid_gap": null,
            "grid_row": null,
            "grid_template_areas": null,
            "grid_template_columns": null,
            "grid_template_rows": null,
            "height": null,
            "justify_content": null,
            "justify_items": null,
            "left": null,
            "margin": null,
            "max_height": null,
            "max_width": null,
            "min_height": null,
            "min_width": null,
            "object_fit": null,
            "object_position": null,
            "order": null,
            "overflow": null,
            "overflow_x": null,
            "overflow_y": null,
            "padding": null,
            "right": null,
            "top": null,
            "visibility": null,
            "width": null
          }
        },
        "7c0c40db970e40148b30a1ca26646609": {
          "model_module": "@jupyter-widgets/base",
          "model_name": "LayoutModel",
          "model_module_version": "1.2.0",
          "state": {
            "_model_module": "@jupyter-widgets/base",
            "_model_module_version": "1.2.0",
            "_model_name": "LayoutModel",
            "_view_count": null,
            "_view_module": "@jupyter-widgets/base",
            "_view_module_version": "1.2.0",
            "_view_name": "LayoutView",
            "align_content": null,
            "align_items": null,
            "align_self": null,
            "border": null,
            "bottom": null,
            "display": null,
            "flex": null,
            "flex_flow": null,
            "grid_area": null,
            "grid_auto_columns": null,
            "grid_auto_flow": null,
            "grid_auto_rows": null,
            "grid_column": null,
            "grid_gap": null,
            "grid_row": null,
            "grid_template_areas": null,
            "grid_template_columns": null,
            "grid_template_rows": null,
            "height": null,
            "justify_content": null,
            "justify_items": null,
            "left": null,
            "margin": null,
            "max_height": null,
            "max_width": null,
            "min_height": null,
            "min_width": null,
            "object_fit": null,
            "object_position": null,
            "order": null,
            "overflow": null,
            "overflow_x": null,
            "overflow_y": null,
            "padding": null,
            "right": null,
            "top": null,
            "visibility": null,
            "width": null
          }
        },
        "749b0682e2df467f8d797fd5633e1e19": {
          "model_module": "@jupyter-widgets/controls",
          "model_name": "DescriptionStyleModel",
          "model_module_version": "1.5.0",
          "state": {
            "_model_module": "@jupyter-widgets/controls",
            "_model_module_version": "1.5.0",
            "_model_name": "DescriptionStyleModel",
            "_view_count": null,
            "_view_module": "@jupyter-widgets/base",
            "_view_module_version": "1.2.0",
            "_view_name": "StyleView",
            "description_width": ""
          }
        },
        "88f4206dafb74f84b65f89eee8f3bdab": {
          "model_module": "@jupyter-widgets/base",
          "model_name": "LayoutModel",
          "model_module_version": "1.2.0",
          "state": {
            "_model_module": "@jupyter-widgets/base",
            "_model_module_version": "1.2.0",
            "_model_name": "LayoutModel",
            "_view_count": null,
            "_view_module": "@jupyter-widgets/base",
            "_view_module_version": "1.2.0",
            "_view_name": "LayoutView",
            "align_content": null,
            "align_items": null,
            "align_self": null,
            "border": null,
            "bottom": null,
            "display": null,
            "flex": null,
            "flex_flow": null,
            "grid_area": null,
            "grid_auto_columns": null,
            "grid_auto_flow": null,
            "grid_auto_rows": null,
            "grid_column": null,
            "grid_gap": null,
            "grid_row": null,
            "grid_template_areas": null,
            "grid_template_columns": null,
            "grid_template_rows": null,
            "height": null,
            "justify_content": null,
            "justify_items": null,
            "left": null,
            "margin": null,
            "max_height": null,
            "max_width": null,
            "min_height": null,
            "min_width": null,
            "object_fit": null,
            "object_position": null,
            "order": null,
            "overflow": null,
            "overflow_x": null,
            "overflow_y": null,
            "padding": null,
            "right": null,
            "top": null,
            "visibility": null,
            "width": null
          }
        },
        "a19f76919d0940499380c13b54c3dee4": {
          "model_module": "@jupyter-widgets/controls",
          "model_name": "ProgressStyleModel",
          "model_module_version": "1.5.0",
          "state": {
            "_model_module": "@jupyter-widgets/controls",
            "_model_module_version": "1.5.0",
            "_model_name": "ProgressStyleModel",
            "_view_count": null,
            "_view_module": "@jupyter-widgets/base",
            "_view_module_version": "1.2.0",
            "_view_name": "StyleView",
            "bar_color": null,
            "description_width": ""
          }
        },
        "5b69c59379dc49ad8819d180570fbc90": {
          "model_module": "@jupyter-widgets/base",
          "model_name": "LayoutModel",
          "model_module_version": "1.2.0",
          "state": {
            "_model_module": "@jupyter-widgets/base",
            "_model_module_version": "1.2.0",
            "_model_name": "LayoutModel",
            "_view_count": null,
            "_view_module": "@jupyter-widgets/base",
            "_view_module_version": "1.2.0",
            "_view_name": "LayoutView",
            "align_content": null,
            "align_items": null,
            "align_self": null,
            "border": null,
            "bottom": null,
            "display": null,
            "flex": null,
            "flex_flow": null,
            "grid_area": null,
            "grid_auto_columns": null,
            "grid_auto_flow": null,
            "grid_auto_rows": null,
            "grid_column": null,
            "grid_gap": null,
            "grid_row": null,
            "grid_template_areas": null,
            "grid_template_columns": null,
            "grid_template_rows": null,
            "height": null,
            "justify_content": null,
            "justify_items": null,
            "left": null,
            "margin": null,
            "max_height": null,
            "max_width": null,
            "min_height": null,
            "min_width": null,
            "object_fit": null,
            "object_position": null,
            "order": null,
            "overflow": null,
            "overflow_x": null,
            "overflow_y": null,
            "padding": null,
            "right": null,
            "top": null,
            "visibility": null,
            "width": null
          }
        },
        "5f89ac1e9bbc4c71b3648f4612fce201": {
          "model_module": "@jupyter-widgets/controls",
          "model_name": "DescriptionStyleModel",
          "model_module_version": "1.5.0",
          "state": {
            "_model_module": "@jupyter-widgets/controls",
            "_model_module_version": "1.5.0",
            "_model_name": "DescriptionStyleModel",
            "_view_count": null,
            "_view_module": "@jupyter-widgets/base",
            "_view_module_version": "1.2.0",
            "_view_name": "StyleView",
            "description_width": ""
          }
        },
        "e4f93f1702344544af378f956b63c732": {
          "model_module": "@jupyter-widgets/controls",
          "model_name": "HBoxModel",
          "model_module_version": "1.5.0",
          "state": {
            "_dom_classes": [],
            "_model_module": "@jupyter-widgets/controls",
            "_model_module_version": "1.5.0",
            "_model_name": "HBoxModel",
            "_view_count": null,
            "_view_module": "@jupyter-widgets/controls",
            "_view_module_version": "1.5.0",
            "_view_name": "HBoxView",
            "box_style": "",
            "children": [
              "IPY_MODEL_a4f351f62e5b432e8cddd0b253fd4a6f",
              "IPY_MODEL_42505cffc373439487eaea4613a8e754",
              "IPY_MODEL_adb550e82e514257a6210b8c6812f1a9"
            ],
            "layout": "IPY_MODEL_077a2357d299464196bd0d350addf221"
          }
        },
        "a4f351f62e5b432e8cddd0b253fd4a6f": {
          "model_module": "@jupyter-widgets/controls",
          "model_name": "HTMLModel",
          "model_module_version": "1.5.0",
          "state": {
            "_dom_classes": [],
            "_model_module": "@jupyter-widgets/controls",
            "_model_module_version": "1.5.0",
            "_model_name": "HTMLModel",
            "_view_count": null,
            "_view_module": "@jupyter-widgets/controls",
            "_view_module_version": "1.5.0",
            "_view_name": "HTMLView",
            "description": "",
            "description_tooltip": null,
            "layout": "IPY_MODEL_0e0d364c32da4238b50e61e19ad2eb9b",
            "placeholder": "​",
            "style": "IPY_MODEL_8e275f01b90f419b89e7eba3957643e9",
            "value": "Downloading (…)lve/main/config.json: 100%"
          }
        },
        "42505cffc373439487eaea4613a8e754": {
          "model_module": "@jupyter-widgets/controls",
          "model_name": "FloatProgressModel",
          "model_module_version": "1.5.0",
          "state": {
            "_dom_classes": [],
            "_model_module": "@jupyter-widgets/controls",
            "_model_module_version": "1.5.0",
            "_model_name": "FloatProgressModel",
            "_view_count": null,
            "_view_module": "@jupyter-widgets/controls",
            "_view_module_version": "1.5.0",
            "_view_name": "ProgressView",
            "bar_style": "success",
            "description": "",
            "description_tooltip": null,
            "layout": "IPY_MODEL_95f2d60ea50b47e68678a12eba98838f",
            "max": 570,
            "min": 0,
            "orientation": "horizontal",
            "style": "IPY_MODEL_bb4bb5194414451f8a8381bffc1e1ed1",
            "value": 570
          }
        },
        "adb550e82e514257a6210b8c6812f1a9": {
          "model_module": "@jupyter-widgets/controls",
          "model_name": "HTMLModel",
          "model_module_version": "1.5.0",
          "state": {
            "_dom_classes": [],
            "_model_module": "@jupyter-widgets/controls",
            "_model_module_version": "1.5.0",
            "_model_name": "HTMLModel",
            "_view_count": null,
            "_view_module": "@jupyter-widgets/controls",
            "_view_module_version": "1.5.0",
            "_view_name": "HTMLView",
            "description": "",
            "description_tooltip": null,
            "layout": "IPY_MODEL_2201394d08204275818738e14cf76f7d",
            "placeholder": "​",
            "style": "IPY_MODEL_6c06df95c3c8492c84b04d5959fd08f3",
            "value": " 570/570 [00:00&lt;00:00, 48.4kB/s]"
          }
        },
        "077a2357d299464196bd0d350addf221": {
          "model_module": "@jupyter-widgets/base",
          "model_name": "LayoutModel",
          "model_module_version": "1.2.0",
          "state": {
            "_model_module": "@jupyter-widgets/base",
            "_model_module_version": "1.2.0",
            "_model_name": "LayoutModel",
            "_view_count": null,
            "_view_module": "@jupyter-widgets/base",
            "_view_module_version": "1.2.0",
            "_view_name": "LayoutView",
            "align_content": null,
            "align_items": null,
            "align_self": null,
            "border": null,
            "bottom": null,
            "display": null,
            "flex": null,
            "flex_flow": null,
            "grid_area": null,
            "grid_auto_columns": null,
            "grid_auto_flow": null,
            "grid_auto_rows": null,
            "grid_column": null,
            "grid_gap": null,
            "grid_row": null,
            "grid_template_areas": null,
            "grid_template_columns": null,
            "grid_template_rows": null,
            "height": null,
            "justify_content": null,
            "justify_items": null,
            "left": null,
            "margin": null,
            "max_height": null,
            "max_width": null,
            "min_height": null,
            "min_width": null,
            "object_fit": null,
            "object_position": null,
            "order": null,
            "overflow": null,
            "overflow_x": null,
            "overflow_y": null,
            "padding": null,
            "right": null,
            "top": null,
            "visibility": null,
            "width": null
          }
        },
        "0e0d364c32da4238b50e61e19ad2eb9b": {
          "model_module": "@jupyter-widgets/base",
          "model_name": "LayoutModel",
          "model_module_version": "1.2.0",
          "state": {
            "_model_module": "@jupyter-widgets/base",
            "_model_module_version": "1.2.0",
            "_model_name": "LayoutModel",
            "_view_count": null,
            "_view_module": "@jupyter-widgets/base",
            "_view_module_version": "1.2.0",
            "_view_name": "LayoutView",
            "align_content": null,
            "align_items": null,
            "align_self": null,
            "border": null,
            "bottom": null,
            "display": null,
            "flex": null,
            "flex_flow": null,
            "grid_area": null,
            "grid_auto_columns": null,
            "grid_auto_flow": null,
            "grid_auto_rows": null,
            "grid_column": null,
            "grid_gap": null,
            "grid_row": null,
            "grid_template_areas": null,
            "grid_template_columns": null,
            "grid_template_rows": null,
            "height": null,
            "justify_content": null,
            "justify_items": null,
            "left": null,
            "margin": null,
            "max_height": null,
            "max_width": null,
            "min_height": null,
            "min_width": null,
            "object_fit": null,
            "object_position": null,
            "order": null,
            "overflow": null,
            "overflow_x": null,
            "overflow_y": null,
            "padding": null,
            "right": null,
            "top": null,
            "visibility": null,
            "width": null
          }
        },
        "8e275f01b90f419b89e7eba3957643e9": {
          "model_module": "@jupyter-widgets/controls",
          "model_name": "DescriptionStyleModel",
          "model_module_version": "1.5.0",
          "state": {
            "_model_module": "@jupyter-widgets/controls",
            "_model_module_version": "1.5.0",
            "_model_name": "DescriptionStyleModel",
            "_view_count": null,
            "_view_module": "@jupyter-widgets/base",
            "_view_module_version": "1.2.0",
            "_view_name": "StyleView",
            "description_width": ""
          }
        },
        "95f2d60ea50b47e68678a12eba98838f": {
          "model_module": "@jupyter-widgets/base",
          "model_name": "LayoutModel",
          "model_module_version": "1.2.0",
          "state": {
            "_model_module": "@jupyter-widgets/base",
            "_model_module_version": "1.2.0",
            "_model_name": "LayoutModel",
            "_view_count": null,
            "_view_module": "@jupyter-widgets/base",
            "_view_module_version": "1.2.0",
            "_view_name": "LayoutView",
            "align_content": null,
            "align_items": null,
            "align_self": null,
            "border": null,
            "bottom": null,
            "display": null,
            "flex": null,
            "flex_flow": null,
            "grid_area": null,
            "grid_auto_columns": null,
            "grid_auto_flow": null,
            "grid_auto_rows": null,
            "grid_column": null,
            "grid_gap": null,
            "grid_row": null,
            "grid_template_areas": null,
            "grid_template_columns": null,
            "grid_template_rows": null,
            "height": null,
            "justify_content": null,
            "justify_items": null,
            "left": null,
            "margin": null,
            "max_height": null,
            "max_width": null,
            "min_height": null,
            "min_width": null,
            "object_fit": null,
            "object_position": null,
            "order": null,
            "overflow": null,
            "overflow_x": null,
            "overflow_y": null,
            "padding": null,
            "right": null,
            "top": null,
            "visibility": null,
            "width": null
          }
        },
        "bb4bb5194414451f8a8381bffc1e1ed1": {
          "model_module": "@jupyter-widgets/controls",
          "model_name": "ProgressStyleModel",
          "model_module_version": "1.5.0",
          "state": {
            "_model_module": "@jupyter-widgets/controls",
            "_model_module_version": "1.5.0",
            "_model_name": "ProgressStyleModel",
            "_view_count": null,
            "_view_module": "@jupyter-widgets/base",
            "_view_module_version": "1.2.0",
            "_view_name": "StyleView",
            "bar_color": null,
            "description_width": ""
          }
        },
        "2201394d08204275818738e14cf76f7d": {
          "model_module": "@jupyter-widgets/base",
          "model_name": "LayoutModel",
          "model_module_version": "1.2.0",
          "state": {
            "_model_module": "@jupyter-widgets/base",
            "_model_module_version": "1.2.0",
            "_model_name": "LayoutModel",
            "_view_count": null,
            "_view_module": "@jupyter-widgets/base",
            "_view_module_version": "1.2.0",
            "_view_name": "LayoutView",
            "align_content": null,
            "align_items": null,
            "align_self": null,
            "border": null,
            "bottom": null,
            "display": null,
            "flex": null,
            "flex_flow": null,
            "grid_area": null,
            "grid_auto_columns": null,
            "grid_auto_flow": null,
            "grid_auto_rows": null,
            "grid_column": null,
            "grid_gap": null,
            "grid_row": null,
            "grid_template_areas": null,
            "grid_template_columns": null,
            "grid_template_rows": null,
            "height": null,
            "justify_content": null,
            "justify_items": null,
            "left": null,
            "margin": null,
            "max_height": null,
            "max_width": null,
            "min_height": null,
            "min_width": null,
            "object_fit": null,
            "object_position": null,
            "order": null,
            "overflow": null,
            "overflow_x": null,
            "overflow_y": null,
            "padding": null,
            "right": null,
            "top": null,
            "visibility": null,
            "width": null
          }
        },
        "6c06df95c3c8492c84b04d5959fd08f3": {
          "model_module": "@jupyter-widgets/controls",
          "model_name": "DescriptionStyleModel",
          "model_module_version": "1.5.0",
          "state": {
            "_model_module": "@jupyter-widgets/controls",
            "_model_module_version": "1.5.0",
            "_model_name": "DescriptionStyleModel",
            "_view_count": null,
            "_view_module": "@jupyter-widgets/base",
            "_view_module_version": "1.2.0",
            "_view_name": "StyleView",
            "description_width": ""
          }
        },
        "4944964221884c38adf0c5a21528b4fa": {
          "model_module": "@jupyter-widgets/controls",
          "model_name": "HBoxModel",
          "model_module_version": "1.5.0",
          "state": {
            "_dom_classes": [],
            "_model_module": "@jupyter-widgets/controls",
            "_model_module_version": "1.5.0",
            "_model_name": "HBoxModel",
            "_view_count": null,
            "_view_module": "@jupyter-widgets/controls",
            "_view_module_version": "1.5.0",
            "_view_name": "HBoxView",
            "box_style": "",
            "children": [
              "IPY_MODEL_95bcb1c70bea41f49383519596d10d0e",
              "IPY_MODEL_a22a9307960a4f72a6f2a2b5d9fdcea2",
              "IPY_MODEL_14618bae8a314dfe8269d5f5d35a86e4"
            ],
            "layout": "IPY_MODEL_3b1bd5e9af0b43b19f72a392d79bc344"
          }
        },
        "95bcb1c70bea41f49383519596d10d0e": {
          "model_module": "@jupyter-widgets/controls",
          "model_name": "HTMLModel",
          "model_module_version": "1.5.0",
          "state": {
            "_dom_classes": [],
            "_model_module": "@jupyter-widgets/controls",
            "_model_module_version": "1.5.0",
            "_model_name": "HTMLModel",
            "_view_count": null,
            "_view_module": "@jupyter-widgets/controls",
            "_view_module_version": "1.5.0",
            "_view_name": "HTMLView",
            "description": "",
            "description_tooltip": null,
            "layout": "IPY_MODEL_905741299ec54e9691ce0f66eb3dc94c",
            "placeholder": "​",
            "style": "IPY_MODEL_d60123704c474cd095803e1412f92a93",
            "value": "Downloading model.safetensors: 100%"
          }
        },
        "a22a9307960a4f72a6f2a2b5d9fdcea2": {
          "model_module": "@jupyter-widgets/controls",
          "model_name": "FloatProgressModel",
          "model_module_version": "1.5.0",
          "state": {
            "_dom_classes": [],
            "_model_module": "@jupyter-widgets/controls",
            "_model_module_version": "1.5.0",
            "_model_name": "FloatProgressModel",
            "_view_count": null,
            "_view_module": "@jupyter-widgets/controls",
            "_view_module_version": "1.5.0",
            "_view_name": "ProgressView",
            "bar_style": "success",
            "description": "",
            "description_tooltip": null,
            "layout": "IPY_MODEL_298c243a747845b19cc1b901135b522a",
            "max": 440449768,
            "min": 0,
            "orientation": "horizontal",
            "style": "IPY_MODEL_e43fd39f18524ea293b6dbcba302de72",
            "value": 440449768
          }
        },
        "14618bae8a314dfe8269d5f5d35a86e4": {
          "model_module": "@jupyter-widgets/controls",
          "model_name": "HTMLModel",
          "model_module_version": "1.5.0",
          "state": {
            "_dom_classes": [],
            "_model_module": "@jupyter-widgets/controls",
            "_model_module_version": "1.5.0",
            "_model_name": "HTMLModel",
            "_view_count": null,
            "_view_module": "@jupyter-widgets/controls",
            "_view_module_version": "1.5.0",
            "_view_name": "HTMLView",
            "description": "",
            "description_tooltip": null,
            "layout": "IPY_MODEL_fa484794239e4e358791be18e2b178c6",
            "placeholder": "​",
            "style": "IPY_MODEL_b1633ad205dc4e1697a026b707632e46",
            "value": " 440M/440M [00:01&lt;00:00, 429MB/s]"
          }
        },
        "3b1bd5e9af0b43b19f72a392d79bc344": {
          "model_module": "@jupyter-widgets/base",
          "model_name": "LayoutModel",
          "model_module_version": "1.2.0",
          "state": {
            "_model_module": "@jupyter-widgets/base",
            "_model_module_version": "1.2.0",
            "_model_name": "LayoutModel",
            "_view_count": null,
            "_view_module": "@jupyter-widgets/base",
            "_view_module_version": "1.2.0",
            "_view_name": "LayoutView",
            "align_content": null,
            "align_items": null,
            "align_self": null,
            "border": null,
            "bottom": null,
            "display": null,
            "flex": null,
            "flex_flow": null,
            "grid_area": null,
            "grid_auto_columns": null,
            "grid_auto_flow": null,
            "grid_auto_rows": null,
            "grid_column": null,
            "grid_gap": null,
            "grid_row": null,
            "grid_template_areas": null,
            "grid_template_columns": null,
            "grid_template_rows": null,
            "height": null,
            "justify_content": null,
            "justify_items": null,
            "left": null,
            "margin": null,
            "max_height": null,
            "max_width": null,
            "min_height": null,
            "min_width": null,
            "object_fit": null,
            "object_position": null,
            "order": null,
            "overflow": null,
            "overflow_x": null,
            "overflow_y": null,
            "padding": null,
            "right": null,
            "top": null,
            "visibility": null,
            "width": null
          }
        },
        "905741299ec54e9691ce0f66eb3dc94c": {
          "model_module": "@jupyter-widgets/base",
          "model_name": "LayoutModel",
          "model_module_version": "1.2.0",
          "state": {
            "_model_module": "@jupyter-widgets/base",
            "_model_module_version": "1.2.0",
            "_model_name": "LayoutModel",
            "_view_count": null,
            "_view_module": "@jupyter-widgets/base",
            "_view_module_version": "1.2.0",
            "_view_name": "LayoutView",
            "align_content": null,
            "align_items": null,
            "align_self": null,
            "border": null,
            "bottom": null,
            "display": null,
            "flex": null,
            "flex_flow": null,
            "grid_area": null,
            "grid_auto_columns": null,
            "grid_auto_flow": null,
            "grid_auto_rows": null,
            "grid_column": null,
            "grid_gap": null,
            "grid_row": null,
            "grid_template_areas": null,
            "grid_template_columns": null,
            "grid_template_rows": null,
            "height": null,
            "justify_content": null,
            "justify_items": null,
            "left": null,
            "margin": null,
            "max_height": null,
            "max_width": null,
            "min_height": null,
            "min_width": null,
            "object_fit": null,
            "object_position": null,
            "order": null,
            "overflow": null,
            "overflow_x": null,
            "overflow_y": null,
            "padding": null,
            "right": null,
            "top": null,
            "visibility": null,
            "width": null
          }
        },
        "d60123704c474cd095803e1412f92a93": {
          "model_module": "@jupyter-widgets/controls",
          "model_name": "DescriptionStyleModel",
          "model_module_version": "1.5.0",
          "state": {
            "_model_module": "@jupyter-widgets/controls",
            "_model_module_version": "1.5.0",
            "_model_name": "DescriptionStyleModel",
            "_view_count": null,
            "_view_module": "@jupyter-widgets/base",
            "_view_module_version": "1.2.0",
            "_view_name": "StyleView",
            "description_width": ""
          }
        },
        "298c243a747845b19cc1b901135b522a": {
          "model_module": "@jupyter-widgets/base",
          "model_name": "LayoutModel",
          "model_module_version": "1.2.0",
          "state": {
            "_model_module": "@jupyter-widgets/base",
            "_model_module_version": "1.2.0",
            "_model_name": "LayoutModel",
            "_view_count": null,
            "_view_module": "@jupyter-widgets/base",
            "_view_module_version": "1.2.0",
            "_view_name": "LayoutView",
            "align_content": null,
            "align_items": null,
            "align_self": null,
            "border": null,
            "bottom": null,
            "display": null,
            "flex": null,
            "flex_flow": null,
            "grid_area": null,
            "grid_auto_columns": null,
            "grid_auto_flow": null,
            "grid_auto_rows": null,
            "grid_column": null,
            "grid_gap": null,
            "grid_row": null,
            "grid_template_areas": null,
            "grid_template_columns": null,
            "grid_template_rows": null,
            "height": null,
            "justify_content": null,
            "justify_items": null,
            "left": null,
            "margin": null,
            "max_height": null,
            "max_width": null,
            "min_height": null,
            "min_width": null,
            "object_fit": null,
            "object_position": null,
            "order": null,
            "overflow": null,
            "overflow_x": null,
            "overflow_y": null,
            "padding": null,
            "right": null,
            "top": null,
            "visibility": null,
            "width": null
          }
        },
        "e43fd39f18524ea293b6dbcba302de72": {
          "model_module": "@jupyter-widgets/controls",
          "model_name": "ProgressStyleModel",
          "model_module_version": "1.5.0",
          "state": {
            "_model_module": "@jupyter-widgets/controls",
            "_model_module_version": "1.5.0",
            "_model_name": "ProgressStyleModel",
            "_view_count": null,
            "_view_module": "@jupyter-widgets/base",
            "_view_module_version": "1.2.0",
            "_view_name": "StyleView",
            "bar_color": null,
            "description_width": ""
          }
        },
        "fa484794239e4e358791be18e2b178c6": {
          "model_module": "@jupyter-widgets/base",
          "model_name": "LayoutModel",
          "model_module_version": "1.2.0",
          "state": {
            "_model_module": "@jupyter-widgets/base",
            "_model_module_version": "1.2.0",
            "_model_name": "LayoutModel",
            "_view_count": null,
            "_view_module": "@jupyter-widgets/base",
            "_view_module_version": "1.2.0",
            "_view_name": "LayoutView",
            "align_content": null,
            "align_items": null,
            "align_self": null,
            "border": null,
            "bottom": null,
            "display": null,
            "flex": null,
            "flex_flow": null,
            "grid_area": null,
            "grid_auto_columns": null,
            "grid_auto_flow": null,
            "grid_auto_rows": null,
            "grid_column": null,
            "grid_gap": null,
            "grid_row": null,
            "grid_template_areas": null,
            "grid_template_columns": null,
            "grid_template_rows": null,
            "height": null,
            "justify_content": null,
            "justify_items": null,
            "left": null,
            "margin": null,
            "max_height": null,
            "max_width": null,
            "min_height": null,
            "min_width": null,
            "object_fit": null,
            "object_position": null,
            "order": null,
            "overflow": null,
            "overflow_x": null,
            "overflow_y": null,
            "padding": null,
            "right": null,
            "top": null,
            "visibility": null,
            "width": null
          }
        },
        "b1633ad205dc4e1697a026b707632e46": {
          "model_module": "@jupyter-widgets/controls",
          "model_name": "DescriptionStyleModel",
          "model_module_version": "1.5.0",
          "state": {
            "_model_module": "@jupyter-widgets/controls",
            "_model_module_version": "1.5.0",
            "_model_name": "DescriptionStyleModel",
            "_view_count": null,
            "_view_module": "@jupyter-widgets/base",
            "_view_module_version": "1.2.0",
            "_view_name": "StyleView",
            "description_width": ""
          }
        }
      }
    }
  },
  "cells": [
    {
      "cell_type": "markdown",
      "metadata": {
        "id": "view-in-github",
        "colab_type": "text"
      },
      "source": [
        "<a href=\"https://colab.research.google.com/github/Joongeun/Internship/blob/main/BERT_Classification0.ipynb\" target=\"_parent\"><img src=\"https://colab.research.google.com/assets/colab-badge.svg\" alt=\"Open In Colab\"/></a>"
      ]
    },
    {
      "cell_type": "code",
      "source": [
        "!pip install transformers"
      ],
      "metadata": {
        "colab": {
          "base_uri": "https://localhost:8080/"
        },
        "id": "n7sS6ZXgGMpR",
        "outputId": "692f5096-2659-4373-9871-73f7babd7a6a"
      },
      "execution_count": 1,
      "outputs": [
        {
          "output_type": "stream",
          "name": "stdout",
          "text": [
            "Collecting transformers\n",
            "  Downloading transformers-4.31.0-py3-none-any.whl (7.4 MB)\n",
            "\u001b[2K     \u001b[90m━━━━━━━━━━━━━━━━━━━━━━━━━━━━━━━━━━━━━━━━\u001b[0m \u001b[32m7.4/7.4 MB\u001b[0m \u001b[31m51.0 MB/s\u001b[0m eta \u001b[36m0:00:00\u001b[0m\n",
            "\u001b[?25hRequirement already satisfied: filelock in /usr/local/lib/python3.10/dist-packages (from transformers) (3.12.2)\n",
            "Collecting huggingface-hub<1.0,>=0.14.1 (from transformers)\n",
            "  Downloading huggingface_hub-0.16.4-py3-none-any.whl (268 kB)\n",
            "\u001b[2K     \u001b[90m━━━━━━━━━━━━━━━━━━━━━━━━━━━━━━━━━━━━━━\u001b[0m \u001b[32m268.8/268.8 kB\u001b[0m \u001b[31m29.2 MB/s\u001b[0m eta \u001b[36m0:00:00\u001b[0m\n",
            "\u001b[?25hRequirement already satisfied: numpy>=1.17 in /usr/local/lib/python3.10/dist-packages (from transformers) (1.23.5)\n",
            "Requirement already satisfied: packaging>=20.0 in /usr/local/lib/python3.10/dist-packages (from transformers) (23.1)\n",
            "Requirement already satisfied: pyyaml>=5.1 in /usr/local/lib/python3.10/dist-packages (from transformers) (6.0.1)\n",
            "Requirement already satisfied: regex!=2019.12.17 in /usr/local/lib/python3.10/dist-packages (from transformers) (2023.6.3)\n",
            "Requirement already satisfied: requests in /usr/local/lib/python3.10/dist-packages (from transformers) (2.31.0)\n",
            "Collecting tokenizers!=0.11.3,<0.14,>=0.11.1 (from transformers)\n",
            "  Downloading tokenizers-0.13.3-cp310-cp310-manylinux_2_17_x86_64.manylinux2014_x86_64.whl (7.8 MB)\n",
            "\u001b[2K     \u001b[90m━━━━━━━━━━━━━━━━━━━━━━━━━━━━━━━━━━━━━━━━\u001b[0m \u001b[32m7.8/7.8 MB\u001b[0m \u001b[31m105.4 MB/s\u001b[0m eta \u001b[36m0:00:00\u001b[0m\n",
            "\u001b[?25hCollecting safetensors>=0.3.1 (from transformers)\n",
            "  Downloading safetensors-0.3.2-cp310-cp310-manylinux_2_17_x86_64.manylinux2014_x86_64.whl (1.3 MB)\n",
            "\u001b[2K     \u001b[90m━━━━━━━━━━━━━━━━━━━━━━━━━━━━━━━━━━━━━━━━\u001b[0m \u001b[32m1.3/1.3 MB\u001b[0m \u001b[31m76.7 MB/s\u001b[0m eta \u001b[36m0:00:00\u001b[0m\n",
            "\u001b[?25hRequirement already satisfied: tqdm>=4.27 in /usr/local/lib/python3.10/dist-packages (from transformers) (4.66.1)\n",
            "Requirement already satisfied: fsspec in /usr/local/lib/python3.10/dist-packages (from huggingface-hub<1.0,>=0.14.1->transformers) (2023.6.0)\n",
            "Requirement already satisfied: typing-extensions>=3.7.4.3 in /usr/local/lib/python3.10/dist-packages (from huggingface-hub<1.0,>=0.14.1->transformers) (4.7.1)\n",
            "Requirement already satisfied: charset-normalizer<4,>=2 in /usr/local/lib/python3.10/dist-packages (from requests->transformers) (3.2.0)\n",
            "Requirement already satisfied: idna<4,>=2.5 in /usr/local/lib/python3.10/dist-packages (from requests->transformers) (3.4)\n",
            "Requirement already satisfied: urllib3<3,>=1.21.1 in /usr/local/lib/python3.10/dist-packages (from requests->transformers) (2.0.4)\n",
            "Requirement already satisfied: certifi>=2017.4.17 in /usr/local/lib/python3.10/dist-packages (from requests->transformers) (2023.7.22)\n",
            "Installing collected packages: tokenizers, safetensors, huggingface-hub, transformers\n",
            "Successfully installed huggingface-hub-0.16.4 safetensors-0.3.2 tokenizers-0.13.3 transformers-4.31.0\n"
          ]
        }
      ]
    },
    {
      "cell_type": "code",
      "execution_count": 2,
      "metadata": {
        "id": "DTBrbpCOGKmi",
        "colab": {
          "base_uri": "https://localhost:8080/"
        },
        "outputId": "c7758d20-9f25-499c-b3ec-be805c2becc5"
      },
      "outputs": [
        {
          "output_type": "stream",
          "name": "stdout",
          "text": [
            "GPU is available\n"
          ]
        }
      ],
      "source": [
        "import pandas as pd\n",
        "import numpy as np\n",
        "import transformers\n",
        "import torch\n",
        "import torch.nn as nn\n",
        "from torch.utils.data import Dataset\n",
        "from torch.utils.data import DataLoader\n",
        "import torch.optim as optim\n",
        "import torch.nn.functional as F\n",
        "from torchsummary import summary\n",
        "from tqdm import tqdm\n",
        "\n",
        "is_cuda = torch.cuda.is_available()\n",
        "if is_cuda:\n",
        "    device = torch.device(\"cuda\")\n",
        "    print(\"GPU is available\")\n",
        "else:\n",
        "    device = torch.device(\"cpu\")\n",
        "    print(\"GPU not available, CPU used\")"
      ]
    },
    {
      "cell_type": "code",
      "source": [
        "class BertDataset(Dataset):\n",
        "    def __init__(self, tokenizer,max_length):\n",
        "        super(BertDataset, self).__init__()\n",
        "        self.train_csv=pd.read_csv('/content/Labeled Posts - preprocessed_csv.csv')[:3500]\n",
        "        self.tokenizer=tokenizer\n",
        "        self.target=self.train_csv.iloc[:,1]\n",
        "        self.max_length=max_length\n",
        "\n",
        "    def __len__(self):\n",
        "        return len(self.train_csv)\n",
        "\n",
        "    def __getitem__(self, index):\n",
        "\n",
        "        text1 = self.train_csv.iloc[index,0]\n",
        "\n",
        "        inputs = self.tokenizer.encode_plus(\n",
        "            text1 ,\n",
        "            None,\n",
        "            pad_to_max_length=True,\n",
        "            add_special_tokens=True,\n",
        "            return_attention_mask=True,\n",
        "            max_length=self.max_length,\n",
        "        )\n",
        "        ids = inputs[\"input_ids\"]\n",
        "        token_type_ids = inputs[\"token_type_ids\"]\n",
        "        mask = inputs[\"attention_mask\"]\n",
        "\n",
        "        return {\n",
        "            'ids': torch.tensor(ids, dtype=torch.long),\n",
        "            'mask': torch.tensor(mask, dtype=torch.long),\n",
        "            'token_type_ids': torch.tensor(token_type_ids, dtype=torch.long),\n",
        "            'target': torch.tensor(self.train_csv.iloc[index, 1], dtype=torch.long)\n",
        "            }\n",
        "tokenizer = transformers.BertTokenizer.from_pretrained(\"bert-base-uncased\")\n",
        "\n",
        "dataset= BertDataset(tokenizer, max_length=100)\n",
        "\n",
        "dataloader=DataLoader(dataset=dataset,batch_size=32)"
      ],
      "metadata": {
        "id": "UvjsxYFFGRoX",
        "colab": {
          "base_uri": "https://localhost:8080/",
          "height": 113,
          "referenced_widgets": [
            "e82e2dde9206464ca20dfce8101d273a",
            "4876a5a7638a4331aa5dc9e871d7b410",
            "c5cbae5a883b45adafc1285ee1927854",
            "73c43602d26c47f0b6feb4cd2be71ffa",
            "afa9839edc094cceb216347b28d72201",
            "5f5975c2583d4fac86f4729e36c903f3",
            "6ece799d292c4b7a9a688cef62960ed3",
            "436644c6c8a94a2babceebde82dd7c39",
            "378949ae69b44c3fa8f2a46fcaeccc01",
            "8f19336eb5dc48c8a296ac02dbfa2361",
            "774949bdca6d48abafa7ea0730430418",
            "b754e331f0ee4400b92cd92f7596781e",
            "84d097c1856a40c3ac343cd622337b81",
            "55a259e7a3c548c38bcd160f2ca4b071",
            "18016108afbc402ea7bdf3ca946ec9a1",
            "f46428930bad4e4aad12b53aa447edb0",
            "7c0c40db970e40148b30a1ca26646609",
            "749b0682e2df467f8d797fd5633e1e19",
            "88f4206dafb74f84b65f89eee8f3bdab",
            "a19f76919d0940499380c13b54c3dee4",
            "5b69c59379dc49ad8819d180570fbc90",
            "5f89ac1e9bbc4c71b3648f4612fce201",
            "e4f93f1702344544af378f956b63c732",
            "a4f351f62e5b432e8cddd0b253fd4a6f",
            "42505cffc373439487eaea4613a8e754",
            "adb550e82e514257a6210b8c6812f1a9",
            "077a2357d299464196bd0d350addf221",
            "0e0d364c32da4238b50e61e19ad2eb9b",
            "8e275f01b90f419b89e7eba3957643e9",
            "95f2d60ea50b47e68678a12eba98838f",
            "bb4bb5194414451f8a8381bffc1e1ed1",
            "2201394d08204275818738e14cf76f7d",
            "6c06df95c3c8492c84b04d5959fd08f3"
          ]
        },
        "outputId": "40edb218-cd1a-46aa-f5fd-282aee5cc0bb"
      },
      "execution_count": 3,
      "outputs": [
        {
          "output_type": "display_data",
          "data": {
            "text/plain": [
              "Downloading (…)solve/main/vocab.txt:   0%|          | 0.00/232k [00:00<?, ?B/s]"
            ],
            "application/vnd.jupyter.widget-view+json": {
              "version_major": 2,
              "version_minor": 0,
              "model_id": "e82e2dde9206464ca20dfce8101d273a"
            }
          },
          "metadata": {}
        },
        {
          "output_type": "display_data",
          "data": {
            "text/plain": [
              "Downloading (…)okenizer_config.json:   0%|          | 0.00/28.0 [00:00<?, ?B/s]"
            ],
            "application/vnd.jupyter.widget-view+json": {
              "version_major": 2,
              "version_minor": 0,
              "model_id": "b754e331f0ee4400b92cd92f7596781e"
            }
          },
          "metadata": {}
        },
        {
          "output_type": "display_data",
          "data": {
            "text/plain": [
              "Downloading (…)lve/main/config.json:   0%|          | 0.00/570 [00:00<?, ?B/s]"
            ],
            "application/vnd.jupyter.widget-view+json": {
              "version_major": 2,
              "version_minor": 0,
              "model_id": "e4f93f1702344544af378f956b63c732"
            }
          },
          "metadata": {}
        }
      ]
    },
    {
      "cell_type": "code",
      "source": [
        "class BERT(nn.Module):\n",
        "    def __init__(self):\n",
        "        super(BERT, self).__init__()\n",
        "        self.bert_model = transformers.BertModel.from_pretrained(\"bert-base-uncased\")\n",
        "        self.out = nn.Linear(768, 1)\n",
        "\n",
        "    def forward(self,ids,mask,token_type_ids):\n",
        "        _,o2= self.bert_model(ids,attention_mask=mask,token_type_ids=token_type_ids, return_dict=False)\n",
        "\n",
        "        out= self.out(o2)\n",
        "\n",
        "        return out\n",
        "\n",
        "model=BERT()\n",
        "\n",
        "loss_fn = nn.BCEWithLogitsLoss()\n",
        "\n",
        "#Initialize Optimizer\n",
        "optimizer= optim.Adam(model.parameters(),lr= 0.001)"
      ],
      "metadata": {
        "id": "auahvps0HVwS",
        "colab": {
          "base_uri": "https://localhost:8080/",
          "height": 49,
          "referenced_widgets": [
            "4944964221884c38adf0c5a21528b4fa",
            "95bcb1c70bea41f49383519596d10d0e",
            "a22a9307960a4f72a6f2a2b5d9fdcea2",
            "14618bae8a314dfe8269d5f5d35a86e4",
            "3b1bd5e9af0b43b19f72a392d79bc344",
            "905741299ec54e9691ce0f66eb3dc94c",
            "d60123704c474cd095803e1412f92a93",
            "298c243a747845b19cc1b901135b522a",
            "e43fd39f18524ea293b6dbcba302de72",
            "fa484794239e4e358791be18e2b178c6",
            "b1633ad205dc4e1697a026b707632e46"
          ]
        },
        "outputId": "c6a61cea-1149-44b1-a111-ec3f559dc3f2"
      },
      "execution_count": 4,
      "outputs": [
        {
          "output_type": "display_data",
          "data": {
            "text/plain": [
              "Downloading model.safetensors:   0%|          | 0.00/440M [00:00<?, ?B/s]"
            ],
            "application/vnd.jupyter.widget-view+json": {
              "version_major": 2,
              "version_minor": 0,
              "model_id": "4944964221884c38adf0c5a21528b4fa"
            }
          },
          "metadata": {}
        }
      ]
    },
    {
      "cell_type": "code",
      "source": [
        "for param in model.bert_model.parameters():\n",
        "    param.requires_grad = True"
      ],
      "metadata": {
        "id": "pvbN_Cl4Ih64"
      },
      "execution_count": 5,
      "outputs": []
    },
    {
      "cell_type": "code",
      "source": [
        "def finetune(epochs,dataloader,model,loss_fn,optimizer):\n",
        "    model.train()\n",
        "    for epoch in range(epochs):\n",
        "        print(epoch)\n",
        "\n",
        "        loop=tqdm(enumerate(dataloader),leave=False,total=len(dataloader))\n",
        "        print(len(dataloader))\n",
        "        for batch, dl in loop:\n",
        "            ids=dl['ids']\n",
        "            token_type_ids=dl['token_type_ids']\n",
        "            mask= dl['mask']\n",
        "            label=dl['target']\n",
        "            label = label.unsqueeze(1)\n",
        "\n",
        "            optimizer.zero_grad()\n",
        "\n",
        "            output=model(\n",
        "                ids=ids,\n",
        "                mask=mask,\n",
        "                token_type_ids=token_type_ids)\n",
        "            label = label.type_as(output)\n",
        "\n",
        "            loss=loss_fn(output,label)\n",
        "            loss.backward()\n",
        "\n",
        "            optimizer.step()\n",
        "\n",
        "            pred = np.where(output >= 0, 1, 0)\n",
        "\n",
        "            num_correct = sum(1 for a, b in zip(pred, label) if a[0] == b[0])\n",
        "            num_samples = pred.shape[0]\n",
        "            accuracy = num_correct/num_samples\n",
        "\n",
        "            print(f'Got {num_correct} / {num_samples} with accuracy {float(num_correct)/float(num_samples)*100:.2f}')\n",
        "\n",
        "            # Show progress while training\n",
        "            loop.set_description(f'Epoch={epoch}/{epochs}')\n",
        "            loop.set_postfix(loss=loss.item(),acc=accuracy)\n",
        "\n",
        "    return model\n",
        "\n",
        "model=finetune(5, dataloader, model, loss_fn, optimizer)"
      ],
      "metadata": {
        "colab": {
          "base_uri": "https://localhost:8080/"
        },
        "id": "DPFIImNhInNs",
        "outputId": "e103ec92-aea3-482e-d12c-c37adb5bf8fd"
      },
      "execution_count": null,
      "outputs": [
        {
          "output_type": "stream",
          "name": "stdout",
          "text": [
            "0\n"
          ]
        },
        {
          "output_type": "stream",
          "name": "stderr",
          "text": [
            "\r  0%|          | 0/110 [00:00<?, ?it/s]Truncation was not explicitly activated but `max_length` is provided a specific value, please use `truncation=True` to explicitly truncate examples to max length. Defaulting to 'longest_first' truncation strategy. If you encode pairs of sequences (GLUE-style) with the tokenizer you can select this strategy more precisely by providing a specific strategy to `truncation`.\n"
          ]
        },
        {
          "output_type": "stream",
          "name": "stdout",
          "text": [
            "110\n"
          ]
        },
        {
          "output_type": "stream",
          "name": "stderr",
          "text": [
            "/usr/local/lib/python3.10/dist-packages/transformers/tokenization_utils_base.py:2393: FutureWarning: The `pad_to_max_length` argument is deprecated and will be removed in a future version, use `padding=True` or `padding='longest'` to pad to the longest sequence in the batch, or use `padding='max_length'` to pad to a max length. In this case, you can give a specific length with `max_length` (e.g. `max_length=45`) or leave max_length to None to pad to the maximal input size of the model (e.g. 512 for Bert).\n",
            "  warnings.warn(\n",
            "Epoch=0/5:   1%|          | 1/110 [00:11<20:59, 11.56s/it, acc=0.0938, loss=1.01]"
          ]
        },
        {
          "output_type": "stream",
          "name": "stdout",
          "text": [
            "Got 3 / 32 with accuracy 9.38\n"
          ]
        },
        {
          "output_type": "stream",
          "name": "stderr",
          "text": [
            "Epoch=0/5:   2%|▏         | 2/110 [00:20<17:35,  9.78s/it, acc=0.469, loss=-1.4]"
          ]
        },
        {
          "output_type": "stream",
          "name": "stdout",
          "text": [
            "Got 15 / 32 with accuracy 46.88\n"
          ]
        },
        {
          "output_type": "stream",
          "name": "stderr",
          "text": [
            "Epoch=0/5:   3%|▎         | 3/110 [00:27<15:14,  8.54s/it, acc=0.406, loss=-4.07]"
          ]
        },
        {
          "output_type": "stream",
          "name": "stdout",
          "text": [
            "Got 13 / 32 with accuracy 40.62\n"
          ]
        },
        {
          "output_type": "stream",
          "name": "stderr",
          "text": [
            "Epoch=0/5:   4%|▎         | 4/110 [00:34<14:19,  8.11s/it, acc=0.438, loss=-6.11]"
          ]
        },
        {
          "output_type": "stream",
          "name": "stdout",
          "text": [
            "Got 14 / 32 with accuracy 43.75\n"
          ]
        },
        {
          "output_type": "stream",
          "name": "stderr",
          "text": [
            "Epoch=0/5:   5%|▍         | 5/110 [00:41<13:23,  7.65s/it, acc=0.438, loss=-12.2]"
          ]
        },
        {
          "output_type": "stream",
          "name": "stdout",
          "text": [
            "Got 14 / 32 with accuracy 43.75\n"
          ]
        },
        {
          "output_type": "stream",
          "name": "stderr",
          "text": [
            "Epoch=0/5:   5%|▌         | 6/110 [00:49<13:25,  7.74s/it, acc=0.531, loss=-12.3]"
          ]
        },
        {
          "output_type": "stream",
          "name": "stdout",
          "text": [
            "Got 17 / 32 with accuracy 53.12\n"
          ]
        },
        {
          "output_type": "stream",
          "name": "stderr",
          "text": [
            "Epoch=0/5:   6%|▋         | 7/110 [00:55<12:36,  7.34s/it, acc=0.531, loss=-11.7]"
          ]
        },
        {
          "output_type": "stream",
          "name": "stdout",
          "text": [
            "Got 17 / 32 with accuracy 53.12\n"
          ]
        },
        {
          "output_type": "stream",
          "name": "stderr",
          "text": [
            "Epoch=0/5:   7%|▋         | 8/110 [01:03<12:32,  7.38s/it, acc=0.625, loss=-11.2]"
          ]
        },
        {
          "output_type": "stream",
          "name": "stdout",
          "text": [
            "Got 20 / 32 with accuracy 62.50\n"
          ]
        },
        {
          "output_type": "stream",
          "name": "stderr",
          "text": [
            "Epoch=0/5:   8%|▊         | 9/110 [01:09<11:58,  7.12s/it, acc=0.375, loss=-21.5]"
          ]
        },
        {
          "output_type": "stream",
          "name": "stdout",
          "text": [
            "Got 12 / 32 with accuracy 37.50\n"
          ]
        },
        {
          "output_type": "stream",
          "name": "stderr",
          "text": [
            "Epoch=0/5:   9%|▉         | 10/110 [01:17<12:04,  7.25s/it, acc=0.5, loss=-17.6]"
          ]
        },
        {
          "output_type": "stream",
          "name": "stdout",
          "text": [
            "Got 16 / 32 with accuracy 50.00\n"
          ]
        },
        {
          "output_type": "stream",
          "name": "stderr",
          "text": [
            "Epoch=0/5:  10%|█         | 11/110 [01:23<11:35,  7.02s/it, acc=0.0312, loss=24]"
          ]
        },
        {
          "output_type": "stream",
          "name": "stdout",
          "text": [
            "Got 1 / 32 with accuracy 3.12\n"
          ]
        },
        {
          "output_type": "stream",
          "name": "stderr",
          "text": [
            "Epoch=0/5:  11%|█         | 12/110 [01:31<11:57,  7.32s/it, acc=0.688, loss=-15]"
          ]
        },
        {
          "output_type": "stream",
          "name": "stdout",
          "text": [
            "Got 22 / 32 with accuracy 68.75\n"
          ]
        },
        {
          "output_type": "stream",
          "name": "stderr",
          "text": [
            "Epoch=0/5:  12%|█▏        | 13/110 [01:40<12:13,  7.56s/it, acc=0.438, loss=-20.6]"
          ]
        },
        {
          "output_type": "stream",
          "name": "stdout",
          "text": [
            "Got 14 / 32 with accuracy 43.75\n"
          ]
        },
        {
          "output_type": "stream",
          "name": "stderr",
          "text": [
            "Epoch=0/5:  13%|█▎        | 14/110 [01:46<11:40,  7.30s/it, acc=0.406, loss=-23.9]"
          ]
        },
        {
          "output_type": "stream",
          "name": "stdout",
          "text": [
            "Got 13 / 32 with accuracy 40.62\n"
          ]
        },
        {
          "output_type": "stream",
          "name": "stderr",
          "text": [
            "Epoch=0/5:  14%|█▎        | 15/110 [01:53<11:31,  7.28s/it, acc=0.656, loss=-11.8]"
          ]
        },
        {
          "output_type": "stream",
          "name": "stdout",
          "text": [
            "Got 21 / 32 with accuracy 65.62\n"
          ]
        },
        {
          "output_type": "stream",
          "name": "stderr",
          "text": [
            "Epoch=0/5:  15%|█▍        | 16/110 [02:00<11:05,  7.07s/it, acc=0.5, loss=-24.2]"
          ]
        },
        {
          "output_type": "stream",
          "name": "stdout",
          "text": [
            "Got 16 / 32 with accuracy 50.00\n"
          ]
        },
        {
          "output_type": "stream",
          "name": "stderr",
          "text": [
            "Epoch=0/5:  15%|█▌        | 17/110 [02:08<11:18,  7.30s/it, acc=0.5, loss=-29.7]"
          ]
        },
        {
          "output_type": "stream",
          "name": "stdout",
          "text": [
            "Got 16 / 32 with accuracy 50.00\n"
          ]
        },
        {
          "output_type": "stream",
          "name": "stderr",
          "text": [
            "Epoch=0/5:  16%|█▋        | 18/110 [02:14<10:46,  7.02s/it, acc=0.656, loss=-17.8]"
          ]
        },
        {
          "output_type": "stream",
          "name": "stdout",
          "text": [
            "Got 21 / 32 with accuracy 65.62\n"
          ]
        },
        {
          "output_type": "stream",
          "name": "stderr",
          "text": [
            "Epoch=0/5:  17%|█▋        | 19/110 [02:22<10:46,  7.11s/it, acc=0.5, loss=-25.3]"
          ]
        },
        {
          "output_type": "stream",
          "name": "stdout",
          "text": [
            "Got 16 / 32 with accuracy 50.00\n"
          ]
        },
        {
          "output_type": "stream",
          "name": "stderr",
          "text": [
            "Epoch=0/5:  18%|█▊        | 20/110 [02:28<10:23,  6.93s/it, acc=0.438, loss=-31.3]"
          ]
        },
        {
          "output_type": "stream",
          "name": "stdout",
          "text": [
            "Got 14 / 32 with accuracy 43.75\n"
          ]
        },
        {
          "output_type": "stream",
          "name": "stderr",
          "text": [
            "Epoch=0/5:  19%|█▉        | 21/110 [02:36<10:29,  7.08s/it, acc=0.688, loss=-16.8]"
          ]
        },
        {
          "output_type": "stream",
          "name": "stdout",
          "text": [
            "Got 22 / 32 with accuracy 68.75\n"
          ]
        },
        {
          "output_type": "stream",
          "name": "stderr",
          "text": [
            "Epoch=0/5:  20%|██        | 22/110 [02:42<10:07,  6.91s/it, acc=0.656, loss=-17.3]"
          ]
        },
        {
          "output_type": "stream",
          "name": "stdout",
          "text": [
            "Got 21 / 32 with accuracy 65.62\n"
          ]
        },
        {
          "output_type": "stream",
          "name": "stderr",
          "text": [
            "Epoch=0/5:  21%|██        | 23/110 [02:49<10:13,  7.06s/it, acc=0.5, loss=-31.3]"
          ]
        },
        {
          "output_type": "stream",
          "name": "stdout",
          "text": [
            "Got 16 / 32 with accuracy 50.00\n"
          ]
        },
        {
          "output_type": "stream",
          "name": "stderr",
          "text": [
            "Epoch=0/5:  22%|██▏       | 24/110 [02:56<09:48,  6.84s/it, acc=0.531, loss=-30.7]"
          ]
        },
        {
          "output_type": "stream",
          "name": "stdout",
          "text": [
            "Got 17 / 32 with accuracy 53.12\n"
          ]
        },
        {
          "output_type": "stream",
          "name": "stderr",
          "text": [
            "Epoch=0/5:  23%|██▎       | 25/110 [03:03<09:54,  7.00s/it, acc=0.438, loss=-30.8]"
          ]
        },
        {
          "output_type": "stream",
          "name": "stdout",
          "text": [
            "Got 14 / 32 with accuracy 43.75\n"
          ]
        },
        {
          "output_type": "stream",
          "name": "stderr",
          "text": [
            "Epoch=0/5:  24%|██▎       | 26/110 [03:09<09:31,  6.80s/it, acc=0.5, loss=-32.5]"
          ]
        },
        {
          "output_type": "stream",
          "name": "stdout",
          "text": [
            "Got 16 / 32 with accuracy 50.00\n"
          ]
        },
        {
          "output_type": "stream",
          "name": "stderr",
          "text": [
            "Epoch=0/5:  25%|██▍       | 27/110 [03:17<09:40,  7.00s/it, acc=0.375, loss=-37.4]"
          ]
        },
        {
          "output_type": "stream",
          "name": "stdout",
          "text": [
            "Got 12 / 32 with accuracy 37.50\n"
          ]
        },
        {
          "output_type": "stream",
          "name": "stderr",
          "text": [
            "Epoch=0/5:  25%|██▌       | 28/110 [03:24<09:23,  6.88s/it, acc=0.406, loss=-40.9]"
          ]
        },
        {
          "output_type": "stream",
          "name": "stdout",
          "text": [
            "Got 13 / 32 with accuracy 40.62\n"
          ]
        },
        {
          "output_type": "stream",
          "name": "stderr",
          "text": [
            "Epoch=0/5:  26%|██▋       | 29/110 [03:31<09:19,  6.91s/it, acc=0.531, loss=-25.2]"
          ]
        },
        {
          "output_type": "stream",
          "name": "stdout",
          "text": [
            "Got 17 / 32 with accuracy 53.12\n"
          ]
        },
        {
          "output_type": "stream",
          "name": "stderr",
          "text": [
            "Epoch=0/5:  27%|██▋       | 30/110 [03:37<09:12,  6.91s/it, acc=0.656, loss=-21.6]"
          ]
        },
        {
          "output_type": "stream",
          "name": "stdout",
          "text": [
            "Got 21 / 32 with accuracy 65.62\n"
          ]
        },
        {
          "output_type": "stream",
          "name": "stderr",
          "text": [
            "Epoch=0/5:  28%|██▊       | 31/110 [03:44<09:07,  6.93s/it, acc=0.562, loss=-32.8]"
          ]
        },
        {
          "output_type": "stream",
          "name": "stdout",
          "text": [
            "Got 18 / 32 with accuracy 56.25\n"
          ]
        },
        {
          "output_type": "stream",
          "name": "stderr",
          "text": [
            "Epoch=0/5:  29%|██▉       | 32/110 [03:51<08:56,  6.88s/it, acc=0.75, loss=-16.4]"
          ]
        },
        {
          "output_type": "stream",
          "name": "stdout",
          "text": [
            "Got 24 / 32 with accuracy 75.00\n"
          ]
        },
        {
          "output_type": "stream",
          "name": "stderr",
          "text": [
            "Epoch=0/5:  30%|███       | 33/110 [03:58<08:42,  6.79s/it, acc=0.5, loss=-41.9]"
          ]
        },
        {
          "output_type": "stream",
          "name": "stdout",
          "text": [
            "Got 16 / 32 with accuracy 50.00\n"
          ]
        },
        {
          "output_type": "stream",
          "name": "stderr",
          "text": [
            "Epoch=0/5:  31%|███       | 34/110 [04:04<08:35,  6.78s/it, acc=0.406, loss=-42.9]"
          ]
        },
        {
          "output_type": "stream",
          "name": "stdout",
          "text": [
            "Got 13 / 32 with accuracy 40.62\n"
          ]
        },
        {
          "output_type": "stream",
          "name": "stderr",
          "text": [
            "Epoch=0/5:  32%|███▏      | 35/110 [04:11<08:25,  6.74s/it, acc=0.594, loss=-29.3]"
          ]
        },
        {
          "output_type": "stream",
          "name": "stdout",
          "text": [
            "Got 19 / 32 with accuracy 59.38\n"
          ]
        },
        {
          "output_type": "stream",
          "name": "stderr",
          "text": [
            "Epoch=0/5:  33%|███▎      | 36/110 [04:18<08:17,  6.72s/it, acc=0.438, loss=-40.9]"
          ]
        },
        {
          "output_type": "stream",
          "name": "stdout",
          "text": [
            "Got 14 / 32 with accuracy 43.75\n"
          ]
        },
        {
          "output_type": "stream",
          "name": "stderr",
          "text": [
            "Epoch=0/5:  34%|███▎      | 37/110 [04:25<08:12,  6.74s/it, acc=0.625, loss=-31.6]"
          ]
        },
        {
          "output_type": "stream",
          "name": "stdout",
          "text": [
            "Got 20 / 32 with accuracy 62.50\n"
          ]
        },
        {
          "output_type": "stream",
          "name": "stderr",
          "text": [
            "Epoch=0/5:  35%|███▍      | 38/110 [04:32<08:15,  6.88s/it, acc=0.656, loss=-28.2]"
          ]
        },
        {
          "output_type": "stream",
          "name": "stdout",
          "text": [
            "Got 21 / 32 with accuracy 65.62\n"
          ]
        },
        {
          "output_type": "stream",
          "name": "stderr",
          "text": [
            "Epoch=0/5:  35%|███▌      | 39/110 [04:38<07:59,  6.75s/it, acc=0.5, loss=-30.9]"
          ]
        },
        {
          "output_type": "stream",
          "name": "stdout",
          "text": [
            "Got 16 / 32 with accuracy 50.00\n"
          ]
        },
        {
          "output_type": "stream",
          "name": "stderr",
          "text": [
            "Epoch=0/5:  36%|███▋      | 40/110 [04:46<08:03,  6.91s/it, acc=0.562, loss=-33.7]"
          ]
        },
        {
          "output_type": "stream",
          "name": "stdout",
          "text": [
            "Got 18 / 32 with accuracy 56.25\n"
          ]
        },
        {
          "output_type": "stream",
          "name": "stderr",
          "text": [
            "Epoch=0/5:  37%|███▋      | 41/110 [04:52<07:46,  6.75s/it, acc=0.562, loss=-45.5]"
          ]
        },
        {
          "output_type": "stream",
          "name": "stdout",
          "text": [
            "Got 18 / 32 with accuracy 56.25\n"
          ]
        },
        {
          "output_type": "stream",
          "name": "stderr",
          "text": [
            "Epoch=0/5:  38%|███▊      | 42/110 [04:59<07:48,  6.90s/it, acc=0.688, loss=-29.4]"
          ]
        },
        {
          "output_type": "stream",
          "name": "stdout",
          "text": [
            "Got 22 / 32 with accuracy 68.75\n"
          ]
        },
        {
          "output_type": "stream",
          "name": "stderr",
          "text": [
            "Epoch=0/5:  39%|███▉      | 43/110 [05:06<07:31,  6.74s/it, acc=0.594, loss=-35.7]"
          ]
        },
        {
          "output_type": "stream",
          "name": "stdout",
          "text": [
            "Got 19 / 32 with accuracy 59.38\n"
          ]
        },
        {
          "output_type": "stream",
          "name": "stderr",
          "text": [
            "Epoch=0/5:  40%|████      | 44/110 [05:13<07:37,  6.93s/it, acc=0.344, loss=-62.2]"
          ]
        },
        {
          "output_type": "stream",
          "name": "stdout",
          "text": [
            "Got 11 / 32 with accuracy 34.38\n"
          ]
        },
        {
          "output_type": "stream",
          "name": "stderr",
          "text": [
            "Epoch=0/5:  41%|████      | 45/110 [05:19<07:17,  6.73s/it, acc=0.469, loss=-55.1]"
          ]
        },
        {
          "output_type": "stream",
          "name": "stdout",
          "text": [
            "Got 15 / 32 with accuracy 46.88\n"
          ]
        },
        {
          "output_type": "stream",
          "name": "stderr",
          "text": [
            "Epoch=0/5:  42%|████▏     | 46/110 [05:27<07:27,  7.00s/it, acc=0.594, loss=-39.1]"
          ]
        },
        {
          "output_type": "stream",
          "name": "stdout",
          "text": [
            "Got 19 / 32 with accuracy 59.38\n"
          ]
        },
        {
          "output_type": "stream",
          "name": "stderr",
          "text": [
            "Epoch=0/5:  43%|████▎     | 47/110 [05:33<07:07,  6.79s/it, acc=0.625, loss=-31.1]"
          ]
        },
        {
          "output_type": "stream",
          "name": "stdout",
          "text": [
            "Got 20 / 32 with accuracy 62.50\n"
          ]
        },
        {
          "output_type": "stream",
          "name": "stderr",
          "text": [
            "Epoch=0/5:  44%|████▎     | 48/110 [05:41<07:16,  7.03s/it, acc=0.594, loss=-46.8]"
          ]
        },
        {
          "output_type": "stream",
          "name": "stdout",
          "text": [
            "Got 19 / 32 with accuracy 59.38\n"
          ]
        },
        {
          "output_type": "stream",
          "name": "stderr",
          "text": [
            "Epoch=0/5:  45%|████▍     | 49/110 [05:47<06:55,  6.82s/it, acc=0.531, loss=-47.7]"
          ]
        },
        {
          "output_type": "stream",
          "name": "stdout",
          "text": [
            "Got 17 / 32 with accuracy 53.12\n"
          ]
        },
        {
          "output_type": "stream",
          "name": "stderr",
          "text": [
            "Epoch=0/5:  45%|████▌     | 50/110 [05:54<07:00,  7.01s/it, acc=0.375, loss=-68.2]"
          ]
        },
        {
          "output_type": "stream",
          "name": "stdout",
          "text": [
            "Got 12 / 32 with accuracy 37.50\n"
          ]
        },
        {
          "output_type": "stream",
          "name": "stderr",
          "text": [
            "Epoch=0/5:  46%|████▋     | 51/110 [06:01<06:43,  6.83s/it, acc=0.531, loss=-46.7]"
          ]
        },
        {
          "output_type": "stream",
          "name": "stdout",
          "text": [
            "Got 17 / 32 with accuracy 53.12\n"
          ]
        },
        {
          "output_type": "stream",
          "name": "stderr",
          "text": [
            "Epoch=0/5:  47%|████▋     | 52/110 [06:08<06:43,  6.95s/it, acc=0.562, loss=-51.6]"
          ]
        },
        {
          "output_type": "stream",
          "name": "stdout",
          "text": [
            "Got 18 / 32 with accuracy 56.25\n"
          ]
        },
        {
          "output_type": "stream",
          "name": "stderr",
          "text": [
            "Epoch=0/5:  48%|████▊     | 53/110 [06:15<06:26,  6.78s/it, acc=0.5, loss=-55.3]"
          ]
        },
        {
          "output_type": "stream",
          "name": "stdout",
          "text": [
            "Got 16 / 32 with accuracy 50.00\n"
          ]
        },
        {
          "output_type": "stream",
          "name": "stderr",
          "text": [
            "Epoch=0/5:  49%|████▉     | 54/110 [06:22<06:25,  6.88s/it, acc=0.688, loss=-26.7]"
          ]
        },
        {
          "output_type": "stream",
          "name": "stdout",
          "text": [
            "Got 22 / 32 with accuracy 68.75\n"
          ]
        },
        {
          "output_type": "stream",
          "name": "stderr",
          "text": [
            "Epoch=0/5:  50%|█████     | 55/110 [06:28<06:06,  6.67s/it, acc=0.531, loss=-37.2]"
          ]
        },
        {
          "output_type": "stream",
          "name": "stdout",
          "text": [
            "Got 17 / 32 with accuracy 53.12\n"
          ]
        },
        {
          "output_type": "stream",
          "name": "stderr",
          "text": [
            "Epoch=0/5:  51%|█████     | 56/110 [06:35<06:12,  6.91s/it, acc=0.5, loss=-68.2]"
          ]
        },
        {
          "output_type": "stream",
          "name": "stdout",
          "text": [
            "Got 16 / 32 with accuracy 50.00\n"
          ]
        },
        {
          "output_type": "stream",
          "name": "stderr",
          "text": [
            "Epoch=0/5:  52%|█████▏    | 57/110 [06:42<05:57,  6.74s/it, acc=0.375, loss=-84.1]"
          ]
        },
        {
          "output_type": "stream",
          "name": "stdout",
          "text": [
            "Got 12 / 32 with accuracy 37.50\n"
          ]
        },
        {
          "output_type": "stream",
          "name": "stderr",
          "text": [
            "Epoch=0/5:  53%|█████▎    | 58/110 [06:49<05:56,  6.87s/it, acc=0.469, loss=-64.4]"
          ]
        },
        {
          "output_type": "stream",
          "name": "stdout",
          "text": [
            "Got 15 / 32 with accuracy 46.88\n"
          ]
        },
        {
          "output_type": "stream",
          "name": "stderr",
          "text": [
            "Epoch=0/5:  54%|█████▎    | 59/110 [06:55<05:39,  6.67s/it, acc=0.531, loss=-67]"
          ]
        },
        {
          "output_type": "stream",
          "name": "stdout",
          "text": [
            "Got 17 / 32 with accuracy 53.12\n"
          ]
        },
        {
          "output_type": "stream",
          "name": "stderr",
          "text": [
            "Epoch=0/5:  55%|█████▍    | 60/110 [07:02<05:39,  6.78s/it, acc=0.344, loss=-77.4]"
          ]
        },
        {
          "output_type": "stream",
          "name": "stdout",
          "text": [
            "Got 11 / 32 with accuracy 34.38\n"
          ]
        },
        {
          "output_type": "stream",
          "name": "stderr",
          "text": [
            "Epoch=0/5:  55%|█████▌    | 61/110 [07:09<05:28,  6.70s/it, acc=0.656, loss=-39.3]"
          ]
        },
        {
          "output_type": "stream",
          "name": "stdout",
          "text": [
            "Got 21 / 32 with accuracy 65.62\n"
          ]
        },
        {
          "output_type": "stream",
          "name": "stderr",
          "text": [
            "Epoch=0/5:  56%|█████▋    | 62/110 [07:16<05:27,  6.81s/it, acc=0.406, loss=-84.7]"
          ]
        },
        {
          "output_type": "stream",
          "name": "stdout",
          "text": [
            "Got 13 / 32 with accuracy 40.62\n"
          ]
        },
        {
          "output_type": "stream",
          "name": "stderr",
          "text": [
            "Epoch=0/5:  57%|█████▋    | 63/110 [07:23<05:22,  6.86s/it, acc=0.562, loss=-66.5]"
          ]
        },
        {
          "output_type": "stream",
          "name": "stdout",
          "text": [
            "Got 18 / 32 with accuracy 56.25\n"
          ]
        },
        {
          "output_type": "stream",
          "name": "stderr",
          "text": [
            "Epoch=0/5:  58%|█████▊    | 64/110 [07:29<05:10,  6.75s/it, acc=0.688, loss=-41.2]"
          ]
        },
        {
          "output_type": "stream",
          "name": "stdout",
          "text": [
            "Got 22 / 32 with accuracy 68.75\n"
          ]
        },
        {
          "output_type": "stream",
          "name": "stderr",
          "text": [
            "Epoch=0/5:  59%|█████▉    | 65/110 [07:36<05:07,  6.83s/it, acc=0.469, loss=-65.2]"
          ]
        },
        {
          "output_type": "stream",
          "name": "stdout",
          "text": [
            "Got 15 / 32 with accuracy 46.88\n"
          ]
        },
        {
          "output_type": "stream",
          "name": "stderr",
          "text": [
            "Epoch=0/5:  60%|██████    | 66/110 [07:43<04:56,  6.74s/it, acc=0.531, loss=-62.8]"
          ]
        },
        {
          "output_type": "stream",
          "name": "stdout",
          "text": [
            "Got 17 / 32 with accuracy 53.12\n"
          ]
        },
        {
          "output_type": "stream",
          "name": "stderr",
          "text": [
            "Epoch=0/5:  61%|██████    | 67/110 [07:50<04:56,  6.90s/it, acc=0.531, loss=-67.1]"
          ]
        },
        {
          "output_type": "stream",
          "name": "stdout",
          "text": [
            "Got 17 / 32 with accuracy 53.12\n"
          ]
        },
        {
          "output_type": "stream",
          "name": "stderr",
          "text": [
            "Epoch=0/5:  62%|██████▏   | 68/110 [07:56<04:42,  6.74s/it, acc=0.594, loss=-48.9]"
          ]
        },
        {
          "output_type": "stream",
          "name": "stdout",
          "text": [
            "Got 19 / 32 with accuracy 59.38\n"
          ]
        },
        {
          "output_type": "stream",
          "name": "stderr",
          "text": [
            "Epoch=0/5:  63%|██████▎   | 69/110 [08:04<04:43,  6.92s/it, acc=0.625, loss=-46]"
          ]
        },
        {
          "output_type": "stream",
          "name": "stdout",
          "text": [
            "Got 20 / 32 with accuracy 62.50\n"
          ]
        },
        {
          "output_type": "stream",
          "name": "stderr",
          "text": [
            "Epoch=0/5:  64%|██████▎   | 70/110 [08:10<04:29,  6.73s/it, acc=0.531, loss=-55.5]"
          ]
        },
        {
          "output_type": "stream",
          "name": "stdout",
          "text": [
            "Got 17 / 32 with accuracy 53.12\n"
          ]
        },
        {
          "output_type": "stream",
          "name": "stderr",
          "text": [
            "Epoch=0/5:  65%|██████▍   | 71/110 [08:17<04:28,  6.89s/it, acc=0.594, loss=-61.7]"
          ]
        },
        {
          "output_type": "stream",
          "name": "stdout",
          "text": [
            "Got 19 / 32 with accuracy 59.38\n"
          ]
        },
        {
          "output_type": "stream",
          "name": "stderr",
          "text": [
            "Epoch=0/5:  65%|██████▌   | 72/110 [08:23<04:14,  6.71s/it, acc=0.469, loss=-68]"
          ]
        },
        {
          "output_type": "stream",
          "name": "stdout",
          "text": [
            "Got 15 / 32 with accuracy 46.88\n"
          ]
        },
        {
          "output_type": "stream",
          "name": "stderr",
          "text": [
            "Epoch=0/5:  66%|██████▋   | 73/110 [08:31<04:14,  6.89s/it, acc=0.5, loss=-72.5]"
          ]
        },
        {
          "output_type": "stream",
          "name": "stdout",
          "text": [
            "Got 16 / 32 with accuracy 50.00\n"
          ]
        },
        {
          "output_type": "stream",
          "name": "stderr",
          "text": [
            "Epoch=0/5:  67%|██████▋   | 74/110 [08:37<04:02,  6.73s/it, acc=0.625, loss=-30.1]"
          ]
        },
        {
          "output_type": "stream",
          "name": "stdout",
          "text": [
            "Got 20 / 32 with accuracy 62.50\n"
          ]
        },
        {
          "output_type": "stream",
          "name": "stderr",
          "text": [
            "Epoch=0/5:  68%|██████▊   | 75/110 [08:45<04:03,  6.95s/it, acc=0.594, loss=-60.9]"
          ]
        },
        {
          "output_type": "stream",
          "name": "stdout",
          "text": [
            "Got 19 / 32 with accuracy 59.38\n"
          ]
        },
        {
          "output_type": "stream",
          "name": "stderr",
          "text": [
            "Epoch=0/5:  69%|██████▉   | 76/110 [08:51<03:50,  6.77s/it, acc=0.5, loss=-59.7]"
          ]
        },
        {
          "output_type": "stream",
          "name": "stdout",
          "text": [
            "Got 16 / 32 with accuracy 50.00\n"
          ]
        },
        {
          "output_type": "stream",
          "name": "stderr",
          "text": [
            "Epoch=0/5:  70%|███████   | 77/110 [08:59<03:52,  7.04s/it, acc=0.594, loss=-62.3]"
          ]
        },
        {
          "output_type": "stream",
          "name": "stdout",
          "text": [
            "Got 19 / 32 with accuracy 59.38\n"
          ]
        },
        {
          "output_type": "stream",
          "name": "stderr",
          "text": [
            "Epoch=0/5:  71%|███████   | 78/110 [09:05<03:37,  6.81s/it, acc=0.562, loss=-57.1]"
          ]
        },
        {
          "output_type": "stream",
          "name": "stdout",
          "text": [
            "Got 18 / 32 with accuracy 56.25\n"
          ]
        },
        {
          "output_type": "stream",
          "name": "stderr",
          "text": [
            "Epoch=0/5:  72%|███████▏  | 79/110 [09:12<03:35,  6.96s/it, acc=0.594, loss=-61.7]"
          ]
        },
        {
          "output_type": "stream",
          "name": "stdout",
          "text": [
            "Got 19 / 32 with accuracy 59.38\n"
          ]
        },
        {
          "output_type": "stream",
          "name": "stderr",
          "text": [
            "Epoch=0/5:  73%|███████▎  | 80/110 [09:18<03:22,  6.74s/it, acc=0.406, loss=-105]"
          ]
        },
        {
          "output_type": "stream",
          "name": "stdout",
          "text": [
            "Got 13 / 32 with accuracy 40.62\n"
          ]
        },
        {
          "output_type": "stream",
          "name": "stderr",
          "text": [
            "Epoch=0/5:  74%|███████▎  | 81/110 [09:26<03:19,  6.88s/it, acc=0.625, loss=-46.8]"
          ]
        },
        {
          "output_type": "stream",
          "name": "stdout",
          "text": [
            "Got 20 / 32 with accuracy 62.50\n"
          ]
        },
        {
          "output_type": "stream",
          "name": "stderr",
          "text": [
            "Epoch=0/5:  75%|███████▍  | 82/110 [09:32<03:07,  6.71s/it, acc=0.719, loss=-41.1]"
          ]
        },
        {
          "output_type": "stream",
          "name": "stdout",
          "text": [
            "Got 23 / 32 with accuracy 71.88\n"
          ]
        },
        {
          "output_type": "stream",
          "name": "stderr",
          "text": [
            "Epoch=0/5:  75%|███████▌  | 83/110 [09:39<03:06,  6.92s/it, acc=0.656, loss=-47.8]"
          ]
        },
        {
          "output_type": "stream",
          "name": "stdout",
          "text": [
            "Got 21 / 32 with accuracy 65.62\n"
          ]
        },
        {
          "output_type": "stream",
          "name": "stderr",
          "text": [
            "Epoch=0/5:  76%|███████▋  | 84/110 [09:46<02:56,  6.80s/it, acc=0.375, loss=-75.5]"
          ]
        },
        {
          "output_type": "stream",
          "name": "stdout",
          "text": [
            "Got 12 / 32 with accuracy 37.50\n"
          ]
        },
        {
          "output_type": "stream",
          "name": "stderr",
          "text": [
            "Epoch=0/5:  77%|███████▋  | 85/110 [09:53<02:54,  7.00s/it, acc=0.531, loss=-86.8]"
          ]
        },
        {
          "output_type": "stream",
          "name": "stdout",
          "text": [
            "Got 17 / 32 with accuracy 53.12\n"
          ]
        },
        {
          "output_type": "stream",
          "name": "stderr",
          "text": [
            "Epoch=0/5:  78%|███████▊  | 86/110 [10:00<02:44,  6.85s/it, acc=0.375, loss=-124]"
          ]
        },
        {
          "output_type": "stream",
          "name": "stdout",
          "text": [
            "Got 12 / 32 with accuracy 37.50\n"
          ]
        },
        {
          "output_type": "stream",
          "name": "stderr",
          "text": [
            "Epoch=0/5:  79%|███████▉  | 87/110 [10:07<02:39,  6.92s/it, acc=0.469, loss=-82.2]"
          ]
        },
        {
          "output_type": "stream",
          "name": "stdout",
          "text": [
            "Got 15 / 32 with accuracy 46.88\n"
          ]
        },
        {
          "output_type": "stream",
          "name": "stderr",
          "text": [
            "Epoch=0/5:  80%|████████  | 88/110 [10:14<02:31,  6.88s/it, acc=0.594, loss=-74.3]"
          ]
        },
        {
          "output_type": "stream",
          "name": "stdout",
          "text": [
            "Got 19 / 32 with accuracy 59.38\n"
          ]
        },
        {
          "output_type": "stream",
          "name": "stderr",
          "text": [
            "Epoch=0/5:  81%|████████  | 89/110 [10:21<02:25,  6.94s/it, acc=0.375, loss=-110]"
          ]
        },
        {
          "output_type": "stream",
          "name": "stdout",
          "text": [
            "Got 12 / 32 with accuracy 37.50\n"
          ]
        },
        {
          "output_type": "stream",
          "name": "stderr",
          "text": [
            "Epoch=0/5:  82%|████████▏ | 90/110 [10:28<02:18,  6.91s/it, acc=0.531, loss=-80.3]"
          ]
        },
        {
          "output_type": "stream",
          "name": "stdout",
          "text": [
            "Got 17 / 32 with accuracy 53.12\n"
          ]
        },
        {
          "output_type": "stream",
          "name": "stderr",
          "text": [
            "Epoch=0/5:  83%|████████▎ | 91/110 [10:34<02:10,  6.86s/it, acc=0.531, loss=-92.5]"
          ]
        },
        {
          "output_type": "stream",
          "name": "stdout",
          "text": [
            "Got 17 / 32 with accuracy 53.12\n"
          ]
        },
        {
          "output_type": "stream",
          "name": "stderr",
          "text": [
            "Epoch=0/5:  84%|████████▎ | 92/110 [10:41<02:03,  6.86s/it, acc=0.5, loss=-82]"
          ]
        },
        {
          "output_type": "stream",
          "name": "stdout",
          "text": [
            "Got 16 / 32 with accuracy 50.00\n"
          ]
        },
        {
          "output_type": "stream",
          "name": "stderr",
          "text": [
            "Epoch=0/5:  85%|████████▍ | 93/110 [10:48<01:56,  6.86s/it, acc=0.625, loss=-69.1]"
          ]
        },
        {
          "output_type": "stream",
          "name": "stdout",
          "text": [
            "Got 20 / 32 with accuracy 62.50\n"
          ]
        },
        {
          "output_type": "stream",
          "name": "stderr",
          "text": [
            "Epoch=0/5:  85%|████████▌ | 94/110 [10:55<01:50,  6.93s/it, acc=0.469, loss=-105]"
          ]
        },
        {
          "output_type": "stream",
          "name": "stdout",
          "text": [
            "Got 15 / 32 with accuracy 46.88\n"
          ]
        },
        {
          "output_type": "stream",
          "name": "stderr",
          "text": [
            "Epoch=0/5:  86%|████████▋ | 95/110 [11:02<01:42,  6.85s/it, acc=0.562, loss=-86.9]"
          ]
        },
        {
          "output_type": "stream",
          "name": "stdout",
          "text": [
            "Got 18 / 32 with accuracy 56.25\n"
          ]
        },
        {
          "output_type": "stream",
          "name": "stderr",
          "text": [
            "Epoch=0/5:  87%|████████▋ | 96/110 [11:09<01:37,  6.99s/it, acc=0.406, loss=-133]"
          ]
        },
        {
          "output_type": "stream",
          "name": "stdout",
          "text": [
            "Got 13 / 32 with accuracy 40.62\n"
          ]
        },
        {
          "output_type": "stream",
          "name": "stderr",
          "text": [
            "Epoch=0/5:  88%|████████▊ | 97/110 [11:16<01:28,  6.84s/it, acc=0.469, loss=-108]"
          ]
        },
        {
          "output_type": "stream",
          "name": "stdout",
          "text": [
            "Got 15 / 32 with accuracy 46.88\n"
          ]
        },
        {
          "output_type": "stream",
          "name": "stderr",
          "text": [
            "Epoch=0/5:  89%|████████▉ | 98/110 [11:23<01:24,  7.04s/it, acc=0.406, loss=-104]"
          ]
        },
        {
          "output_type": "stream",
          "name": "stdout",
          "text": [
            "Got 13 / 32 with accuracy 40.62\n"
          ]
        },
        {
          "output_type": "stream",
          "name": "stderr",
          "text": [
            "Epoch=0/5:  90%|█████████ | 99/110 [11:29<01:15,  6.83s/it, acc=0.531, loss=-98]"
          ]
        },
        {
          "output_type": "stream",
          "name": "stdout",
          "text": [
            "Got 17 / 32 with accuracy 53.12\n"
          ]
        },
        {
          "output_type": "stream",
          "name": "stderr",
          "text": [
            "Epoch=0/5:  91%|█████████ | 100/110 [11:37<01:09,  6.94s/it, acc=0.562, loss=-104]"
          ]
        },
        {
          "output_type": "stream",
          "name": "stdout",
          "text": [
            "Got 18 / 32 with accuracy 56.25\n"
          ]
        },
        {
          "output_type": "stream",
          "name": "stderr",
          "text": [
            "Epoch=0/5:  92%|█████████▏| 101/110 [11:43<01:00,  6.77s/it, acc=0.531, loss=-97.5]"
          ]
        },
        {
          "output_type": "stream",
          "name": "stdout",
          "text": [
            "Got 17 / 32 with accuracy 53.12\n"
          ]
        },
        {
          "output_type": "stream",
          "name": "stderr",
          "text": [
            "Epoch=0/5:  93%|█████████▎| 102/110 [11:51<00:55,  6.99s/it, acc=0.438, loss=-114]"
          ]
        },
        {
          "output_type": "stream",
          "name": "stdout",
          "text": [
            "Got 14 / 32 with accuracy 43.75\n"
          ]
        },
        {
          "output_type": "stream",
          "name": "stderr",
          "text": [
            "Epoch=0/5:  94%|█████████▎| 103/110 [11:57<00:47,  6.77s/it, acc=0.469, loss=-122]"
          ]
        },
        {
          "output_type": "stream",
          "name": "stdout",
          "text": [
            "Got 15 / 32 with accuracy 46.88\n"
          ]
        },
        {
          "output_type": "stream",
          "name": "stderr",
          "text": [
            "Epoch=0/5:  95%|█████████▍| 104/110 [12:04<00:41,  6.93s/it, acc=0.469, loss=-116]"
          ]
        },
        {
          "output_type": "stream",
          "name": "stdout",
          "text": [
            "Got 15 / 32 with accuracy 46.88\n"
          ]
        },
        {
          "output_type": "stream",
          "name": "stderr",
          "text": [
            "Epoch=0/5:  95%|█████████▌| 105/110 [12:10<00:33,  6.75s/it, acc=0.406, loss=-128]"
          ]
        },
        {
          "output_type": "stream",
          "name": "stdout",
          "text": [
            "Got 13 / 32 with accuracy 40.62\n"
          ]
        },
        {
          "output_type": "stream",
          "name": "stderr",
          "text": [
            "Epoch=0/5:  96%|█████████▋| 106/110 [12:18<00:27,  6.90s/it, acc=0.344, loss=-160]"
          ]
        },
        {
          "output_type": "stream",
          "name": "stdout",
          "text": [
            "Got 11 / 32 with accuracy 34.38\n"
          ]
        },
        {
          "output_type": "stream",
          "name": "stderr",
          "text": [
            "Epoch=0/5:  97%|█████████▋| 107/110 [12:24<00:20,  6.68s/it, acc=0.406, loss=-138]"
          ]
        },
        {
          "output_type": "stream",
          "name": "stdout",
          "text": [
            "Got 13 / 32 with accuracy 40.62\n"
          ]
        },
        {
          "output_type": "stream",
          "name": "stderr",
          "text": [
            "Epoch=0/5:  98%|█████████▊| 108/110 [12:31<00:13,  6.90s/it, acc=0.562, loss=-113]"
          ]
        },
        {
          "output_type": "stream",
          "name": "stdout",
          "text": [
            "Got 18 / 32 with accuracy 56.25\n"
          ]
        },
        {
          "output_type": "stream",
          "name": "stderr",
          "text": [
            "Epoch=0/5:  99%|█████████▉| 109/110 [12:38<00:06,  6.71s/it, acc=0.5, loss=-117]"
          ]
        },
        {
          "output_type": "stream",
          "name": "stdout",
          "text": [
            "Got 16 / 32 with accuracy 50.00\n"
          ]
        },
        {
          "output_type": "stream",
          "name": "stderr",
          "text": []
        },
        {
          "output_type": "stream",
          "name": "stdout",
          "text": [
            "Got 9 / 12 with accuracy 75.00\n",
            "1\n"
          ]
        },
        {
          "output_type": "stream",
          "name": "stderr",
          "text": [
            "\r  0%|          | 0/110 [00:00<?, ?it/s]"
          ]
        },
        {
          "output_type": "stream",
          "name": "stdout",
          "text": [
            "110\n"
          ]
        },
        {
          "output_type": "stream",
          "name": "stderr",
          "text": [
            "Epoch=1/5:   1%|          | 1/110 [00:07<12:44,  7.02s/it, acc=0.562, loss=-69.2]"
          ]
        },
        {
          "output_type": "stream",
          "name": "stdout",
          "text": [
            "Got 18 / 32 with accuracy 56.25\n"
          ]
        },
        {
          "output_type": "stream",
          "name": "stderr",
          "text": [
            "Epoch=1/5:   2%|▏         | 2/110 [00:13<12:32,  6.96s/it, acc=0.469, loss=-128]"
          ]
        },
        {
          "output_type": "stream",
          "name": "stdout",
          "text": [
            "Got 15 / 32 with accuracy 46.88\n"
          ]
        },
        {
          "output_type": "stream",
          "name": "stderr",
          "text": [
            "Epoch=1/5:   3%|▎         | 3/110 [00:20<12:20,  6.92s/it, acc=0.406, loss=-107]"
          ]
        },
        {
          "output_type": "stream",
          "name": "stdout",
          "text": [
            "Got 13 / 32 with accuracy 40.62\n"
          ]
        },
        {
          "output_type": "stream",
          "name": "stderr",
          "text": [
            "Epoch=1/5:   4%|▎         | 4/110 [00:27<12:14,  6.93s/it, acc=0.438, loss=-108]"
          ]
        },
        {
          "output_type": "stream",
          "name": "stdout",
          "text": [
            "Got 14 / 32 with accuracy 43.75\n"
          ]
        },
        {
          "output_type": "stream",
          "name": "stderr",
          "text": [
            "Epoch=1/5:   5%|▍         | 5/110 [00:34<11:57,  6.83s/it, acc=0.438, loss=-129]"
          ]
        },
        {
          "output_type": "stream",
          "name": "stdout",
          "text": [
            "Got 14 / 32 with accuracy 43.75\n"
          ]
        },
        {
          "output_type": "stream",
          "name": "stderr",
          "text": [
            "Epoch=1/5:   5%|▌         | 6/110 [00:41<12:14,  7.06s/it, acc=0.531, loss=-116]"
          ]
        },
        {
          "output_type": "stream",
          "name": "stdout",
          "text": [
            "Got 17 / 32 with accuracy 53.12\n"
          ]
        },
        {
          "output_type": "stream",
          "name": "stderr",
          "text": [
            "Epoch=1/5:   6%|▋         | 7/110 [00:48<11:42,  6.82s/it, acc=0.531, loss=-117]"
          ]
        },
        {
          "output_type": "stream",
          "name": "stdout",
          "text": [
            "Got 17 / 32 with accuracy 53.12\n"
          ]
        },
        {
          "output_type": "stream",
          "name": "stderr",
          "text": [
            "Epoch=1/5:   7%|▋         | 8/110 [00:55<11:53,  7.00s/it, acc=0.625, loss=-82.4]"
          ]
        },
        {
          "output_type": "stream",
          "name": "stdout",
          "text": [
            "Got 20 / 32 with accuracy 62.50\n"
          ]
        },
        {
          "output_type": "stream",
          "name": "stderr",
          "text": [
            "Epoch=1/5:   8%|▊         | 9/110 [01:02<11:29,  6.83s/it, acc=0.375, loss=-143]"
          ]
        },
        {
          "output_type": "stream",
          "name": "stdout",
          "text": [
            "Got 12 / 32 with accuracy 37.50\n"
          ]
        },
        {
          "output_type": "stream",
          "name": "stderr",
          "text": [
            "Epoch=1/5:   9%|▉         | 10/110 [01:09<11:49,  7.09s/it, acc=0.5, loss=-111]"
          ]
        },
        {
          "output_type": "stream",
          "name": "stdout",
          "text": [
            "Got 16 / 32 with accuracy 50.00\n"
          ]
        },
        {
          "output_type": "stream",
          "name": "stderr",
          "text": [
            "Epoch=1/5:  10%|█         | 11/110 [01:16<11:22,  6.90s/it, acc=0.469, loss=-96.6]"
          ]
        },
        {
          "output_type": "stream",
          "name": "stdout",
          "text": [
            "Got 15 / 32 with accuracy 46.88\n"
          ]
        },
        {
          "output_type": "stream",
          "name": "stderr",
          "text": [
            "Epoch=1/5:  11%|█         | 12/110 [01:23<11:31,  7.06s/it, acc=0.688, loss=-88.3]"
          ]
        },
        {
          "output_type": "stream",
          "name": "stdout",
          "text": [
            "Got 22 / 32 with accuracy 68.75\n"
          ]
        },
        {
          "output_type": "stream",
          "name": "stderr",
          "text": [
            "Epoch=1/5:  12%|█▏        | 13/110 [01:30<11:05,  6.86s/it, acc=0.438, loss=-120]"
          ]
        },
        {
          "output_type": "stream",
          "name": "stdout",
          "text": [
            "Got 14 / 32 with accuracy 43.75\n"
          ]
        },
        {
          "output_type": "stream",
          "name": "stderr",
          "text": [
            "Epoch=1/5:  13%|█▎        | 14/110 [01:37<11:18,  7.07s/it, acc=0.406, loss=-136]"
          ]
        },
        {
          "output_type": "stream",
          "name": "stdout",
          "text": [
            "Got 13 / 32 with accuracy 40.62\n"
          ]
        },
        {
          "output_type": "stream",
          "name": "stderr",
          "text": [
            "Epoch=1/5:  14%|█▎        | 15/110 [01:43<10:48,  6.82s/it, acc=0.656, loss=-65.4]"
          ]
        },
        {
          "output_type": "stream",
          "name": "stdout",
          "text": [
            "Got 21 / 32 with accuracy 65.62\n"
          ]
        },
        {
          "output_type": "stream",
          "name": "stderr",
          "text": [
            "Epoch=1/5:  15%|█▍        | 16/110 [01:51<10:53,  6.95s/it, acc=0.5, loss=-132]"
          ]
        },
        {
          "output_type": "stream",
          "name": "stdout",
          "text": [
            "Got 16 / 32 with accuracy 50.00\n"
          ]
        },
        {
          "output_type": "stream",
          "name": "stderr",
          "text": [
            "Epoch=1/5:  15%|█▌        | 17/110 [01:57<10:28,  6.75s/it, acc=0.5, loss=-158]"
          ]
        },
        {
          "output_type": "stream",
          "name": "stdout",
          "text": [
            "Got 16 / 32 with accuracy 50.00\n"
          ]
        },
        {
          "output_type": "stream",
          "name": "stderr",
          "text": [
            "Epoch=1/5:  16%|█▋        | 18/110 [02:04<10:34,  6.89s/it, acc=0.656, loss=-92.4]"
          ]
        },
        {
          "output_type": "stream",
          "name": "stdout",
          "text": [
            "Got 21 / 32 with accuracy 65.62\n"
          ]
        },
        {
          "output_type": "stream",
          "name": "stderr",
          "text": [
            "Epoch=1/5:  17%|█▋        | 19/110 [02:11<10:20,  6.82s/it, acc=0.5, loss=-128]"
          ]
        },
        {
          "output_type": "stream",
          "name": "stdout",
          "text": [
            "Got 16 / 32 with accuracy 50.00\n"
          ]
        },
        {
          "output_type": "stream",
          "name": "stderr",
          "text": [
            "Epoch=1/5:  18%|█▊        | 20/110 [02:18<10:11,  6.80s/it, acc=0.438, loss=-155]"
          ]
        },
        {
          "output_type": "stream",
          "name": "stdout",
          "text": [
            "Got 14 / 32 with accuracy 43.75\n"
          ]
        },
        {
          "output_type": "stream",
          "name": "stderr",
          "text": [
            "Epoch=1/5:  19%|█▉        | 21/110 [02:24<10:01,  6.76s/it, acc=0.688, loss=-81.4]"
          ]
        },
        {
          "output_type": "stream",
          "name": "stdout",
          "text": [
            "Got 22 / 32 with accuracy 68.75\n"
          ]
        },
        {
          "output_type": "stream",
          "name": "stderr",
          "text": [
            "Epoch=1/5:  20%|██        | 22/110 [02:31<09:54,  6.75s/it, acc=0.656, loss=-82]"
          ]
        },
        {
          "output_type": "stream",
          "name": "stdout",
          "text": [
            "Got 21 / 32 with accuracy 65.62\n"
          ]
        },
        {
          "output_type": "stream",
          "name": "stderr",
          "text": [
            "Epoch=1/5:  21%|██        | 23/110 [02:38<09:58,  6.88s/it, acc=0.5, loss=-145]"
          ]
        },
        {
          "output_type": "stream",
          "name": "stdout",
          "text": [
            "Got 16 / 32 with accuracy 50.00\n"
          ]
        },
        {
          "output_type": "stream",
          "name": "stderr",
          "text": [
            "Epoch=1/5:  22%|██▏       | 24/110 [02:45<09:41,  6.77s/it, acc=0.531, loss=-140]"
          ]
        },
        {
          "output_type": "stream",
          "name": "stdout",
          "text": [
            "Got 17 / 32 with accuracy 53.12\n"
          ]
        },
        {
          "output_type": "stream",
          "name": "stderr",
          "text": [
            "Epoch=1/5:  23%|██▎       | 25/110 [02:52<09:50,  6.95s/it, acc=0.438, loss=-137]"
          ]
        },
        {
          "output_type": "stream",
          "name": "stdout",
          "text": [
            "Got 14 / 32 with accuracy 43.75\n"
          ]
        },
        {
          "output_type": "stream",
          "name": "stderr",
          "text": [
            "Epoch=1/5:  24%|██▎       | 26/110 [02:58<09:26,  6.74s/it, acc=0.5, loss=-142]"
          ]
        },
        {
          "output_type": "stream",
          "name": "stdout",
          "text": [
            "Got 16 / 32 with accuracy 50.00\n"
          ]
        },
        {
          "output_type": "stream",
          "name": "stderr",
          "text": [
            "Epoch=1/5:  25%|██▍       | 27/110 [03:06<09:35,  6.93s/it, acc=0.375, loss=-160]"
          ]
        },
        {
          "output_type": "stream",
          "name": "stdout",
          "text": [
            "Got 12 / 32 with accuracy 37.50\n"
          ]
        },
        {
          "output_type": "stream",
          "name": "stderr",
          "text": [
            "Epoch=1/5:  25%|██▌       | 28/110 [03:12<09:12,  6.73s/it, acc=0.406, loss=-171]"
          ]
        },
        {
          "output_type": "stream",
          "name": "stdout",
          "text": [
            "Got 13 / 32 with accuracy 40.62\n"
          ]
        },
        {
          "output_type": "stream",
          "name": "stderr",
          "text": [
            "Epoch=1/5:  26%|██▋       | 29/110 [03:19<09:23,  6.95s/it, acc=0.531, loss=-103]"
          ]
        },
        {
          "output_type": "stream",
          "name": "stdout",
          "text": [
            "Got 17 / 32 with accuracy 53.12\n"
          ]
        },
        {
          "output_type": "stream",
          "name": "stderr",
          "text": [
            "Epoch=1/5:  27%|██▋       | 30/110 [03:26<09:03,  6.79s/it, acc=0.656, loss=-86.8]"
          ]
        },
        {
          "output_type": "stream",
          "name": "stdout",
          "text": [
            "Got 21 / 32 with accuracy 65.62\n"
          ]
        },
        {
          "output_type": "stream",
          "name": "stderr",
          "text": [
            "Epoch=1/5:  28%|██▊       | 31/110 [03:33<09:06,  6.91s/it, acc=0.562, loss=-129]"
          ]
        },
        {
          "output_type": "stream",
          "name": "stdout",
          "text": [
            "Got 18 / 32 with accuracy 56.25\n"
          ]
        },
        {
          "output_type": "stream",
          "name": "stderr",
          "text": [
            "Epoch=1/5:  29%|██▉       | 32/110 [03:39<08:43,  6.71s/it, acc=0.75, loss=-63.3]"
          ]
        },
        {
          "output_type": "stream",
          "name": "stdout",
          "text": [
            "Got 24 / 32 with accuracy 75.00\n"
          ]
        },
        {
          "output_type": "stream",
          "name": "stderr",
          "text": [
            "Epoch=1/5:  30%|███       | 33/110 [03:46<08:47,  6.85s/it, acc=0.5, loss=-159]"
          ]
        },
        {
          "output_type": "stream",
          "name": "stdout",
          "text": [
            "Got 16 / 32 with accuracy 50.00\n"
          ]
        },
        {
          "output_type": "stream",
          "name": "stderr",
          "text": [
            "Epoch=1/5:  31%|███       | 34/110 [03:53<08:29,  6.70s/it, acc=0.406, loss=-160]"
          ]
        },
        {
          "output_type": "stream",
          "name": "stdout",
          "text": [
            "Got 13 / 32 with accuracy 40.62\n"
          ]
        },
        {
          "output_type": "stream",
          "name": "stderr",
          "text": [
            "Epoch=1/5:  32%|███▏      | 35/110 [04:00<08:41,  6.95s/it, acc=0.594, loss=-108]"
          ]
        },
        {
          "output_type": "stream",
          "name": "stdout",
          "text": [
            "Got 19 / 32 with accuracy 59.38\n"
          ]
        },
        {
          "output_type": "stream",
          "name": "stderr",
          "text": [
            "Epoch=1/5:  33%|███▎      | 36/110 [04:06<08:18,  6.74s/it, acc=0.438, loss=-148]"
          ]
        },
        {
          "output_type": "stream",
          "name": "stdout",
          "text": [
            "Got 14 / 32 with accuracy 43.75\n"
          ]
        },
        {
          "output_type": "stream",
          "name": "stderr",
          "text": [
            "Epoch=1/5:  34%|███▎      | 37/110 [04:14<08:20,  6.85s/it, acc=0.625, loss=-113]"
          ]
        },
        {
          "output_type": "stream",
          "name": "stdout",
          "text": [
            "Got 20 / 32 with accuracy 62.50\n"
          ]
        },
        {
          "output_type": "stream",
          "name": "stderr",
          "text": [
            "Epoch=1/5:  35%|███▍      | 38/110 [04:20<08:02,  6.70s/it, acc=0.656, loss=-98.7]"
          ]
        },
        {
          "output_type": "stream",
          "name": "stdout",
          "text": [
            "Got 21 / 32 with accuracy 65.62\n"
          ]
        },
        {
          "output_type": "stream",
          "name": "stderr",
          "text": [
            "Epoch=1/5:  35%|███▌      | 39/110 [04:27<07:59,  6.75s/it, acc=0.5, loss=-107]"
          ]
        },
        {
          "output_type": "stream",
          "name": "stdout",
          "text": [
            "Got 16 / 32 with accuracy 50.00\n"
          ]
        },
        {
          "output_type": "stream",
          "name": "stderr",
          "text": [
            "Epoch=1/5:  36%|███▋      | 40/110 [04:33<07:43,  6.62s/it, acc=0.562, loss=-115]"
          ]
        },
        {
          "output_type": "stream",
          "name": "stdout",
          "text": [
            "Got 18 / 32 with accuracy 56.25\n"
          ]
        },
        {
          "output_type": "stream",
          "name": "stderr",
          "text": [
            "Epoch=1/5:  37%|███▋      | 41/110 [04:40<07:40,  6.68s/it, acc=0.562, loss=-153]"
          ]
        },
        {
          "output_type": "stream",
          "name": "stdout",
          "text": [
            "Got 18 / 32 with accuracy 56.25\n"
          ]
        },
        {
          "output_type": "stream",
          "name": "stderr",
          "text": [
            "Epoch=1/5:  38%|███▊      | 42/110 [04:46<07:30,  6.63s/it, acc=0.688, loss=-97.3]"
          ]
        },
        {
          "output_type": "stream",
          "name": "stdout",
          "text": [
            "Got 22 / 32 with accuracy 68.75\n"
          ]
        },
        {
          "output_type": "stream",
          "name": "stderr",
          "text": [
            "Epoch=1/5:  39%|███▉      | 43/110 [04:53<07:30,  6.73s/it, acc=0.594, loss=-117]"
          ]
        },
        {
          "output_type": "stream",
          "name": "stdout",
          "text": [
            "Got 19 / 32 with accuracy 59.38\n"
          ]
        },
        {
          "output_type": "stream",
          "name": "stderr",
          "text": [
            "Epoch=1/5:  40%|████      | 44/110 [05:00<07:26,  6.77s/it, acc=0.344, loss=-201]"
          ]
        },
        {
          "output_type": "stream",
          "name": "stdout",
          "text": [
            "Got 11 / 32 with accuracy 34.38\n"
          ]
        },
        {
          "output_type": "stream",
          "name": "stderr",
          "text": [
            "Epoch=1/5:  41%|████      | 45/110 [05:07<07:19,  6.77s/it, acc=0.469, loss=-175]"
          ]
        },
        {
          "output_type": "stream",
          "name": "stdout",
          "text": [
            "Got 15 / 32 with accuracy 46.88\n"
          ]
        },
        {
          "output_type": "stream",
          "name": "stderr",
          "text": [
            "Epoch=1/5:  42%|████▏     | 46/110 [05:14<07:12,  6.76s/it, acc=0.594, loss=-123]"
          ]
        },
        {
          "output_type": "stream",
          "name": "stdout",
          "text": [
            "Got 19 / 32 with accuracy 59.38\n"
          ]
        },
        {
          "output_type": "stream",
          "name": "stderr",
          "text": [
            "Epoch=1/5:  43%|████▎     | 47/110 [05:21<07:07,  6.79s/it, acc=0.625, loss=-96.4]"
          ]
        },
        {
          "output_type": "stream",
          "name": "stdout",
          "text": [
            "Got 20 / 32 with accuracy 62.50\n"
          ]
        },
        {
          "output_type": "stream",
          "name": "stderr",
          "text": [
            "Epoch=1/5:  44%|████▎     | 48/110 [05:28<07:16,  7.05s/it, acc=0.594, loss=-143]"
          ]
        },
        {
          "output_type": "stream",
          "name": "stdout",
          "text": [
            "Got 19 / 32 with accuracy 59.38\n"
          ]
        }
      ]
    }
  ]
}