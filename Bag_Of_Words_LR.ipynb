{
  "cells": [
    {
      "cell_type": "markdown",
      "metadata": {
        "id": "view-in-github",
        "colab_type": "text"
      },
      "source": [
        "<a href=\"https://colab.research.google.com/github/Joongeun/Internship/blob/main/Bag_Of_Words_LR.ipynb\" target=\"_parent\"><img src=\"https://colab.research.google.com/assets/colab-badge.svg\" alt=\"Open In Colab\"/></a>"
      ]
    },
    {
      "cell_type": "code",
      "execution_count": 1,
      "metadata": {
        "colab": {
          "base_uri": "https://localhost:8080/"
        },
        "id": "SEAmDvjK7kqr",
        "outputId": "3cb0ab03-0e89-4d77-9ada-7bbeefd82eca"
      },
      "outputs": [
        {
          "output_type": "stream",
          "name": "stdout",
          "text": [
            "Requirement already satisfied: nltk in /usr/local/lib/python3.10/dist-packages (3.8.1)\n",
            "Requirement already satisfied: click in /usr/local/lib/python3.10/dist-packages (from nltk) (8.1.3)\n",
            "Requirement already satisfied: joblib in /usr/local/lib/python3.10/dist-packages (from nltk) (1.2.0)\n",
            "Requirement already satisfied: regex>=2021.8.3 in /usr/local/lib/python3.10/dist-packages (from nltk) (2022.10.31)\n",
            "Requirement already satisfied: tqdm in /usr/local/lib/python3.10/dist-packages (from nltk) (4.65.0)\n"
          ]
        },
        {
          "output_type": "stream",
          "name": "stderr",
          "text": [
            "[nltk_data] Downloading package stopwords to /root/nltk_data...\n",
            "[nltk_data]   Unzipping corpora/stopwords.zip.\n"
          ]
        }
      ],
      "source": [
        "from sklearn.model_selection import StratifiedKFold\n",
        "from sklearn.feature_extraction.text import CountVectorizer\n",
        "from sklearn.linear_model import LogisticRegression\n",
        "from sklearn import metrics\n",
        "from sklearn.metrics import f1_score\n",
        "import pandas as pd\n",
        "import numpy as np\n",
        "!pip install nltk\n",
        "import nltk\n",
        "nltk.download('stopwords')\n",
        "from nltk.corpus import stopwords"
      ]
    },
    {
      "cell_type": "code",
      "execution_count": 2,
      "metadata": {
        "id": "tbB3k8T075h8"
      },
      "outputs": [],
      "source": [
        "def clean_text(sentences):\n",
        "  cleaned_sentence = \"\"\n",
        "  sentences = sentences.lower().split()\n",
        "  ##removing stop words\n",
        "  words = [i for i in sentences if i not in stopwords.words('english')]\n",
        "  words = \" \".join(words)               ##joining our words back to sentences\n",
        "  return words"
      ]
    },
    {
      "cell_type": "code",
      "execution_count": 3,
      "metadata": {
        "id": "rlOGiip776uL"
      },
      "outputs": [],
      "source": [
        "def classify(length, ngram, count, label):\n",
        "  X = df['selftext'][0:length].tolist()\n",
        "  Y = df['labels'][0:length].tolist()\n",
        "  for i, post in enumerate(X):\n",
        "    X[i] = clean_text(post)\n",
        "  if ngram == \"binary\":\n",
        "    vectorizer = CountVectorizer(binary=True)\n",
        "  elif ngram == \"unigram\":\n",
        "    vectorizer = CountVectorizer()\n",
        "  else:\n",
        "    vectorizer = CountVectorizer(ngram_range = (2, 2))\n",
        "  bag = vectorizer.fit_transform(X)\n",
        "  bag = bag.toarray()\n",
        "\n",
        "  skf = StratifiedKFold(n_splits=10)\n",
        "  skf.get_n_splits(bag, Y)\n",
        "\n",
        "  for i, (train_index, test_index) in enumerate(skf.split(bag, Y)):\n",
        "    # print(i)\n",
        "    X_train, y_train, X_test, y_test = [], [], [], []\n",
        "    for i in train_index:\n",
        "      X_train.append(bag[i])\n",
        "      y_train.append(Y[i])\n",
        "    for i in test_index:\n",
        "      X_test.append(bag[i])\n",
        "      y_test.append(Y[i])\n",
        "    (X_train, y_train, X_test, y_test) = map(np.array, (X_train, y_train, X_test, y_test))\n",
        "  w = {0:2000-count, 1:count}\n",
        "  lr = LogisticRegression(C=100.0, random_state=1, solver='lbfgs', multi_class='ovr', max_iter = 100000, class_weight = w)\n",
        "  #\n",
        "  # Fit the model\n",
        "  #\n",
        "  lr.fit(X_train, y_train)\n",
        "  #\n",
        "  # Create the predictions\n",
        "  #\n",
        "  y_predict = lr.predict(X_test)\n",
        "\n",
        "  # Use metrics.accuracy_score to measure the score\n",
        "  #'macro' favors minority, 'weighted' favors majority, 'micro' favors none (when you have multiclass)\n",
        "  if label in [1.0, 4.0]:\n",
        "    score = f1_score(y_test, y_predict, average='micro', labels=np.unique(y_predict))\n",
        "  else:\n",
        "    score = f1_score(y_test, y_predict, average='macro', labels=np.unique(y_predict))\n",
        "  return \"%.3f\" %score"
      ]
    },
    {
      "cell_type": "code",
      "execution_count": null,
      "metadata": {
        "colab": {
          "background_save": true,
          "base_uri": "https://localhost:8080/"
        },
        "id": "veVPk0C17pnc",
        "outputId": "5112815c-30bc-4237-f2ac-05e58207f67f"
      },
      "outputs": [
        {
          "output_type": "stream",
          "name": "stdout",
          "text": [
            "Scores for 1.0 : \n",
            "\n",
            "0.700\n",
            "0.650\n",
            "0.500\n",
            "0.700\n",
            "0.800\n",
            "0.750\n",
            "0.686\n",
            "0.750\n",
            "0.633\n",
            "0.700\n",
            "0.682\n",
            "0.775\n",
            "0.723\n",
            "0.686\n",
            "0.747\n",
            "0.706\n",
            "0.747\n",
            "0.761\n",
            "0.711\n",
            "0.665\n",
            "-----------------------\n",
            "0.600\n",
            "0.400\n",
            "0.533\n",
            "0.600\n",
            "0.680\n",
            "0.717\n",
            "0.614\n",
            "0.662\n",
            "0.633\n",
            "0.620\n",
            "0.645\n",
            "0.683\n",
            "0.677\n",
            "0.700\n",
            "0.640\n",
            "0.675\n",
            "0.665\n",
            "0.694\n",
            "0.679\n",
            "0.615\n",
            "-----------------------\n",
            "0.600\n",
            "0.650\n",
            "0.567\n",
            "0.650\n",
            "0.860\n",
            "0.733\n",
            "0.643\n",
            "0.700\n",
            "0.644\n",
            "0.680\n",
            "0.700\n",
            "0.775\n",
            "0.731\n",
            "0.686\n",
            "0.713\n",
            "0.688\n",
            "0.718\n",
            "0.756\n",
            "0.763\n",
            "0.710\n",
            "-----------------------\n",
            "\n",
            "\n"
          ]
        }
      ],
      "source": [
        "df = pd.read_csv('/content/Labeled Posts - preprocessed_csv.csv')\n",
        "# for i in list(set(df.labels))[:6]:\n",
        "for i in [1.0, 2.0, 3.0, 4.0]\n",
        "  count = 0\n",
        "  for ind in df.index:\n",
        "    # float 0.0, 1.0, 2.0, 3.0, 4.0, 5.0 - represents: general, question, advice, encouragement, experience, bragging posts\n",
        "    if df.loc[ind, \"labels\"] != i:\n",
        "      df.loc[ind, \"labels\"] = 0\n",
        "    else:\n",
        "      df.loc[ind, \"labels\"] = 1\n",
        "      count += 1\n",
        "  length = 100\n",
        "  unigram, bigram, binary = [], [], []\n",
        "  while length < 2100:\n",
        "    unigram.append(classify(length, \"unigram\", count, i))\n",
        "    bigram.append(classify(length, \"bigram\", count, i))\n",
        "    binary.append(classify(length, \"binary\", count, i))\n",
        "    length += 100\n",
        "  print(\"Scores for\", i, \": \\n\")\n",
        "  for i in unigram:\n",
        "    print(i)\n",
        "  print(\"-----------------------\")\n",
        "  for i in bigram:\n",
        "    print(i)\n",
        "  print(\"-----------------------\")\n",
        "  for i in binary:\n",
        "    print(i)\n",
        "  print(\"-----------------------\")\n",
        "  print(\"\\n\")\n",
        "  df = pd.read_csv('/content/Labeled Posts - preprocessed_csv.csv')"
      ]
    },
    {
      "cell_type": "code",
      "execution_count": null,
      "metadata": {
        "colab": {
          "base_uri": "https://localhost:8080/"
        },
        "id": "7OtCs_oRCH7a",
        "outputId": "18ed72aa-cce6-4670-e168-c547aa359fbf"
      },
      "outputs": [
        {
          "name": "stdout",
          "output_type": "stream",
          "text": [
            "1046 103 90 675 25\n",
            "61\n",
            "{0: 1325, 1: 675}\n"
          ]
        }
      ],
      "source": [
        "#test to see how many of each post there are\n",
        "import pandas as pd\n",
        "df = pd.read_csv('/content/Labeled Posts - preprocessed_csv.csv')\n",
        "labels = list(df.labels)\n",
        "questions = labels.count(1.0)\n",
        "advice = labels.count(2.0)\n",
        "encouragement  = labels.count(3.0)\n",
        "experience = labels.count(4.0)\n",
        "bragging = labels.count(5.0)\n",
        "print(questions, advice, encouragement, experience, bragging)\n",
        "print(labels.count(0.0))\n",
        "ratio = {0:2000-experience, 1:experience}\n",
        "print(ratio)"
      ]
    }
  ],
  "metadata": {
    "colab": {
      "provenance": [],
      "authorship_tag": "ABX9TyN6lYySd6fIYiQfKGJh5wH+",
      "include_colab_link": true
    },
    "kernelspec": {
      "display_name": "Python 3",
      "name": "python3"
    },
    "language_info": {
      "name": "python"
    }
  },
  "nbformat": 4,
  "nbformat_minor": 0
}