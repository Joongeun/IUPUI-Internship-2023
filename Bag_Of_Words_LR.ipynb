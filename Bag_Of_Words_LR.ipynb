{
  "cells": [
    {
      "cell_type": "code",
      "execution_count": null,
      "metadata": {
        "colab": {
          "base_uri": "https://localhost:8080/"
        },
        "executionInfo": {
          "elapsed": 10039,
          "status": "ok",
          "timestamp": 1690349906981,
          "user": {
            "displayName": "Joongeun Choi",
            "userId": "16179959334871840414"
          },
          "user_tz": 240
        },
        "id": "SEAmDvjK7kqr",
        "outputId": "d2ed4422-ead6-433b-c098-11977f69df99"
      },
      "outputs": [
        {
          "output_type": "stream",
          "name": "stdout",
          "text": [
            "Requirement already satisfied: nltk in /usr/local/lib/python3.10/dist-packages (3.8.1)\n",
            "Requirement already satisfied: click in /usr/local/lib/python3.10/dist-packages (from nltk) (8.1.6)\n",
            "Requirement already satisfied: joblib in /usr/local/lib/python3.10/dist-packages (from nltk) (1.3.1)\n",
            "Requirement already satisfied: regex>=2021.8.3 in /usr/local/lib/python3.10/dist-packages (from nltk) (2022.10.31)\n",
            "Requirement already satisfied: tqdm in /usr/local/lib/python3.10/dist-packages (from nltk) (4.65.0)\n"
          ]
        },
        {
          "output_type": "stream",
          "name": "stderr",
          "text": [
            "[nltk_data] Downloading package stopwords to /root/nltk_data...\n",
            "[nltk_data]   Unzipping corpora/stopwords.zip.\n"
          ]
        }
      ],
      "source": [
        "from sklearn.model_selection import StratifiedKFold\n",
        "from sklearn.feature_extraction.text import CountVectorizer\n",
        "from sklearn.linear_model import LogisticRegression\n",
        "from sklearn import metrics\n",
        "from sklearn.metrics import f1_score\n",
        "import pandas as pd\n",
        "import numpy as np\n",
        "!pip install nltk\n",
        "import nltk\n",
        "nltk.download('stopwords')\n",
        "from nltk.corpus import stopwords"
      ]
    },
    {
      "cell_type": "code",
      "execution_count": null,
      "metadata": {
        "id": "tbB3k8T075h8"
      },
      "outputs": [],
      "source": [
        "def clean_text(sentences):\n",
        "  cleaned_sentence = \"\"\n",
        "  sentences = sentences.lower().split()\n",
        "  ##removing stop words\n",
        "  words = [i for i in sentences if i not in stopwords.words('english')]\n",
        "  words = \" \".join(words)               ##joining our words back to sentences\n",
        "  return words"
      ]
    },
    {
      "cell_type": "code",
      "execution_count": null,
      "metadata": {
        "id": "GvQbSYXWAoai"
      },
      "outputs": [],
      "source": [
        "def preprocess(length, ngram):\n",
        "  X = df['selftext'][0:length].tolist()\n",
        "  Y = df['labels'][0:length].tolist()\n",
        "  for i, post in enumerate(X):\n",
        "    X[i] = clean_text(post)\n",
        "  if ngram == \"binary\":\n",
        "    vectorizer = CountVectorizer(binary=True)\n",
        "  elif ngram == \"unigram\":\n",
        "    vectorizer = CountVectorizer()\n",
        "  else:\n",
        "    vectorizer = CountVectorizer(ngram_range = (2, 2), binary=False) #Bigram/binary\n",
        "  bag = vectorizer.fit_transform(X)\n",
        "  #len(bag) == 100 - vectors of posts\n",
        "  bag = bag.toarray()\n",
        "  skf = StratifiedKFold(n_splits=10)\n",
        "  skf.get_n_splits(bag, Y)\n",
        "  X_train, y_train, X_test, y_test = [], [], [], []\n",
        "  for i, (train_index, test_index) in enumerate(skf.split(bag, Y)):\n",
        "    xtrain, ytrain, xtest, ytest = [], [], [], []\n",
        "    for j in train_index:\n",
        "      xtrain.append(bag[j])\n",
        "      ytrain.append(Y[j])\n",
        "    for j in test_index:\n",
        "      xtest.append(bag[j])\n",
        "      ytest.append(Y[j])\n",
        "    X_train.append(xtrain)\n",
        "    y_train.append(ytrain)\n",
        "    X_test.append(xtest)\n",
        "    y_test.append(ytest)\n",
        "  return X_train, y_train, X_test, y_test\n",
        "  #for 100 posts:\n",
        "  #len(X_train, y_train) == 10, each of the 10 folds have 90 np vector arrays (posts)\n",
        "  #len(X_test, y_test) == 10, 10 np arrays per fold - 100 posts total\n",
        "# print(X_test)\n",
        "# print(y_test)\n",
        "# print(len(X_test))\n",
        "# print(X_test[0])\n",
        "# print(len(X_test[0]))"
      ]
    },
    {
      "cell_type": "code",
      "execution_count": null,
      "metadata": {
        "id": "rlOGiip776uL"
      },
      "outputs": [],
      "source": [
        "def classify(X_train, y_train, X_test, y_test, length, count, label):\n",
        "  w = {0:length-count, 1:count}\n",
        "  lr = LogisticRegression(C=100.0, random_state=1, solver='lbfgs', multi_class='ovr', max_iter = 1000000, class_weight = w)\n",
        "\n",
        "  # Use metrics.accuracy_score to measure the score\n",
        "  #'macro' favors minority, 'weighted' favors majority, 'micro' favors none (when you have multiclass)\n",
        "  scores = []\n",
        "  for i in range(0, 10):\n",
        "    #Get 9 folds for training\n",
        "    xtrain = X_train[i]\n",
        "    ytrain = y_train[i]\n",
        "    lr.fit(xtrain, ytrain)\n",
        "\n",
        "    xtest = X_test[i]\n",
        "    ytest = y_test[i]\n",
        "    y_predict = lr.predict(xtest)\n",
        "    if label in [1.0, 4.0]:\n",
        "      score = f1_score(ytest, y_predict, average='micro', labels=np.unique(y_predict))\n",
        "    else:\n",
        "      score = f1_score(ytest, y_predict, average='macro', labels=np.unique(y_predict))\n",
        "    scores.append(\"%.3f\" %score)\n",
        "  return scores"
      ]
    },
    {
      "cell_type": "code",
      "execution_count": null,
      "metadata": {
        "colab": {
          "background_save": true
        },
        "id": "veVPk0C17pnc"
      },
      "outputs": [],
      "source": [
        "df = pd.read_csv('/content/Labeled Posts - preprocessed_csv.csv')\n",
        "# for i in list(set(df.labels))[:6]:\n",
        "for i in [1.0, 2.0, 3.0, 4.0]:\n",
        "  count = 0\n",
        "  for ind in df.index:\n",
        "    # float 0.0, 1.0, 2.0, 3.0, 4.0, 5.0 - represents: general, question, advice, encouragement, experience, bragging posts\n",
        "    if df.loc[ind, \"labels\"] != i:\n",
        "      df.loc[ind, \"labels\"] = 0\n",
        "    else:\n",
        "      df.loc[ind, \"labels\"] = 1\n",
        "      count += 1\n",
        "  length = 500\n",
        "  unigram, bigram, binary = [], [], []\n",
        "  while length < 600:\n",
        "    X_train, y_train, X_test, y_test = preprocess(length, \"unigram\")\n",
        "    unigram = classify(X_train, y_train, X_test, y_test, length, count, i)\n",
        "    X_train, y_train, X_test, y_test = preprocess(length, \"bigram\")\n",
        "    bigram = classify(X_train, y_train, X_test, y_test, length, count, i)\n",
        "    X_train, y_train, X_test, y_test = preprocess(length, \"binary\")\n",
        "    binary = classify(X_train, y_train, X_test, y_test, length, count, i)\n",
        "    length += 500\n",
        "  print(str(length) + \" posts: \")\n",
        "  print(\"Scores for\", i, \": \\n\")\n",
        "  sum = 0\n",
        "  for i in unigram:\n",
        "      print(i)\n",
        "      sum += float(i)\n",
        "  print(\"Average: \" + str(sum/10))\n",
        "  print(\"-----------------------\")\n",
        "  sum = 0\n",
        "  for i in bigram:\n",
        "    print(i)\n",
        "    sum += float(i)\n",
        "  print(\"Average: \" + str(sum/10))\n",
        "  print(\"-----------------------\")\n",
        "  sum = 0\n",
        "  for i in binary:\n",
        "    print(i)\n",
        "    sum += float(i)\n",
        "  print(\"Average: \" + str(sum/10))\n",
        "  print(\"\\n\")\n",
        "  df = pd.read_csv('/content/Labeled Posts - preprocessed_csv.csv')"
      ]
    },
    {
      "cell_type": "code",
      "execution_count": null,
      "metadata": {
        "colab": {
          "base_uri": "https://localhost:8080/"
        },
        "executionInfo": {
          "elapsed": 348,
          "status": "ok",
          "timestamp": 1689082409063,
          "user": {
            "displayName": "Joongeun Choi",
            "userId": "16179959334871840414"
          },
          "user_tz": 240
        },
        "id": "7OtCs_oRCH7a",
        "outputId": "18ed72aa-cce6-4670-e168-c547aa359fbf"
      },
      "outputs": [
        {
          "name": "stdout",
          "output_type": "stream",
          "text": [
            "1046 103 90 675 25\n",
            "61\n",
            "{0: 1325, 1: 675}\n"
          ]
        }
      ],
      "source": [
        "#test to see how many of each post there are\n",
        "import pandas as pd\n",
        "df = pd.read_csv('/content/Labeled Posts - preprocessed_csv.csv')\n",
        "labels = list(df.labels)\n",
        "questions = labels.count(1.0)\n",
        "advice = labels.count(2.0)\n",
        "encouragement  = labels.count(3.0)\n",
        "experience = labels.count(4.0)\n",
        "bragging = labels.count(5.0)\n",
        "print(questions, advice, encouragement, experience, bragging)\n",
        "print(labels.count(0.0))\n",
        "ratio = {0:2000-experience, 1:experience}\n",
        "print(ratio)"
      ]
    },
    {
      "cell_type": "markdown",
      "metadata": {
        "id": "eVzrXp604rxk"
      },
      "source": [
        "A finalized version of the code below is in the \"Predicting unlabeled posts\" colab file/github link"
      ]
    },
    {
      "cell_type": "code",
      "source": [
        "df = pd.read_csv('/content/Labeled Posts - preprocessed_csv.csv')\n",
        "import string\n",
        "import re\n",
        "d = {}\n",
        "punct = string.punctuation\n",
        "#Getting rid of 3 punctuations - e.x: pre-process, it's, 7.5, etc.\n",
        "punct = re.sub(\"[-'.]\", \"\", punct)\n",
        "#Setting all the punctuation counts to 0\n",
        "for i in punct:\n",
        "  d[i] = 0\n",
        "\n",
        "count = 0\n",
        "for i in df['selftext']:\n",
        "  i = clean_text(i)\n",
        "  for word in i.split():\n",
        "    new = False\n",
        "    for char in list(set(re.findall(f\"[{punct}]\", word))):\n",
        "      d[char] += 1\n",
        "    for item in re.split(f\"[{punct}]\", word):\n",
        "      if item != \"\":\n",
        "        new = True\n",
        "        word = item\n",
        "        break\n",
        "    if new:\n",
        "      if word not in d:\n",
        "        d[word] = 0\n",
        "      else:\n",
        "        d[word] += 1\n",
        "\n",
        "print(len(d)) #24889"
      ],
      "metadata": {
        "id": "xM7fX-Q1qZhy",
        "colab": {
          "base_uri": "https://localhost:8080/"
        },
        "executionInfo": {
          "status": "ok",
          "timestamp": 1690353891528,
          "user_tz": 240,
          "elapsed": 116962,
          "user": {
            "displayName": "Joongeun Choi",
            "userId": "16179959334871840414"
          }
        },
        "outputId": "e6bd688c-319d-4f15-ebcc-26368af4c7e1"
      },
      "execution_count": null,
      "outputs": [
        {
          "output_type": "stream",
          "name": "stdout",
          "text": [
            "24889\n"
          ]
        }
      ]
    },
    {
      "cell_type": "code",
      "execution_count": null,
      "metadata": {
        "id": "HfZZkU8vjX9X"
      },
      "outputs": [],
      "source": [
        "def a(ngram):\n",
        "  vectorizer = 0\n",
        "  if ngram == \"binary\":\n",
        "    vectorizer = CountVectorizer(vocabulary=d, binary=True)\n",
        "  elif ngram == \"unigram\":\n",
        "    vectorizer = CountVectorizer(vocabulary=d)\n",
        "  else: #bigram\n",
        "    vectorizer = CountVectorizer(vocabulary=d, ngram_range = (2, 2))\n",
        "  return vectorizer\n",
        "\n",
        "def b(vectorizer):\n",
        "  X = np.array(df['selftext'][3100:7751].tolist())\n",
        "  for i, post in enumerate(X):\n",
        "    X[i] = clean_text(post)\n",
        "\n",
        "  bag = vectorizer.fit_transform(X)\n",
        "  bag = bag.toarray()\n",
        "  return bag\n",
        "\n",
        "count = 0\n",
        "i = 2.0\n",
        "for ind in df.index:\n",
        "  if df.loc[ind, \"labels\"] != i:\n",
        "      df.loc[ind, \"labels\"] = 0\n",
        "  else:\n",
        "    df.loc[ind, \"labels\"] = 1\n",
        "    count += 1\n",
        "\n",
        "vectorizer = a(\"unigram\")\n",
        "unigram, lr1 = test(3000, \"unigram\", count, i)\n",
        "# bigram, lr2  = test(3000, \"bigram\", count, i)\n",
        "# vectorizer = a(\"binary\")\n",
        "# binary, lr3 = test(3000, \"binary\", count, i)\n",
        "\n",
        "bag = b(vectorizer)\n",
        "data = np.array(bag)\n",
        "\n",
        "print(lr1.predict(data))\n",
        "# print(lr2.predict(data))\n",
        "# print(lr3.predict(data))"
      ]
    }
  ],
  "metadata": {
    "colab": {
      "provenance": [
        {
          "file_id": "1zEI3cEllICPUaXCHHVY1MymBxXvp12fS",
          "timestamp": 1689834896579
        }
      ],
      "authorship_tag": "ABX9TyM91fX7gCGiBz6Devg35hBx"
    },
    "kernelspec": {
      "display_name": "Python 3",
      "name": "python3"
    },
    "language_info": {
      "name": "python"
    }
  },
  "nbformat": 4,
  "nbformat_minor": 0
}
