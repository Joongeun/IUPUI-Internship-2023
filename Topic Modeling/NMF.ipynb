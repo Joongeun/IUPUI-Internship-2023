{
  "nbformat": 4,
  "nbformat_minor": 0,
  "metadata": {
    "colab": {
      "provenance": [],
      "authorship_tag": "ABX9TyMWCHVjO2mco/al4vsUCpeE",
      "include_colab_link": true
    },
    "kernelspec": {
      "name": "python3",
      "display_name": "Python 3"
    },
    "language_info": {
      "name": "python"
    }
  },
  "cells": [
    {
      "cell_type": "markdown",
      "metadata": {
        "id": "view-in-github",
        "colab_type": "text"
      },
      "source": [
        "<a href=\"https://colab.research.google.com/github/Joongeun/Internship/blob/Topic-Modeling/NMF.ipynb\" target=\"_parent\"><img src=\"https://colab.research.google.com/assets/colab-badge.svg\" alt=\"Open In Colab\"/></a>"
      ]
    },
    {
      "cell_type": "code",
      "execution_count": null,
      "metadata": {
        "colab": {
          "base_uri": "https://localhost:8080/"
        },
        "id": "zwkclqMFmGTC",
        "outputId": "27bf9256-2db1-415e-d98e-f8cf14e28b8b"
      },
      "outputs": [
        {
          "output_type": "stream",
          "name": "stderr",
          "text": [
            "<ipython-input-31-3bf4d070cec3>:6: FutureWarning: The error_bad_lines argument has been deprecated and will be removed in a future version. Use on_bad_lines in the future.\n",
            "\n",
            "\n",
            "  df = pd.read_csv('2019-2021_data.csv', error_bad_lines=False)\n"
          ]
        }
      ],
      "source": [
        "import pandas as pd\n",
        "from sklearn.decomposition import NMF\n",
        "from sklearn.feature_extraction.text import TfidfVectorizer\n",
        "import math\n",
        "\n",
        "df = pd.read_csv('2019-2021_data.csv', error_bad_lines=False)\n",
        "saved_column = list(df['selftext'])\n",
        "saved_column = [x for x in saved_column if not (isinstance(x, float) and math.isnan(x))]\n",
        "for i in saved_column:\n",
        "  if i in [\"[deleted]\", \"[removed]\"]:\n",
        "    saved_column.remove(i)"
      ]
    },
    {
      "cell_type": "code",
      "source": [
        "# use tfidf by removing tokens that don't appear in at least 50 documents\n",
        "vect = TfidfVectorizer(min_df=50, stop_words='english')\n",
        "\n",
        "# Fit and transform\n",
        "X = vect.fit_transform(saved_column)"
      ],
      "metadata": {
        "id": "SQXNIpocnWIW"
      },
      "execution_count": null,
      "outputs": []
    },
    {
      "cell_type": "code",
      "source": [
        "# Create an NMF instance: model\n",
        "# the 10 components will be the topics\n",
        "model = NMF(n_components=10, random_state=5)\n",
        "\n",
        "# Fit the model to TF-IDF\n",
        "model.fit(X)\n",
        "\n",
        "# Transform the TF-IDF: nmf_features\n",
        "nmf_features = model.transform(X)"
      ],
      "metadata": {
        "colab": {
          "base_uri": "https://localhost:8080/"
        },
        "id": "zvVVB67CzpxT",
        "outputId": "32b22273-4473-483e-ccd5-7da0b452cc0f"
      },
      "execution_count": null,
      "outputs": [
        {
          "output_type": "stream",
          "name": "stderr",
          "text": [
            "/usr/local/lib/python3.10/dist-packages/sklearn/decomposition/_nmf.py:1665: ConvergenceWarning: Maximum number of iterations 200 reached. Increase it to improve convergence.\n",
            "  warnings.warn(\n"
          ]
        }
      ]
    },
    {
      "cell_type": "code",
      "source": [
        "# Create a DataFrame: components_df\n",
        "components_df = pd.DataFrame(model.components_, columns=vect.get_feature_names_out())\n",
        "components_df"
      ],
      "metadata": {
        "id": "JbjIOymH1fFv"
      },
      "execution_count": null,
      "outputs": []
    },
    {
      "cell_type": "code",
      "source": [
        "#.shape returns (row, col)\n",
        "for topic in range(components_df.shape[0]):\n",
        "    tmp = components_df.iloc[topic]\n",
        "    print(f'For topic {topic+1} the words with the highest value are:')\n",
        "    #print 10 most important words for each topic\n",
        "    print(tmp.nlargest(10))\n",
        "    print('\\n')"
      ],
      "metadata": {
        "colab": {
          "base_uri": "https://localhost:8080/"
        },
        "id": "IB_ILvIW124h",
        "outputId": "804b5baf-f868-4512-b3b6-42c9bba84b2d"
      },
      "execution_count": null,
      "outputs": [
        {
          "output_type": "stream",
          "name": "stdout",
          "text": [
            "For topic 1 the words with the highest value are:\n",
            "feel       1.834715\n",
            "like       1.491222\n",
            "don        1.280551\n",
            "ve         1.256534\n",
            "quit       0.909260\n",
            "started    0.845986\n",
            "time       0.806158\n",
            "trip       0.792733\n",
            "vaping     0.731406\n",
            "vape       0.717728\n",
            "Name: 0, dtype: float64\n",
            "\n",
            "\n",
            "For topic 2 the words with the highest value are:\n",
            "removed       3.811606e+00\n",
            "insomnia     2.676846e-126\n",
            "resolve      2.676846e-126\n",
            "took         2.424251e-126\n",
            "problems     2.355952e-126\n",
            "wondering    2.281410e-126\n",
            "sleep        2.075733e-126\n",
            "guys         1.841929e-126\n",
            "long         1.651681e-126\n",
            "mints        8.091483e-127\n",
            "Name: 1, dtype: float64\n",
            "\n",
            "\n",
            "For topic 3 the words with the highest value are:\n",
            "week        1.288178\n",
            "app         1.136941\n",
            "freebase    0.666990\n",
            "salts       0.645259\n",
            "com         0.506928\n",
            "help        0.493912\n",
            "https       0.456799\n",
            "salt        0.452200\n",
            "flu         0.447186\n",
            "nic         0.426970\n",
            "Name: 2, dtype: float64\n",
            "\n",
            "\n",
            "For topic 4 the words with the highest value are:\n",
            "panic         1.015364\n",
            "anxiety       0.704053\n",
            "attack        0.547063\n",
            "thoughts      0.511401\n",
            "attacks       0.472093\n",
            "recovering    0.456029\n",
            "anybody       0.453851\n",
            "50            0.433707\n",
            "turkey        0.418941\n",
            "right         0.411896\n",
            "Name: 3, dtype: float64\n",
            "\n",
            "\n",
            "For topic 5 the words with the highest value are:\n",
            "cravings      0.952253\n",
            "nicotine      0.708802\n",
            "days          0.632354\n",
            "quit          0.526418\n",
            "helping       0.517688\n",
            "day           0.433807\n",
            "months        0.381140\n",
            "quitting      0.380975\n",
            "bad           0.378005\n",
            "disposable    0.358675\n",
            "Name: 4, dtype: float64\n",
            "\n",
            "\n",
            "For topic 6 the words with the highest value are:\n",
            "day         1.420157\n",
            "tomorrow    1.395692\n",
            "worst       0.887537\n",
            "10          0.711810\n",
            "bad         0.663338\n",
            "feeling     0.662771\n",
            "pick        0.592482\n",
            "remorse     0.592482\n",
            "brighter    0.566165\n",
            "clearer     0.566165\n",
            "Name: 5, dtype: float64\n",
            "\n",
            "\n",
            "For topic 7 the words with the highest value are:\n",
            "noticed        0.711609\n",
            "make           0.706229\n",
            "want           0.527542\n",
            "time           0.526500\n",
            "really         0.492720\n",
            "years          0.460724\n",
            "explain        0.432153\n",
            "withdrawals    0.417884\n",
            "breathing      0.388401\n",
            "difference     0.388401\n",
            "Name: 6, dtype: float64\n",
            "\n",
            "\n",
            "For topic 8 the words with the highest value are:\n",
            "vape         0.889773\n",
            "juice        0.569419\n",
            "gonna        0.479900\n",
            "just         0.461161\n",
            "say          0.395148\n",
            "forgotten    0.354455\n",
            "couple       0.346660\n",
            "used         0.339498\n",
            "stop         0.333262\n",
            "hit          0.327581\n",
            "Name: 7, dtype: float64\n",
            "\n",
            "\n",
            "For topic 9 the words with the highest value are:\n",
            "just     0.676639\n",
            "need     0.676075\n",
            "tips     0.480653\n",
            "want     0.409262\n",
            "right    0.395760\n",
            "hard     0.371611\n",
            "does     0.365270\n",
            "using    0.335472\n",
            "pods     0.329593\n",
            "hit      0.304764\n",
            "Name: 8, dtype: float64\n",
            "\n",
            "\n",
            "For topic 10 the words with the highest value are:\n",
            "amp           1.099708\n",
            "vaping        0.943195\n",
            "smoking       0.648840\n",
            "nicotine      0.464962\n",
            "playing       0.454963\n",
            "20mg          0.371672\n",
            "problem       0.362107\n",
            "cigarettes    0.344949\n",
            "tobacco       0.321005\n",
            "vapes         0.310502\n",
            "Name: 9, dtype: float64\n",
            "\n",
            "\n"
          ]
        }
      ]
    },
    {
      "cell_type": "code",
      "source": [
        "my_document = saved_column[0]\n",
        "print(my_document)\n",
        "#find which topic is most representative of the first post\n",
        "pd.DataFrame(nmf_features).loc[0].idmax()"
      ],
      "metadata": {
        "colab": {
          "base_uri": "https://localhost:8080/"
        },
        "id": "uOgZs7OW4cNe",
        "outputId": "63d5d41f-a307-4361-fcaf-57450c25b770"
      },
      "execution_count": null,
      "outputs": [
        {
          "output_type": "stream",
          "name": "stdout",
          "text": [
            "Never Been a smoker or a vaper, never even had my own vape but my boyfriend vapes and I can't help but take pulls of his. Getting to the point now where my throat's hurting (after only a couple weeks) and I wanna stop but it's hard because his vape is always just lying around. And he's gonna quit someday but I'm not gonna ask him to just so I'm not tempted. He's the one who actually used to smoke cigarettes, so his occasional vaping is the current compromise for himself. His quitting will be his own decision.\n",
            "\n",
            "Anyway, how do I stop when I see his vape around?? I want to be able to just ignore it like I used to.\n"
          ]
        },
        {
          "output_type": "execute_result",
          "data": {
            "text/plain": [
              "7"
            ]
          },
          "metadata": {},
          "execution_count": 48
        }
      ]
    },
    {
      "cell_type": "code",
      "source": [
        "#number of documents for each topic\n",
        "pd.DataFrame(nmf_features).idxmax(axis=1).value_counts()"
      ],
      "metadata": {
        "colab": {
          "base_uri": "https://localhost:8080/"
        },
        "id": "xTkPcwDA5uTV",
        "outputId": "758a8782-cca4-41cf-e91c-a98dce0f6e68"
      },
      "execution_count": null,
      "outputs": [
        {
          "output_type": "execute_result",
          "data": {
            "text/plain": [
              "0    523\n",
              "8    469\n",
              "2    419\n",
              "6    365\n",
              "4    365\n",
              "7    316\n",
              "9    312\n",
              "5    210\n",
              "3    209\n",
              "1    209\n",
              "dtype: int64"
            ]
          },
          "metadata": {},
          "execution_count": 49
        }
      ]
    }
  ]
}