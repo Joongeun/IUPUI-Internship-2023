{
  "nbformat": 4,
  "nbformat_minor": 0,
  "metadata": {
    "colab": {
      "provenance": [],
      "authorship_tag": "ABX9TyO3Vk/tQcDH6mkvSglTGROD",
      "include_colab_link": true
    },
    "kernelspec": {
      "name": "python3",
      "display_name": "Python 3"
    },
    "language_info": {
      "name": "python"
    }
  },
  "cells": [
    {
      "cell_type": "markdown",
      "metadata": {
        "id": "view-in-github",
        "colab_type": "text"
      },
      "source": [
        "<a href=\"https://colab.research.google.com/github/Joongeun/Internship/blob/Topic-Modeling/VADER.ipynb\" target=\"_parent\"><img src=\"https://colab.research.google.com/assets/colab-badge.svg\" alt=\"Open In Colab\"/></a>"
      ]
    },
    {
      "cell_type": "code",
      "execution_count": 1,
      "metadata": {
        "colab": {
          "base_uri": "https://localhost:8080/"
        },
        "id": "k8m9KW2rkBrB",
        "outputId": "4ec358da-dba0-4d95-9f39-f3817b9a2a9e"
      },
      "outputs": [
        {
          "output_type": "stream",
          "name": "stderr",
          "text": [
            "[nltk_data] Downloading package vader_lexicon to /root/nltk_data...\n"
          ]
        }
      ],
      "source": [
        "import nltk\n",
        "nltk.download('vader_lexicon')\n",
        "from nltk.sentiment.vader import SentimentIntensityAnalyzer\n",
        "\n",
        "sid = SentimentIntensityAnalyzer()"
      ]
    },
    {
      "cell_type": "code",
      "source": [
        "import numpy as np\n",
        "import pandas as pd\n",
        "import json"
      ],
      "metadata": {
        "id": "WAWySj3AkuIC"
      },
      "execution_count": 2,
      "outputs": []
    },
    {
      "cell_type": "code",
      "source": [
        "#encoding='utf-8' so that emojis (unicode character) can be translated to binary - otherwise, error will result\n",
        "with open('/content/QuitVaping_submissions', 'r', encoding='utf-8') as f:\n",
        "    df = pd.read_json(f, lines=True)\n",
        "df.to_csv('all_posts_csv.csv', encoding='utf-8', index=False)"
      ],
      "metadata": {
        "id": "twKcZ_4RlSNQ"
      },
      "execution_count": 6,
      "outputs": []
    },
    {
      "cell_type": "code",
      "source": [
        "df = pd.read_csv('/content/all_posts_csv.csv')"
      ],
      "metadata": {
        "colab": {
          "base_uri": "https://localhost:8080/"
        },
        "id": "w-fcVQoGrX5o",
        "outputId": "c3a030a9-96e6-458e-ab01-c50567fee4f2"
      },
      "execution_count": 7,
      "outputs": [
        {
          "output_type": "stream",
          "name": "stderr",
          "text": [
            "<ipython-input-7-7ebca6a474ea>:1: DtypeWarning: Columns (45,90) have mixed types. Specify dtype option on import or set low_memory=False.\n",
            "  df = pd.read_csv('/content/all_posts_csv.csv')\n"
          ]
        }
      ]
    },
    {
      "cell_type": "code",
      "source": [
        "import math\n",
        "for ind, i in enumerate(df['selftext']):\n",
        "  if type(i) != str and math.isnan(i):\n",
        "    df.drop(ind, inplace=True)\n",
        "  elif i in [\"[deleted]\", \"deleted\", \"[removed]\", \"removed\"]:\n",
        "    df.drop(ind, inplace=True)\n",
        "print(df)"
      ],
      "metadata": {
        "id": "pY0rDcOXrnIq",
        "colab": {
          "base_uri": "https://localhost:8080/"
        },
        "outputId": "914b3376-42ae-4019-9c5e-f2eb0c0ad1dd"
      },
      "execution_count": 9,
      "outputs": [
        {
          "output_type": "stream",
          "name": "stdout",
          "text": [
            "                                                     url secure_media  \\\n",
            "0      http://www.reddit.com/r/QuitVaping/comments/2s...          NaN   \n",
            "1      http://www.reddit.com/r/QuitVaping/comments/2t...          NaN   \n",
            "2      https://www.reddit.com/r/QuitVaping/comments/4...          NaN   \n",
            "5      https://www.reddit.com/r/QuitVaping/comments/9...          NaN   \n",
            "7      https://www.reddit.com/r/QuitVaping/comments/a...          NaN   \n",
            "...                                                  ...          ...   \n",
            "12147  https://www.reddit.com/r/QuitVaping/comments/1...          NaN   \n",
            "12148  https://www.reddit.com/r/QuitVaping/comments/1...          NaN   \n",
            "12149  https://www.reddit.com/r/QuitVaping/comments/1...          NaN   \n",
            "12150  https://www.reddit.com/r/QuitVaping/comments/1...          NaN   \n",
            "12154  https://www.reddit.com/r/QuitVaping/comments/1...          NaN   \n",
            "\n",
            "            created subreddit_id  from_kind  from_id  stickied  quarantine  \\\n",
            "0      1.421046e+09     t5_35pvf        NaN      NaN     False         0.0   \n",
            "1      1.421956e+09     t5_35pvf        NaN      NaN     False         0.0   \n",
            "2               NaN     t5_35pvf        NaN      NaN     False         0.0   \n",
            "5               NaN     t5_35pvf        NaN      NaN     False         0.0   \n",
            "7               NaN     t5_35pvf        NaN      NaN     False         0.0   \n",
            "...             ...          ...        ...      ...       ...         ...   \n",
            "12147           NaN     t5_35pvf        NaN      NaN     False         0.0   \n",
            "12148           NaN     t5_35pvf        NaN      NaN     False         0.0   \n",
            "12149           NaN     t5_35pvf        NaN      NaN     False         0.0   \n",
            "12150           NaN     t5_35pvf        NaN      NaN     False         0.0   \n",
            "12154           NaN     t5_35pvf        NaN      NaN     False         0.0   \n",
            "\n",
            "       score      edited  ...  is_created_from_ads_ui  retrieved_utc  \\\n",
            "0          0           0  ...                     NaN            NaN   \n",
            "1          0  1422123287  ...                     NaN            NaN   \n",
            "2          1           0  ...                     NaN            NaN   \n",
            "5          1           0  ...                     NaN            NaN   \n",
            "7          4           0  ...                     NaN            NaN   \n",
            "...      ...         ...  ...                     ...            ...   \n",
            "12147      6           0  ...                     0.0            NaN   \n",
            "12148      3           0  ...                     0.0            NaN   \n",
            "12149      2           0  ...                     0.0            NaN   \n",
            "12150      3           0  ...                     0.0            NaN   \n",
            "12154      2  1672531147  ...                     0.0            NaN   \n",
            "\n",
            "       top_awarded_type  media_metadata url_overridden_by_dest  poll_data  \\\n",
            "0                   NaN             NaN                    NaN        NaN   \n",
            "1                   NaN             NaN                    NaN        NaN   \n",
            "2                   NaN             NaN                    NaN        NaN   \n",
            "5                   NaN             NaN                    NaN        NaN   \n",
            "7                   NaN             NaN                    NaN        NaN   \n",
            "...                 ...             ...                    ...        ...   \n",
            "12147               NaN             NaN                    NaN        NaN   \n",
            "12148               NaN             NaN                    NaN        NaN   \n",
            "12149               NaN             NaN                    NaN        NaN   \n",
            "12150               NaN             NaN                    NaN        NaN   \n",
            "12154               NaN             NaN                    NaN        NaN   \n",
            "\n",
            "      gallery_data  is_gallery  banned_by call_to_action  \n",
            "0              NaN         NaN        NaN            NaN  \n",
            "1              NaN         NaN        NaN            NaN  \n",
            "2              NaN         NaN        NaN            NaN  \n",
            "5              NaN         NaN        NaN            NaN  \n",
            "7              NaN         NaN        NaN            NaN  \n",
            "...            ...         ...        ...            ...  \n",
            "12147          NaN         NaN        NaN            NaN  \n",
            "12148          NaN         NaN        NaN            NaN  \n",
            "12149          NaN         NaN        NaN            NaN  \n",
            "12150          NaN         NaN        NaN            NaN  \n",
            "12154          NaN         NaN        NaN            NaN  \n",
            "\n",
            "[7825 rows x 110 columns]\n"
          ]
        }
      ]
    },
    {
      "cell_type": "code",
      "source": [
        "#Make new column \"label\" to store the dictionary of sentiment intensity (intensity of pos/neg/neut sent.)\n",
        "df['label'] = df['selftext'].apply(lambda review:sid.polarity_scores(review))"
      ],
      "metadata": {
        "id": "7mxSXFtKuk9o"
      },
      "execution_count": 10,
      "outputs": []
    },
    {
      "cell_type": "code",
      "source": [
        "#Example\n",
        "print(df['url'][12154])\n",
        "print(df['label'][12154])\n",
        "print(type(df['label'][12154]['compound']))"
      ],
      "metadata": {
        "colab": {
          "base_uri": "https://localhost:8080/"
        },
        "id": "3EWm_YbnzLuX",
        "outputId": "6e1f5d9e-f6c5-4cfa-f609-6fe77fec31b5"
      },
      "execution_count": 13,
      "outputs": [
        {
          "output_type": "stream",
          "name": "stdout",
          "text": [
            "https://www.reddit.com/r/QuitVaping/comments/1006x64/support_group/\n",
            "{'neg': 0.094, 'neu': 0.689, 'pos': 0.217, 'compound': 0.9308}\n",
            "<class 'float'>\n"
          ]
        }
      ]
    },
    {
      "cell_type": "code",
      "source": [
        "sum = 0\n",
        "for score in df['label']:\n",
        "  sum += score['compound']\n",
        "av = sum/12155\n",
        "print(\"Average compound sentiment = \"+ str(av)) # Returns: \"Average compound sentiment = 0.1036791608391606\" --> mildly positive"
      ],
      "metadata": {
        "colab": {
          "base_uri": "https://localhost:8080/"
        },
        "id": "llOWPcr0QcHV",
        "outputId": "d5a30bf8-a9cc-4ae6-94c5-b5b3353c38f1"
      },
      "execution_count": 15,
      "outputs": [
        {
          "output_type": "stream",
          "name": "stdout",
          "text": [
            "Average compound sentiment = 0.1036791608391606\n"
          ]
        }
      ]
    },
    {
      "cell_type": "code",
      "source": [
        "#Save posts and scores for each post as csv\n",
        "selected_columns = df[['selftext', 'label']]\n",
        "selected_columns.to_csv('output.csv', index=False)"
      ],
      "metadata": {
        "id": "8LEE5SJg2hJ0"
      },
      "execution_count": null,
      "outputs": []
    },
    {
      "cell_type": "code",
      "source": [
        "#Test a new \"post\" to see if it is pos/neg/neut\n",
        "review = \"I hate my life and am very depressed. I have tried many times to quit vaping but always failed. I want to quit really bad but I feel helpless\"\n",
        "sid.polarity_scores(review)"
      ],
      "metadata": {
        "colab": {
          "base_uri": "https://localhost:8080/"
        },
        "id": "4LA0iYt-178h",
        "outputId": "c0354cde-93fc-45f1-d21d-e8bf32a9f49f"
      },
      "execution_count": 19,
      "outputs": [
        {
          "output_type": "execute_result",
          "data": {
            "text/plain": [
              "{'neg': 0.472, 'neu': 0.49, 'pos': 0.037, 'compound': -0.9574}"
            ]
          },
          "metadata": {},
          "execution_count": 19
        }
      ]
    }
  ]
}