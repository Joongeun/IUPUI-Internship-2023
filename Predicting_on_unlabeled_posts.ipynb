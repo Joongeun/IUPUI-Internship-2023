{
  "cells": [
    {
      "cell_type": "markdown",
      "metadata": {
        "id": "view-in-github",
        "colab_type": "text"
      },
      "source": [
        "<a href=\"https://colab.research.google.com/github/Joongeun/Internship/blob/main/Predicting_on_unlabeled_posts.ipynb\" target=\"_parent\"><img src=\"https://colab.research.google.com/assets/colab-badge.svg\" alt=\"Open In Colab\"/></a>"
      ]
    },
    {
      "cell_type": "code",
      "execution_count": 1,
      "metadata": {
        "colab": {
          "base_uri": "https://localhost:8080/"
        },
        "id": "SEAmDvjK7kqr",
        "outputId": "ca1e4c0d-e930-4c0f-decd-4ca245c571d4"
      },
      "outputs": [
        {
          "output_type": "stream",
          "name": "stdout",
          "text": [
            "Requirement already satisfied: nltk in /usr/local/lib/python3.10/dist-packages (3.8.1)\n",
            "Requirement already satisfied: click in /usr/local/lib/python3.10/dist-packages (from nltk) (8.1.6)\n",
            "Requirement already satisfied: joblib in /usr/local/lib/python3.10/dist-packages (from nltk) (1.3.1)\n",
            "Requirement already satisfied: regex>=2021.8.3 in /usr/local/lib/python3.10/dist-packages (from nltk) (2022.10.31)\n",
            "Requirement already satisfied: tqdm in /usr/local/lib/python3.10/dist-packages (from nltk) (4.65.0)\n"
          ]
        },
        {
          "output_type": "stream",
          "name": "stderr",
          "text": [
            "[nltk_data] Downloading package stopwords to /root/nltk_data...\n",
            "[nltk_data]   Unzipping corpora/stopwords.zip.\n"
          ]
        }
      ],
      "source": [
        "from sklearn.model_selection import StratifiedKFold\n",
        "from sklearn.feature_extraction.text import CountVectorizer\n",
        "from sklearn.linear_model import LogisticRegression\n",
        "from sklearn import metrics\n",
        "from sklearn.metrics import f1_score\n",
        "import pandas as pd\n",
        "import numpy as np\n",
        "!pip install nltk\n",
        "import nltk\n",
        "nltk.download('stopwords')\n",
        "from nltk.corpus import stopwords"
      ]
    },
    {
      "cell_type": "code",
      "execution_count": 4,
      "metadata": {
        "id": "tbB3k8T075h8"
      },
      "outputs": [],
      "source": [
        "def clean_text(sentences):\n",
        "  cleaned_sentence = \"\"\n",
        "  sentences = sentences.lower().split()\n",
        "  ##removing stop words\n",
        "  words = [i for i in sentences if i not in stopwords.words('english')]\n",
        "  words = \" \".join(words)               ##joining our words back to sentences\n",
        "  return words"
      ]
    },
    {
      "cell_type": "code",
      "execution_count": 48,
      "metadata": {
        "id": "GvQbSYXWAoai"
      },
      "outputs": [],
      "source": [
        "def preprocess(length, ngram, d):\n",
        "  X = df['selftext'][0:length].tolist()\n",
        "  Y = df['labels'][0:length].tolist()\n",
        "  for i, post in enumerate(X):\n",
        "    X[i] = clean_text(post)\n",
        "  if ngram == \"binary\":\n",
        "    vectorizer = CountVectorizer(vocabulary = d, binary=True)\n",
        "  elif ngram == \"unigram\":\n",
        "    vectorizer = CountVectorizer(vocabulary = d)\n",
        "  else:\n",
        "    vectorizer = CountVectorizer(vocabulary = d, ngram_range = (2, 2), binary=False) #Bigram/binary\n",
        "  bag = vectorizer.fit_transform(X)\n",
        "  #len(bag) == 100 - vectors of posts\n",
        "  bag = bag.toarray()\n",
        "  skf = StratifiedKFold(n_splits=10)\n",
        "  skf.get_n_splits(bag, Y)\n",
        "  X_train, y_train, X_test, y_test = [], [], [], []\n",
        "  for i, (train_index, test_index) in enumerate(skf.split(bag, Y)):\n",
        "    xtrain, ytrain, xtest, ytest = [], [], [], []\n",
        "    for j in train_index:\n",
        "      xtrain.append(bag[j])\n",
        "      ytrain.append(Y[j])\n",
        "    for j in test_index:\n",
        "      xtest.append(bag[j])\n",
        "      ytest.append(Y[j])\n",
        "    X_train.append(xtrain)\n",
        "    y_train.append(ytrain)\n",
        "    X_test.append(xtest)\n",
        "    y_test.append(ytest)\n",
        "  return X_train, y_train, X_test, y_test\n",
        "  #for 100 posts:\n",
        "  #len(X_train, y_train) == 10, each of the 10 folds have 90 np vector arrays (posts)\n",
        "  #len(X_test, y_test) == 10, 10 np arrays per fold - 100 posts total\n",
        "# print(X_test)\n",
        "# print(y_test)\n",
        "# print(len(X_test))\n",
        "# print(X_test[0])\n",
        "# print(len(X_test[0]))"
      ]
    },
    {
      "cell_type": "code",
      "execution_count": 49,
      "metadata": {
        "id": "rlOGiip776uL"
      },
      "outputs": [],
      "source": [
        "def classify(X_train, y_train, X_test, y_test, length, count, label):\n",
        "  w = {0:count, 1:length-count}\n",
        "  lr = LogisticRegression(C=100.0, random_state=1, solver='lbfgs', multi_class='ovr', max_iter = 1000000, class_weight = w)\n",
        "\n",
        "  # Use metrics.accuracy_score to measure the score\n",
        "  #'macro' favors minority, 'weighted' favors majority, 'micro' favors none (when you have multiclass)\n",
        "  scores = []\n",
        "  for i in range(0, 10):\n",
        "    #Get 9 folds for training\n",
        "    xtrain = X_train[i]\n",
        "    ytrain = y_train[i]\n",
        "    lr.fit(xtrain, ytrain)\n",
        "\n",
        "    xtest = X_test[i]\n",
        "    ytest = y_test[i]\n",
        "    y_predict = lr.predict(xtest)\n",
        "    if label in [1.0, 4.0]:\n",
        "      score = f1_score(ytest, y_predict, labels=np.unique(y_predict))\n",
        "    else:\n",
        "      score = f1_score(ytest, y_predict, labels=np.unique(y_predict))\n",
        "    scores.append(\"%.3f\" %score)\n",
        "  return lr, scores"
      ]
    },
    {
      "cell_type": "code",
      "source": [
        "#Making dictionary to put as the argument for the \"vocabulary\" parameter in CountVectorizer - need this to get words that the model has not yet seen\n",
        "df = pd.read_csv('/content/Labeled Posts - preprocessed_csv.csv')\n",
        "d=[]\n",
        "count = 0\n",
        "for i in df['selftext']:\n",
        "  for word in i.split():\n",
        "    if word not in d:\n",
        "      d.append(word)\n",
        "print(len(d)) #41716"
      ],
      "metadata": {
        "id": "PFF8eJY0DFM3"
      },
      "execution_count": null,
      "outputs": []
    },
    {
      "cell_type": "code",
      "execution_count": 51,
      "metadata": {
        "colab": {
          "base_uri": "https://localhost:8080/"
        },
        "id": "veVPk0C17pnc",
        "outputId": "bd6969de-828f-43ed-f69a-42e0d073f58d"
      },
      "outputs": [
        {
          "output_type": "stream",
          "name": "stderr",
          "text": [
            "/usr/local/lib/python3.10/dist-packages/sklearn/feature_extraction/text.py:1380: UserWarning: Upper case characters found in vocabulary while 'lowercase' is True. These entries will not be matched with any documents\n",
            "  warnings.warn(\n",
            "/usr/local/lib/python3.10/dist-packages/sklearn/feature_extraction/text.py:1380: UserWarning: Upper case characters found in vocabulary while 'lowercase' is True. These entries will not be matched with any documents\n",
            "  warnings.warn(\n",
            "/usr/local/lib/python3.10/dist-packages/sklearn/feature_extraction/text.py:1380: UserWarning: Upper case characters found in vocabulary while 'lowercase' is True. These entries will not be matched with any documents\n",
            "  warnings.warn(\n"
          ]
        },
        {
          "output_type": "stream",
          "name": "stdout",
          "text": [
            "3500 posts: \n",
            "Scores for 2.0 : \n",
            "\n",
            "Average: 0.46609999999999996\n",
            "-----------------------\n",
            "Average: 0.0\n",
            "-----------------------\n",
            "Average: 0.42279999999999995\n",
            "\n",
            "\n"
          ]
        }
      ],
      "source": [
        "df = pd.read_csv('/content/Labeled Posts - preprocessed_csv.csv')\n",
        "for i in [2.0]:\n",
        "  count = 0\n",
        "  for ind in df.index:\n",
        "    if df.loc[ind, \"labels\"] != i:\n",
        "      df.loc[ind, \"labels\"] = 0\n",
        "    else:\n",
        "      df.loc[ind, \"labels\"] = 1\n",
        "      count += 1\n",
        "  length = 3000\n",
        "  unigram, bigram, binary = [], [], []\n",
        "  while length < 3100:\n",
        "    X_train, y_train, X_test, y_test = preprocess(length, \"unigram\", d)\n",
        "    lr1, unigram = classify(X_train, y_train, X_test, y_test, length, count, i)\n",
        "    X_train, y_train, X_test, y_test = preprocess(length, \"bigram\", d)\n",
        "    lr2, bigram = classify(X_train, y_train, X_test, y_test, length, count, i)\n",
        "    X_train, y_train, X_test, y_test = preprocess(length, \"binary\", d)\n",
        "    lr3, binary = classify(X_train, y_train, X_test, y_test, length, count, i)\n",
        "    length += 500\n",
        "  print(str(length) + \" posts: \")\n",
        "  print(\"Scores for\", i, \": \\n\")\n",
        "  sum = 0\n",
        "  for i in unigram:\n",
        "      sum += float(i)\n",
        "  print(\"Average: \" + str(sum/10))\n",
        "  print(\"-----------------------\")\n",
        "  sum = 0\n",
        "  for i in bigram:\n",
        "    sum += float(i)\n",
        "  print(\"Average: \" + str(sum/10))\n",
        "  print(\"-----------------------\")\n",
        "  sum = 0\n",
        "  for i in binary:\n",
        "    sum += float(i)\n",
        "  print(\"Average: \" + str(sum/10))\n",
        "  print(\"\\n\")\n",
        "  df = pd.read_csv('/content/Labeled Posts - preprocessed_csv.csv')"
      ]
    },
    {
      "cell_type": "code",
      "execution_count": 9,
      "metadata": {
        "id": "HfZZkU8vjX9X"
      },
      "outputs": [],
      "source": [
        "def a(ngram):\n",
        "  vectorizer = 0\n",
        "  if ngram == \"binary\":\n",
        "    vectorizer = CountVectorizer(vocabulary=d, binary=True)\n",
        "  elif ngram == \"unigram\":\n",
        "    vectorizer = CountVectorizer(vocabulary=d)\n",
        "  else: #bigram\n",
        "    vectorizer = CountVectorizer(vocabulary=d, ngram_range = (2, 2))\n",
        "  return vectorizer\n",
        "\n",
        "def b(vectorizer):\n",
        "  X = np.array(df['selftext'][3100:7751].tolist())\n",
        "  for i, post in enumerate(X):\n",
        "    X[i] = clean_text(post)\n",
        "\n",
        "  bag = vectorizer.fit_transform(X)\n",
        "  bag = bag.toarray()\n",
        "  return bag\n",
        "\n",
        "count = 0\n",
        "i = 2.0\n",
        "for ind in df.index:\n",
        "  if df.loc[ind, \"labels\"] != i:\n",
        "      df.loc[ind, \"labels\"] = 0\n",
        "  else:\n",
        "    df.loc[ind, \"labels\"] = 1\n",
        "    count += 1"
      ]
    },
    {
      "cell_type": "code",
      "source": [
        "#Getting number of advice posts (1.0 for advice, 0.0 for anything else)\n",
        "vectorizer = a(\"unigram\")\n",
        "data = b(vectorizer)\n",
        "res1 = lr1.predict(data)\n",
        "print(np.count_nonzero(res1 == 1.0))\n",
        "\n",
        "vectorizer = a(\"bigram\")\n",
        "data = b(vectorizer)\n",
        "res2 = lr2.predict(data)\n",
        "print(np.count_nonzero(res2 == 1.0))\n",
        "\n",
        "vectorizer = a(\"binary\")\n",
        "data = b(vectorizer)\n",
        "res3 = lr3.predict(data)\n",
        "print(np.count_nonzero(res3 == 1.0))"
      ],
      "metadata": {
        "colab": {
          "base_uri": "https://localhost:8080/"
        },
        "id": "q__IVuT3Lh8e",
        "outputId": "950a1c0e-b200-40c3-9bf0-ed7f88bffa37"
      },
      "execution_count": 15,
      "outputs": [
        {
          "output_type": "stream",
          "name": "stderr",
          "text": [
            "/usr/local/lib/python3.10/dist-packages/sklearn/feature_extraction/text.py:1380: UserWarning: Upper case characters found in vocabulary while 'lowercase' is True. These entries will not be matched with any documents\n",
            "  warnings.warn(\n"
          ]
        },
        {
          "output_type": "stream",
          "name": "stdout",
          "text": [
            "64\n"
          ]
        },
        {
          "output_type": "stream",
          "name": "stderr",
          "text": [
            "/usr/local/lib/python3.10/dist-packages/sklearn/feature_extraction/text.py:1380: UserWarning: Upper case characters found in vocabulary while 'lowercase' is True. These entries will not be matched with any documents\n",
            "  warnings.warn(\n"
          ]
        },
        {
          "output_type": "stream",
          "name": "stdout",
          "text": [
            "0\n"
          ]
        },
        {
          "output_type": "stream",
          "name": "stderr",
          "text": [
            "/usr/local/lib/python3.10/dist-packages/sklearn/feature_extraction/text.py:1380: UserWarning: Upper case characters found in vocabulary while 'lowercase' is True. These entries will not be matched with any documents\n",
            "  warnings.warn(\n"
          ]
        },
        {
          "output_type": "stream",
          "name": "stdout",
          "text": [
            "34\n"
          ]
        }
      ]
    },
    {
      "cell_type": "code",
      "source": [
        "X = np.array(df['selftext'][501:3500].tolist())\n",
        "bag = vectorizer.fit_transform(X)\n",
        "bag = bag.toarray()\n",
        "y_predict = lr2.predict(bag)\n",
        "ytest = np.array(df['labels'][501:3500].tolist())\n",
        "score = f1_score(ytest, y_predict, labels=np.unique(y_predict))\n",
        "print(score)"
      ],
      "metadata": {
        "id": "NvIrxv9wLHjQ"
      },
      "execution_count": null,
      "outputs": []
    },
    {
      "cell_type": "code",
      "source": [
        "X = np.array(df['selftext'][1:100].tolist())\n",
        "vectorizer = CountVectorizer()\n",
        "bag = vectorizer.fit_transform(X)\n",
        "print(bag.toarray()[0])"
      ],
      "metadata": {
        "colab": {
          "base_uri": "https://localhost:8080/"
        },
        "id": "Xp7FW1NPkE3C",
        "outputId": "163595c1-6928-4a0d-84ee-a3ea32df7dda"
      },
      "execution_count": 58,
      "outputs": [
        {
          "output_type": "stream",
          "name": "stdout",
          "text": [
            "[0 0 0 ... 0 0 0]\n"
          ]
        }
      ]
    }
  ],
  "metadata": {
    "colab": {
      "provenance": [],
      "authorship_tag": "ABX9TyOCPR586x94clATv4zp6tWj",
      "include_colab_link": true
    },
    "kernelspec": {
      "display_name": "Python 3",
      "name": "python3"
    },
    "language_info": {
      "name": "python"
    }
  },
  "nbformat": 4,
  "nbformat_minor": 0
}