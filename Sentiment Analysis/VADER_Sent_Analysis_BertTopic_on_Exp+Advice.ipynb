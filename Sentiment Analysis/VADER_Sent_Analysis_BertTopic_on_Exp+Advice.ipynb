{
  "nbformat": 4,
  "nbformat_minor": 0,
  "metadata": {
    "colab": {
      "provenance": [
        {
          "file_id": "1rPXCAD5MhfELX_b0h6kxgT2E-7FvoC-t",
          "timestamp": 1693361561659
        }
      ]
    },
    "kernelspec": {
      "name": "python3",
      "display_name": "Python 3"
    },
    "language_info": {
      "name": "python"
    },
    "widgets": {
      "application/vnd.jupyter.widget-state+json": {
        "df66bfc93cad4419a4d6a4a92f2d4a15": {
          "model_module": "@jupyter-widgets/controls",
          "model_name": "HBoxModel",
          "model_module_version": "1.5.0",
          "state": {
            "_dom_classes": [],
            "_model_module": "@jupyter-widgets/controls",
            "_model_module_version": "1.5.0",
            "_model_name": "HBoxModel",
            "_view_count": null,
            "_view_module": "@jupyter-widgets/controls",
            "_view_module_version": "1.5.0",
            "_view_name": "HBoxView",
            "box_style": "",
            "children": [
              "IPY_MODEL_2342722d31884d109471cad817525307",
              "IPY_MODEL_b8a41b222e014696891003d471b248db",
              "IPY_MODEL_d73a3bc0e11a448dbb9bdec5744e3a83"
            ],
            "layout": "IPY_MODEL_47bf471a91be4e35ad2e0f96e6c4b35b"
          }
        },
        "2342722d31884d109471cad817525307": {
          "model_module": "@jupyter-widgets/controls",
          "model_name": "HTMLModel",
          "model_module_version": "1.5.0",
          "state": {
            "_dom_classes": [],
            "_model_module": "@jupyter-widgets/controls",
            "_model_module_version": "1.5.0",
            "_model_name": "HTMLModel",
            "_view_count": null,
            "_view_module": "@jupyter-widgets/controls",
            "_view_module_version": "1.5.0",
            "_view_name": "HTMLView",
            "description": "",
            "description_tooltip": null,
            "layout": "IPY_MODEL_efbf9ed9896b43e1aa94f8f9ccb2ad4e",
            "placeholder": "​",
            "style": "IPY_MODEL_5ddaa78f3e9241f8880de34d333dfd23",
            "value": "Batches: 100%"
          }
        },
        "b8a41b222e014696891003d471b248db": {
          "model_module": "@jupyter-widgets/controls",
          "model_name": "FloatProgressModel",
          "model_module_version": "1.5.0",
          "state": {
            "_dom_classes": [],
            "_model_module": "@jupyter-widgets/controls",
            "_model_module_version": "1.5.0",
            "_model_name": "FloatProgressModel",
            "_view_count": null,
            "_view_module": "@jupyter-widgets/controls",
            "_view_module_version": "1.5.0",
            "_view_name": "ProgressView",
            "bar_style": "success",
            "description": "",
            "description_tooltip": null,
            "layout": "IPY_MODEL_2c0faca81bc94f1f89f8f50b7f9db8f9",
            "max": 11,
            "min": 0,
            "orientation": "horizontal",
            "style": "IPY_MODEL_c126be724bd54eee85afbf1946f109c0",
            "value": 11
          }
        },
        "d73a3bc0e11a448dbb9bdec5744e3a83": {
          "model_module": "@jupyter-widgets/controls",
          "model_name": "HTMLModel",
          "model_module_version": "1.5.0",
          "state": {
            "_dom_classes": [],
            "_model_module": "@jupyter-widgets/controls",
            "_model_module_version": "1.5.0",
            "_model_name": "HTMLModel",
            "_view_count": null,
            "_view_module": "@jupyter-widgets/controls",
            "_view_module_version": "1.5.0",
            "_view_name": "HTMLView",
            "description": "",
            "description_tooltip": null,
            "layout": "IPY_MODEL_a93903a71495499b9af19c30ca585af5",
            "placeholder": "​",
            "style": "IPY_MODEL_ebc334b2e17d443da656fd13a48ad4ff",
            "value": " 11/11 [00:44&lt;00:00,  1.43s/it]"
          }
        },
        "47bf471a91be4e35ad2e0f96e6c4b35b": {
          "model_module": "@jupyter-widgets/base",
          "model_name": "LayoutModel",
          "model_module_version": "1.2.0",
          "state": {
            "_model_module": "@jupyter-widgets/base",
            "_model_module_version": "1.2.0",
            "_model_name": "LayoutModel",
            "_view_count": null,
            "_view_module": "@jupyter-widgets/base",
            "_view_module_version": "1.2.0",
            "_view_name": "LayoutView",
            "align_content": null,
            "align_items": null,
            "align_self": null,
            "border": null,
            "bottom": null,
            "display": null,
            "flex": null,
            "flex_flow": null,
            "grid_area": null,
            "grid_auto_columns": null,
            "grid_auto_flow": null,
            "grid_auto_rows": null,
            "grid_column": null,
            "grid_gap": null,
            "grid_row": null,
            "grid_template_areas": null,
            "grid_template_columns": null,
            "grid_template_rows": null,
            "height": null,
            "justify_content": null,
            "justify_items": null,
            "left": null,
            "margin": null,
            "max_height": null,
            "max_width": null,
            "min_height": null,
            "min_width": null,
            "object_fit": null,
            "object_position": null,
            "order": null,
            "overflow": null,
            "overflow_x": null,
            "overflow_y": null,
            "padding": null,
            "right": null,
            "top": null,
            "visibility": null,
            "width": null
          }
        },
        "efbf9ed9896b43e1aa94f8f9ccb2ad4e": {
          "model_module": "@jupyter-widgets/base",
          "model_name": "LayoutModel",
          "model_module_version": "1.2.0",
          "state": {
            "_model_module": "@jupyter-widgets/base",
            "_model_module_version": "1.2.0",
            "_model_name": "LayoutModel",
            "_view_count": null,
            "_view_module": "@jupyter-widgets/base",
            "_view_module_version": "1.2.0",
            "_view_name": "LayoutView",
            "align_content": null,
            "align_items": null,
            "align_self": null,
            "border": null,
            "bottom": null,
            "display": null,
            "flex": null,
            "flex_flow": null,
            "grid_area": null,
            "grid_auto_columns": null,
            "grid_auto_flow": null,
            "grid_auto_rows": null,
            "grid_column": null,
            "grid_gap": null,
            "grid_row": null,
            "grid_template_areas": null,
            "grid_template_columns": null,
            "grid_template_rows": null,
            "height": null,
            "justify_content": null,
            "justify_items": null,
            "left": null,
            "margin": null,
            "max_height": null,
            "max_width": null,
            "min_height": null,
            "min_width": null,
            "object_fit": null,
            "object_position": null,
            "order": null,
            "overflow": null,
            "overflow_x": null,
            "overflow_y": null,
            "padding": null,
            "right": null,
            "top": null,
            "visibility": null,
            "width": null
          }
        },
        "5ddaa78f3e9241f8880de34d333dfd23": {
          "model_module": "@jupyter-widgets/controls",
          "model_name": "DescriptionStyleModel",
          "model_module_version": "1.5.0",
          "state": {
            "_model_module": "@jupyter-widgets/controls",
            "_model_module_version": "1.5.0",
            "_model_name": "DescriptionStyleModel",
            "_view_count": null,
            "_view_module": "@jupyter-widgets/base",
            "_view_module_version": "1.2.0",
            "_view_name": "StyleView",
            "description_width": ""
          }
        },
        "2c0faca81bc94f1f89f8f50b7f9db8f9": {
          "model_module": "@jupyter-widgets/base",
          "model_name": "LayoutModel",
          "model_module_version": "1.2.0",
          "state": {
            "_model_module": "@jupyter-widgets/base",
            "_model_module_version": "1.2.0",
            "_model_name": "LayoutModel",
            "_view_count": null,
            "_view_module": "@jupyter-widgets/base",
            "_view_module_version": "1.2.0",
            "_view_name": "LayoutView",
            "align_content": null,
            "align_items": null,
            "align_self": null,
            "border": null,
            "bottom": null,
            "display": null,
            "flex": null,
            "flex_flow": null,
            "grid_area": null,
            "grid_auto_columns": null,
            "grid_auto_flow": null,
            "grid_auto_rows": null,
            "grid_column": null,
            "grid_gap": null,
            "grid_row": null,
            "grid_template_areas": null,
            "grid_template_columns": null,
            "grid_template_rows": null,
            "height": null,
            "justify_content": null,
            "justify_items": null,
            "left": null,
            "margin": null,
            "max_height": null,
            "max_width": null,
            "min_height": null,
            "min_width": null,
            "object_fit": null,
            "object_position": null,
            "order": null,
            "overflow": null,
            "overflow_x": null,
            "overflow_y": null,
            "padding": null,
            "right": null,
            "top": null,
            "visibility": null,
            "width": null
          }
        },
        "c126be724bd54eee85afbf1946f109c0": {
          "model_module": "@jupyter-widgets/controls",
          "model_name": "ProgressStyleModel",
          "model_module_version": "1.5.0",
          "state": {
            "_model_module": "@jupyter-widgets/controls",
            "_model_module_version": "1.5.0",
            "_model_name": "ProgressStyleModel",
            "_view_count": null,
            "_view_module": "@jupyter-widgets/base",
            "_view_module_version": "1.2.0",
            "_view_name": "StyleView",
            "bar_color": null,
            "description_width": ""
          }
        },
        "a93903a71495499b9af19c30ca585af5": {
          "model_module": "@jupyter-widgets/base",
          "model_name": "LayoutModel",
          "model_module_version": "1.2.0",
          "state": {
            "_model_module": "@jupyter-widgets/base",
            "_model_module_version": "1.2.0",
            "_model_name": "LayoutModel",
            "_view_count": null,
            "_view_module": "@jupyter-widgets/base",
            "_view_module_version": "1.2.0",
            "_view_name": "LayoutView",
            "align_content": null,
            "align_items": null,
            "align_self": null,
            "border": null,
            "bottom": null,
            "display": null,
            "flex": null,
            "flex_flow": null,
            "grid_area": null,
            "grid_auto_columns": null,
            "grid_auto_flow": null,
            "grid_auto_rows": null,
            "grid_column": null,
            "grid_gap": null,
            "grid_row": null,
            "grid_template_areas": null,
            "grid_template_columns": null,
            "grid_template_rows": null,
            "height": null,
            "justify_content": null,
            "justify_items": null,
            "left": null,
            "margin": null,
            "max_height": null,
            "max_width": null,
            "min_height": null,
            "min_width": null,
            "object_fit": null,
            "object_position": null,
            "order": null,
            "overflow": null,
            "overflow_x": null,
            "overflow_y": null,
            "padding": null,
            "right": null,
            "top": null,
            "visibility": null,
            "width": null
          }
        },
        "ebc334b2e17d443da656fd13a48ad4ff": {
          "model_module": "@jupyter-widgets/controls",
          "model_name": "DescriptionStyleModel",
          "model_module_version": "1.5.0",
          "state": {
            "_model_module": "@jupyter-widgets/controls",
            "_model_module_version": "1.5.0",
            "_model_name": "DescriptionStyleModel",
            "_view_count": null,
            "_view_module": "@jupyter-widgets/base",
            "_view_module_version": "1.2.0",
            "_view_name": "StyleView",
            "description_width": ""
          }
        },
        "c501e0eccbd84a68bb735cb3e471d95f": {
          "model_module": "@jupyter-widgets/controls",
          "model_name": "HBoxModel",
          "model_module_version": "1.5.0",
          "state": {
            "_dom_classes": [],
            "_model_module": "@jupyter-widgets/controls",
            "_model_module_version": "1.5.0",
            "_model_name": "HBoxModel",
            "_view_count": null,
            "_view_module": "@jupyter-widgets/controls",
            "_view_module_version": "1.5.0",
            "_view_name": "HBoxView",
            "box_style": "",
            "children": [
              "IPY_MODEL_9b148020f3ab4bb5886393787454edfa",
              "IPY_MODEL_1223754b84134a10b90ac5b5475acb15",
              "IPY_MODEL_96f941c85ec44bf6b39f7443ce822d92"
            ],
            "layout": "IPY_MODEL_e8e9f3d8eed24f3db9cbae1c8f02f855"
          }
        },
        "9b148020f3ab4bb5886393787454edfa": {
          "model_module": "@jupyter-widgets/controls",
          "model_name": "HTMLModel",
          "model_module_version": "1.5.0",
          "state": {
            "_dom_classes": [],
            "_model_module": "@jupyter-widgets/controls",
            "_model_module_version": "1.5.0",
            "_model_name": "HTMLModel",
            "_view_count": null,
            "_view_module": "@jupyter-widgets/controls",
            "_view_module_version": "1.5.0",
            "_view_name": "HTMLView",
            "description": "",
            "description_tooltip": null,
            "layout": "IPY_MODEL_18eaf1b4342e4782a62189e0334a112d",
            "placeholder": "​",
            "style": "IPY_MODEL_c7708b5a75684e5ba636cc69a19662c0",
            "value": "Batches: 100%"
          }
        },
        "1223754b84134a10b90ac5b5475acb15": {
          "model_module": "@jupyter-widgets/controls",
          "model_name": "FloatProgressModel",
          "model_module_version": "1.5.0",
          "state": {
            "_dom_classes": [],
            "_model_module": "@jupyter-widgets/controls",
            "_model_module_version": "1.5.0",
            "_model_name": "FloatProgressModel",
            "_view_count": null,
            "_view_module": "@jupyter-widgets/controls",
            "_view_module_version": "1.5.0",
            "_view_name": "ProgressView",
            "bar_style": "success",
            "description": "",
            "description_tooltip": null,
            "layout": "IPY_MODEL_ca73d8de01ba4a02adc9d359b58b33d7",
            "max": 27,
            "min": 0,
            "orientation": "horizontal",
            "style": "IPY_MODEL_74874239b2624b52a74bfd77fb3f3032",
            "value": 27
          }
        },
        "96f941c85ec44bf6b39f7443ce822d92": {
          "model_module": "@jupyter-widgets/controls",
          "model_name": "HTMLModel",
          "model_module_version": "1.5.0",
          "state": {
            "_dom_classes": [],
            "_model_module": "@jupyter-widgets/controls",
            "_model_module_version": "1.5.0",
            "_model_name": "HTMLModel",
            "_view_count": null,
            "_view_module": "@jupyter-widgets/controls",
            "_view_module_version": "1.5.0",
            "_view_name": "HTMLView",
            "description": "",
            "description_tooltip": null,
            "layout": "IPY_MODEL_36025dba1c524230b4ae19674cc98112",
            "placeholder": "​",
            "style": "IPY_MODEL_e2e647a5373d49cfb202ef9dd4dd6f8e",
            "value": " 27/27 [01:10&lt;00:00,  1.72it/s]"
          }
        },
        "e8e9f3d8eed24f3db9cbae1c8f02f855": {
          "model_module": "@jupyter-widgets/base",
          "model_name": "LayoutModel",
          "model_module_version": "1.2.0",
          "state": {
            "_model_module": "@jupyter-widgets/base",
            "_model_module_version": "1.2.0",
            "_model_name": "LayoutModel",
            "_view_count": null,
            "_view_module": "@jupyter-widgets/base",
            "_view_module_version": "1.2.0",
            "_view_name": "LayoutView",
            "align_content": null,
            "align_items": null,
            "align_self": null,
            "border": null,
            "bottom": null,
            "display": null,
            "flex": null,
            "flex_flow": null,
            "grid_area": null,
            "grid_auto_columns": null,
            "grid_auto_flow": null,
            "grid_auto_rows": null,
            "grid_column": null,
            "grid_gap": null,
            "grid_row": null,
            "grid_template_areas": null,
            "grid_template_columns": null,
            "grid_template_rows": null,
            "height": null,
            "justify_content": null,
            "justify_items": null,
            "left": null,
            "margin": null,
            "max_height": null,
            "max_width": null,
            "min_height": null,
            "min_width": null,
            "object_fit": null,
            "object_position": null,
            "order": null,
            "overflow": null,
            "overflow_x": null,
            "overflow_y": null,
            "padding": null,
            "right": null,
            "top": null,
            "visibility": null,
            "width": null
          }
        },
        "18eaf1b4342e4782a62189e0334a112d": {
          "model_module": "@jupyter-widgets/base",
          "model_name": "LayoutModel",
          "model_module_version": "1.2.0",
          "state": {
            "_model_module": "@jupyter-widgets/base",
            "_model_module_version": "1.2.0",
            "_model_name": "LayoutModel",
            "_view_count": null,
            "_view_module": "@jupyter-widgets/base",
            "_view_module_version": "1.2.0",
            "_view_name": "LayoutView",
            "align_content": null,
            "align_items": null,
            "align_self": null,
            "border": null,
            "bottom": null,
            "display": null,
            "flex": null,
            "flex_flow": null,
            "grid_area": null,
            "grid_auto_columns": null,
            "grid_auto_flow": null,
            "grid_auto_rows": null,
            "grid_column": null,
            "grid_gap": null,
            "grid_row": null,
            "grid_template_areas": null,
            "grid_template_columns": null,
            "grid_template_rows": null,
            "height": null,
            "justify_content": null,
            "justify_items": null,
            "left": null,
            "margin": null,
            "max_height": null,
            "max_width": null,
            "min_height": null,
            "min_width": null,
            "object_fit": null,
            "object_position": null,
            "order": null,
            "overflow": null,
            "overflow_x": null,
            "overflow_y": null,
            "padding": null,
            "right": null,
            "top": null,
            "visibility": null,
            "width": null
          }
        },
        "c7708b5a75684e5ba636cc69a19662c0": {
          "model_module": "@jupyter-widgets/controls",
          "model_name": "DescriptionStyleModel",
          "model_module_version": "1.5.0",
          "state": {
            "_model_module": "@jupyter-widgets/controls",
            "_model_module_version": "1.5.0",
            "_model_name": "DescriptionStyleModel",
            "_view_count": null,
            "_view_module": "@jupyter-widgets/base",
            "_view_module_version": "1.2.0",
            "_view_name": "StyleView",
            "description_width": ""
          }
        },
        "ca73d8de01ba4a02adc9d359b58b33d7": {
          "model_module": "@jupyter-widgets/base",
          "model_name": "LayoutModel",
          "model_module_version": "1.2.0",
          "state": {
            "_model_module": "@jupyter-widgets/base",
            "_model_module_version": "1.2.0",
            "_model_name": "LayoutModel",
            "_view_count": null,
            "_view_module": "@jupyter-widgets/base",
            "_view_module_version": "1.2.0",
            "_view_name": "LayoutView",
            "align_content": null,
            "align_items": null,
            "align_self": null,
            "border": null,
            "bottom": null,
            "display": null,
            "flex": null,
            "flex_flow": null,
            "grid_area": null,
            "grid_auto_columns": null,
            "grid_auto_flow": null,
            "grid_auto_rows": null,
            "grid_column": null,
            "grid_gap": null,
            "grid_row": null,
            "grid_template_areas": null,
            "grid_template_columns": null,
            "grid_template_rows": null,
            "height": null,
            "justify_content": null,
            "justify_items": null,
            "left": null,
            "margin": null,
            "max_height": null,
            "max_width": null,
            "min_height": null,
            "min_width": null,
            "object_fit": null,
            "object_position": null,
            "order": null,
            "overflow": null,
            "overflow_x": null,
            "overflow_y": null,
            "padding": null,
            "right": null,
            "top": null,
            "visibility": null,
            "width": null
          }
        },
        "74874239b2624b52a74bfd77fb3f3032": {
          "model_module": "@jupyter-widgets/controls",
          "model_name": "ProgressStyleModel",
          "model_module_version": "1.5.0",
          "state": {
            "_model_module": "@jupyter-widgets/controls",
            "_model_module_version": "1.5.0",
            "_model_name": "ProgressStyleModel",
            "_view_count": null,
            "_view_module": "@jupyter-widgets/base",
            "_view_module_version": "1.2.0",
            "_view_name": "StyleView",
            "bar_color": null,
            "description_width": ""
          }
        },
        "36025dba1c524230b4ae19674cc98112": {
          "model_module": "@jupyter-widgets/base",
          "model_name": "LayoutModel",
          "model_module_version": "1.2.0",
          "state": {
            "_model_module": "@jupyter-widgets/base",
            "_model_module_version": "1.2.0",
            "_model_name": "LayoutModel",
            "_view_count": null,
            "_view_module": "@jupyter-widgets/base",
            "_view_module_version": "1.2.0",
            "_view_name": "LayoutView",
            "align_content": null,
            "align_items": null,
            "align_self": null,
            "border": null,
            "bottom": null,
            "display": null,
            "flex": null,
            "flex_flow": null,
            "grid_area": null,
            "grid_auto_columns": null,
            "grid_auto_flow": null,
            "grid_auto_rows": null,
            "grid_column": null,
            "grid_gap": null,
            "grid_row": null,
            "grid_template_areas": null,
            "grid_template_columns": null,
            "grid_template_rows": null,
            "height": null,
            "justify_content": null,
            "justify_items": null,
            "left": null,
            "margin": null,
            "max_height": null,
            "max_width": null,
            "min_height": null,
            "min_width": null,
            "object_fit": null,
            "object_position": null,
            "order": null,
            "overflow": null,
            "overflow_x": null,
            "overflow_y": null,
            "padding": null,
            "right": null,
            "top": null,
            "visibility": null,
            "width": null
          }
        },
        "e2e647a5373d49cfb202ef9dd4dd6f8e": {
          "model_module": "@jupyter-widgets/controls",
          "model_name": "DescriptionStyleModel",
          "model_module_version": "1.5.0",
          "state": {
            "_model_module": "@jupyter-widgets/controls",
            "_model_module_version": "1.5.0",
            "_model_name": "DescriptionStyleModel",
            "_view_count": null,
            "_view_module": "@jupyter-widgets/base",
            "_view_module_version": "1.2.0",
            "_view_name": "StyleView",
            "description_width": ""
          }
        },
        "952b0eccc55a4cd8a84f1a90cd721332": {
          "model_module": "@jupyter-widgets/controls",
          "model_name": "HBoxModel",
          "model_module_version": "1.5.0",
          "state": {
            "_dom_classes": [],
            "_model_module": "@jupyter-widgets/controls",
            "_model_module_version": "1.5.0",
            "_model_name": "HBoxModel",
            "_view_count": null,
            "_view_module": "@jupyter-widgets/controls",
            "_view_module_version": "1.5.0",
            "_view_name": "HBoxView",
            "box_style": "",
            "children": [
              "IPY_MODEL_c1b09dc441b641cc8f1a7a1f98690f3f",
              "IPY_MODEL_32d2576cf33f4e7cacdd984d9d089bd4",
              "IPY_MODEL_5196ed0378584049a52984de11655c10"
            ],
            "layout": "IPY_MODEL_e67945d49a72400d89ae88608779e656"
          }
        },
        "c1b09dc441b641cc8f1a7a1f98690f3f": {
          "model_module": "@jupyter-widgets/controls",
          "model_name": "HTMLModel",
          "model_module_version": "1.5.0",
          "state": {
            "_dom_classes": [],
            "_model_module": "@jupyter-widgets/controls",
            "_model_module_version": "1.5.0",
            "_model_name": "HTMLModel",
            "_view_count": null,
            "_view_module": "@jupyter-widgets/controls",
            "_view_module_version": "1.5.0",
            "_view_name": "HTMLView",
            "description": "",
            "description_tooltip": null,
            "layout": "IPY_MODEL_92c58019fcf4425492b7f2dedec51a27",
            "placeholder": "​",
            "style": "IPY_MODEL_a056cdec25c14ff881ae0213a9c93b9c",
            "value": "Batches: 100%"
          }
        },
        "32d2576cf33f4e7cacdd984d9d089bd4": {
          "model_module": "@jupyter-widgets/controls",
          "model_name": "FloatProgressModel",
          "model_module_version": "1.5.0",
          "state": {
            "_dom_classes": [],
            "_model_module": "@jupyter-widgets/controls",
            "_model_module_version": "1.5.0",
            "_model_name": "FloatProgressModel",
            "_view_count": null,
            "_view_module": "@jupyter-widgets/controls",
            "_view_module_version": "1.5.0",
            "_view_name": "ProgressView",
            "bar_style": "success",
            "description": "",
            "description_tooltip": null,
            "layout": "IPY_MODEL_8e1c4fa326eb432a867ee1e65346f858",
            "max": 2,
            "min": 0,
            "orientation": "horizontal",
            "style": "IPY_MODEL_bbc23dd6c2d6498cb04269acd9944b89",
            "value": 2
          }
        },
        "5196ed0378584049a52984de11655c10": {
          "model_module": "@jupyter-widgets/controls",
          "model_name": "HTMLModel",
          "model_module_version": "1.5.0",
          "state": {
            "_dom_classes": [],
            "_model_module": "@jupyter-widgets/controls",
            "_model_module_version": "1.5.0",
            "_model_name": "HTMLModel",
            "_view_count": null,
            "_view_module": "@jupyter-widgets/controls",
            "_view_module_version": "1.5.0",
            "_view_name": "HTMLView",
            "description": "",
            "description_tooltip": null,
            "layout": "IPY_MODEL_c21213fcddba4821805c8d96c6d3e8a8",
            "placeholder": "​",
            "style": "IPY_MODEL_07f2bb8a9f9c4acbbc5e1d4920b6a1ee",
            "value": " 2/2 [00:07&lt;00:00,  7.05s/it]"
          }
        },
        "e67945d49a72400d89ae88608779e656": {
          "model_module": "@jupyter-widgets/base",
          "model_name": "LayoutModel",
          "model_module_version": "1.2.0",
          "state": {
            "_model_module": "@jupyter-widgets/base",
            "_model_module_version": "1.2.0",
            "_model_name": "LayoutModel",
            "_view_count": null,
            "_view_module": "@jupyter-widgets/base",
            "_view_module_version": "1.2.0",
            "_view_name": "LayoutView",
            "align_content": null,
            "align_items": null,
            "align_self": null,
            "border": null,
            "bottom": null,
            "display": null,
            "flex": null,
            "flex_flow": null,
            "grid_area": null,
            "grid_auto_columns": null,
            "grid_auto_flow": null,
            "grid_auto_rows": null,
            "grid_column": null,
            "grid_gap": null,
            "grid_row": null,
            "grid_template_areas": null,
            "grid_template_columns": null,
            "grid_template_rows": null,
            "height": null,
            "justify_content": null,
            "justify_items": null,
            "left": null,
            "margin": null,
            "max_height": null,
            "max_width": null,
            "min_height": null,
            "min_width": null,
            "object_fit": null,
            "object_position": null,
            "order": null,
            "overflow": null,
            "overflow_x": null,
            "overflow_y": null,
            "padding": null,
            "right": null,
            "top": null,
            "visibility": null,
            "width": null
          }
        },
        "92c58019fcf4425492b7f2dedec51a27": {
          "model_module": "@jupyter-widgets/base",
          "model_name": "LayoutModel",
          "model_module_version": "1.2.0",
          "state": {
            "_model_module": "@jupyter-widgets/base",
            "_model_module_version": "1.2.0",
            "_model_name": "LayoutModel",
            "_view_count": null,
            "_view_module": "@jupyter-widgets/base",
            "_view_module_version": "1.2.0",
            "_view_name": "LayoutView",
            "align_content": null,
            "align_items": null,
            "align_self": null,
            "border": null,
            "bottom": null,
            "display": null,
            "flex": null,
            "flex_flow": null,
            "grid_area": null,
            "grid_auto_columns": null,
            "grid_auto_flow": null,
            "grid_auto_rows": null,
            "grid_column": null,
            "grid_gap": null,
            "grid_row": null,
            "grid_template_areas": null,
            "grid_template_columns": null,
            "grid_template_rows": null,
            "height": null,
            "justify_content": null,
            "justify_items": null,
            "left": null,
            "margin": null,
            "max_height": null,
            "max_width": null,
            "min_height": null,
            "min_width": null,
            "object_fit": null,
            "object_position": null,
            "order": null,
            "overflow": null,
            "overflow_x": null,
            "overflow_y": null,
            "padding": null,
            "right": null,
            "top": null,
            "visibility": null,
            "width": null
          }
        },
        "a056cdec25c14ff881ae0213a9c93b9c": {
          "model_module": "@jupyter-widgets/controls",
          "model_name": "DescriptionStyleModel",
          "model_module_version": "1.5.0",
          "state": {
            "_model_module": "@jupyter-widgets/controls",
            "_model_module_version": "1.5.0",
            "_model_name": "DescriptionStyleModel",
            "_view_count": null,
            "_view_module": "@jupyter-widgets/base",
            "_view_module_version": "1.2.0",
            "_view_name": "StyleView",
            "description_width": ""
          }
        },
        "8e1c4fa326eb432a867ee1e65346f858": {
          "model_module": "@jupyter-widgets/base",
          "model_name": "LayoutModel",
          "model_module_version": "1.2.0",
          "state": {
            "_model_module": "@jupyter-widgets/base",
            "_model_module_version": "1.2.0",
            "_model_name": "LayoutModel",
            "_view_count": null,
            "_view_module": "@jupyter-widgets/base",
            "_view_module_version": "1.2.0",
            "_view_name": "LayoutView",
            "align_content": null,
            "align_items": null,
            "align_self": null,
            "border": null,
            "bottom": null,
            "display": null,
            "flex": null,
            "flex_flow": null,
            "grid_area": null,
            "grid_auto_columns": null,
            "grid_auto_flow": null,
            "grid_auto_rows": null,
            "grid_column": null,
            "grid_gap": null,
            "grid_row": null,
            "grid_template_areas": null,
            "grid_template_columns": null,
            "grid_template_rows": null,
            "height": null,
            "justify_content": null,
            "justify_items": null,
            "left": null,
            "margin": null,
            "max_height": null,
            "max_width": null,
            "min_height": null,
            "min_width": null,
            "object_fit": null,
            "object_position": null,
            "order": null,
            "overflow": null,
            "overflow_x": null,
            "overflow_y": null,
            "padding": null,
            "right": null,
            "top": null,
            "visibility": null,
            "width": null
          }
        },
        "bbc23dd6c2d6498cb04269acd9944b89": {
          "model_module": "@jupyter-widgets/controls",
          "model_name": "ProgressStyleModel",
          "model_module_version": "1.5.0",
          "state": {
            "_model_module": "@jupyter-widgets/controls",
            "_model_module_version": "1.5.0",
            "_model_name": "ProgressStyleModel",
            "_view_count": null,
            "_view_module": "@jupyter-widgets/base",
            "_view_module_version": "1.2.0",
            "_view_name": "StyleView",
            "bar_color": null,
            "description_width": ""
          }
        },
        "c21213fcddba4821805c8d96c6d3e8a8": {
          "model_module": "@jupyter-widgets/base",
          "model_name": "LayoutModel",
          "model_module_version": "1.2.0",
          "state": {
            "_model_module": "@jupyter-widgets/base",
            "_model_module_version": "1.2.0",
            "_model_name": "LayoutModel",
            "_view_count": null,
            "_view_module": "@jupyter-widgets/base",
            "_view_module_version": "1.2.0",
            "_view_name": "LayoutView",
            "align_content": null,
            "align_items": null,
            "align_self": null,
            "border": null,
            "bottom": null,
            "display": null,
            "flex": null,
            "flex_flow": null,
            "grid_area": null,
            "grid_auto_columns": null,
            "grid_auto_flow": null,
            "grid_auto_rows": null,
            "grid_column": null,
            "grid_gap": null,
            "grid_row": null,
            "grid_template_areas": null,
            "grid_template_columns": null,
            "grid_template_rows": null,
            "height": null,
            "justify_content": null,
            "justify_items": null,
            "left": null,
            "margin": null,
            "max_height": null,
            "max_width": null,
            "min_height": null,
            "min_width": null,
            "object_fit": null,
            "object_position": null,
            "order": null,
            "overflow": null,
            "overflow_x": null,
            "overflow_y": null,
            "padding": null,
            "right": null,
            "top": null,
            "visibility": null,
            "width": null
          }
        },
        "07f2bb8a9f9c4acbbc5e1d4920b6a1ee": {
          "model_module": "@jupyter-widgets/controls",
          "model_name": "DescriptionStyleModel",
          "model_module_version": "1.5.0",
          "state": {
            "_model_module": "@jupyter-widgets/controls",
            "_model_module_version": "1.5.0",
            "_model_name": "DescriptionStyleModel",
            "_view_count": null,
            "_view_module": "@jupyter-widgets/base",
            "_view_module_version": "1.2.0",
            "_view_name": "StyleView",
            "description_width": ""
          }
        },
        "1e8cc58d50524d47b22b56db5f495c4c": {
          "model_module": "@jupyter-widgets/controls",
          "model_name": "HBoxModel",
          "model_module_version": "1.5.0",
          "state": {
            "_dom_classes": [],
            "_model_module": "@jupyter-widgets/controls",
            "_model_module_version": "1.5.0",
            "_model_name": "HBoxModel",
            "_view_count": null,
            "_view_module": "@jupyter-widgets/controls",
            "_view_module_version": "1.5.0",
            "_view_name": "HBoxView",
            "box_style": "",
            "children": [
              "IPY_MODEL_7a99c485ece3442f970b3f15c212fb34",
              "IPY_MODEL_886f55b746cb4c3496ebf77727f81611",
              "IPY_MODEL_cb29cab29f4a443fad15241bbad8f1ca"
            ],
            "layout": "IPY_MODEL_987cb46fdf324666a71a8dbd6c3ff38a"
          }
        },
        "7a99c485ece3442f970b3f15c212fb34": {
          "model_module": "@jupyter-widgets/controls",
          "model_name": "HTMLModel",
          "model_module_version": "1.5.0",
          "state": {
            "_dom_classes": [],
            "_model_module": "@jupyter-widgets/controls",
            "_model_module_version": "1.5.0",
            "_model_name": "HTMLModel",
            "_view_count": null,
            "_view_module": "@jupyter-widgets/controls",
            "_view_module_version": "1.5.0",
            "_view_name": "HTMLView",
            "description": "",
            "description_tooltip": null,
            "layout": "IPY_MODEL_80f7d37a887f4b8aba1e620e21d93ded",
            "placeholder": "​",
            "style": "IPY_MODEL_b191cd07f367490bb3b63f12977f4af2",
            "value": "Batches: 100%"
          }
        },
        "886f55b746cb4c3496ebf77727f81611": {
          "model_module": "@jupyter-widgets/controls",
          "model_name": "FloatProgressModel",
          "model_module_version": "1.5.0",
          "state": {
            "_dom_classes": [],
            "_model_module": "@jupyter-widgets/controls",
            "_model_module_version": "1.5.0",
            "_model_name": "FloatProgressModel",
            "_view_count": null,
            "_view_module": "@jupyter-widgets/controls",
            "_view_module_version": "1.5.0",
            "_view_name": "ProgressView",
            "bar_style": "success",
            "description": "",
            "description_tooltip": null,
            "layout": "IPY_MODEL_6d4b041e84fa452fa5ef719583335cd6",
            "max": 56,
            "min": 0,
            "orientation": "horizontal",
            "style": "IPY_MODEL_920127c2320747049521728882ec44f6",
            "value": 56
          }
        },
        "cb29cab29f4a443fad15241bbad8f1ca": {
          "model_module": "@jupyter-widgets/controls",
          "model_name": "HTMLModel",
          "model_module_version": "1.5.0",
          "state": {
            "_dom_classes": [],
            "_model_module": "@jupyter-widgets/controls",
            "_model_module_version": "1.5.0",
            "_model_name": "HTMLModel",
            "_view_count": null,
            "_view_module": "@jupyter-widgets/controls",
            "_view_module_version": "1.5.0",
            "_view_name": "HTMLView",
            "description": "",
            "description_tooltip": null,
            "layout": "IPY_MODEL_3717124345e142baa903c86cb2621e7c",
            "placeholder": "​",
            "style": "IPY_MODEL_3e908c15be164581acebea614d90c943",
            "value": " 56/56 [01:37&lt;00:00,  3.67it/s]"
          }
        },
        "987cb46fdf324666a71a8dbd6c3ff38a": {
          "model_module": "@jupyter-widgets/base",
          "model_name": "LayoutModel",
          "model_module_version": "1.2.0",
          "state": {
            "_model_module": "@jupyter-widgets/base",
            "_model_module_version": "1.2.0",
            "_model_name": "LayoutModel",
            "_view_count": null,
            "_view_module": "@jupyter-widgets/base",
            "_view_module_version": "1.2.0",
            "_view_name": "LayoutView",
            "align_content": null,
            "align_items": null,
            "align_self": null,
            "border": null,
            "bottom": null,
            "display": null,
            "flex": null,
            "flex_flow": null,
            "grid_area": null,
            "grid_auto_columns": null,
            "grid_auto_flow": null,
            "grid_auto_rows": null,
            "grid_column": null,
            "grid_gap": null,
            "grid_row": null,
            "grid_template_areas": null,
            "grid_template_columns": null,
            "grid_template_rows": null,
            "height": null,
            "justify_content": null,
            "justify_items": null,
            "left": null,
            "margin": null,
            "max_height": null,
            "max_width": null,
            "min_height": null,
            "min_width": null,
            "object_fit": null,
            "object_position": null,
            "order": null,
            "overflow": null,
            "overflow_x": null,
            "overflow_y": null,
            "padding": null,
            "right": null,
            "top": null,
            "visibility": null,
            "width": null
          }
        },
        "80f7d37a887f4b8aba1e620e21d93ded": {
          "model_module": "@jupyter-widgets/base",
          "model_name": "LayoutModel",
          "model_module_version": "1.2.0",
          "state": {
            "_model_module": "@jupyter-widgets/base",
            "_model_module_version": "1.2.0",
            "_model_name": "LayoutModel",
            "_view_count": null,
            "_view_module": "@jupyter-widgets/base",
            "_view_module_version": "1.2.0",
            "_view_name": "LayoutView",
            "align_content": null,
            "align_items": null,
            "align_self": null,
            "border": null,
            "bottom": null,
            "display": null,
            "flex": null,
            "flex_flow": null,
            "grid_area": null,
            "grid_auto_columns": null,
            "grid_auto_flow": null,
            "grid_auto_rows": null,
            "grid_column": null,
            "grid_gap": null,
            "grid_row": null,
            "grid_template_areas": null,
            "grid_template_columns": null,
            "grid_template_rows": null,
            "height": null,
            "justify_content": null,
            "justify_items": null,
            "left": null,
            "margin": null,
            "max_height": null,
            "max_width": null,
            "min_height": null,
            "min_width": null,
            "object_fit": null,
            "object_position": null,
            "order": null,
            "overflow": null,
            "overflow_x": null,
            "overflow_y": null,
            "padding": null,
            "right": null,
            "top": null,
            "visibility": null,
            "width": null
          }
        },
        "b191cd07f367490bb3b63f12977f4af2": {
          "model_module": "@jupyter-widgets/controls",
          "model_name": "DescriptionStyleModel",
          "model_module_version": "1.5.0",
          "state": {
            "_model_module": "@jupyter-widgets/controls",
            "_model_module_version": "1.5.0",
            "_model_name": "DescriptionStyleModel",
            "_view_count": null,
            "_view_module": "@jupyter-widgets/base",
            "_view_module_version": "1.2.0",
            "_view_name": "StyleView",
            "description_width": ""
          }
        },
        "6d4b041e84fa452fa5ef719583335cd6": {
          "model_module": "@jupyter-widgets/base",
          "model_name": "LayoutModel",
          "model_module_version": "1.2.0",
          "state": {
            "_model_module": "@jupyter-widgets/base",
            "_model_module_version": "1.2.0",
            "_model_name": "LayoutModel",
            "_view_count": null,
            "_view_module": "@jupyter-widgets/base",
            "_view_module_version": "1.2.0",
            "_view_name": "LayoutView",
            "align_content": null,
            "align_items": null,
            "align_self": null,
            "border": null,
            "bottom": null,
            "display": null,
            "flex": null,
            "flex_flow": null,
            "grid_area": null,
            "grid_auto_columns": null,
            "grid_auto_flow": null,
            "grid_auto_rows": null,
            "grid_column": null,
            "grid_gap": null,
            "grid_row": null,
            "grid_template_areas": null,
            "grid_template_columns": null,
            "grid_template_rows": null,
            "height": null,
            "justify_content": null,
            "justify_items": null,
            "left": null,
            "margin": null,
            "max_height": null,
            "max_width": null,
            "min_height": null,
            "min_width": null,
            "object_fit": null,
            "object_position": null,
            "order": null,
            "overflow": null,
            "overflow_x": null,
            "overflow_y": null,
            "padding": null,
            "right": null,
            "top": null,
            "visibility": null,
            "width": null
          }
        },
        "920127c2320747049521728882ec44f6": {
          "model_module": "@jupyter-widgets/controls",
          "model_name": "ProgressStyleModel",
          "model_module_version": "1.5.0",
          "state": {
            "_model_module": "@jupyter-widgets/controls",
            "_model_module_version": "1.5.0",
            "_model_name": "ProgressStyleModel",
            "_view_count": null,
            "_view_module": "@jupyter-widgets/base",
            "_view_module_version": "1.2.0",
            "_view_name": "StyleView",
            "bar_color": null,
            "description_width": ""
          }
        },
        "3717124345e142baa903c86cb2621e7c": {
          "model_module": "@jupyter-widgets/base",
          "model_name": "LayoutModel",
          "model_module_version": "1.2.0",
          "state": {
            "_model_module": "@jupyter-widgets/base",
            "_model_module_version": "1.2.0",
            "_model_name": "LayoutModel",
            "_view_count": null,
            "_view_module": "@jupyter-widgets/base",
            "_view_module_version": "1.2.0",
            "_view_name": "LayoutView",
            "align_content": null,
            "align_items": null,
            "align_self": null,
            "border": null,
            "bottom": null,
            "display": null,
            "flex": null,
            "flex_flow": null,
            "grid_area": null,
            "grid_auto_columns": null,
            "grid_auto_flow": null,
            "grid_auto_rows": null,
            "grid_column": null,
            "grid_gap": null,
            "grid_row": null,
            "grid_template_areas": null,
            "grid_template_columns": null,
            "grid_template_rows": null,
            "height": null,
            "justify_content": null,
            "justify_items": null,
            "left": null,
            "margin": null,
            "max_height": null,
            "max_width": null,
            "min_height": null,
            "min_width": null,
            "object_fit": null,
            "object_position": null,
            "order": null,
            "overflow": null,
            "overflow_x": null,
            "overflow_y": null,
            "padding": null,
            "right": null,
            "top": null,
            "visibility": null,
            "width": null
          }
        },
        "3e908c15be164581acebea614d90c943": {
          "model_module": "@jupyter-widgets/controls",
          "model_name": "DescriptionStyleModel",
          "model_module_version": "1.5.0",
          "state": {
            "_model_module": "@jupyter-widgets/controls",
            "_model_module_version": "1.5.0",
            "_model_name": "DescriptionStyleModel",
            "_view_count": null,
            "_view_module": "@jupyter-widgets/base",
            "_view_module_version": "1.2.0",
            "_view_name": "StyleView",
            "description_width": ""
          }
        }
      }
    }
  },
  "cells": [
    {
      "cell_type": "code",
      "execution_count": 1,
      "metadata": {
        "colab": {
          "base_uri": "https://localhost:8080/"
        },
        "id": "k8m9KW2rkBrB",
        "executionInfo": {
          "status": "ok",
          "timestamp": 1693937753499,
          "user_tz": 240,
          "elapsed": 1807,
          "user": {
            "displayName": "Joongeun Choi",
            "userId": "16179959334871840414"
          }
        },
        "outputId": "329d7e18-1fd5-448b-c5f6-5d4c31a6292c"
      },
      "outputs": [
        {
          "output_type": "stream",
          "name": "stderr",
          "text": [
            "[nltk_data] Downloading package vader_lexicon to /root/nltk_data...\n"
          ]
        }
      ],
      "source": [
        "import nltk\n",
        "nltk.download('vader_lexicon')\n",
        "from nltk.sentiment.vader import SentimentIntensityAnalyzer\n",
        "\n",
        "sid = SentimentIntensityAnalyzer()"
      ]
    },
    {
      "cell_type": "code",
      "source": [
        "import numpy as np\n",
        "import pandas as pd\n",
        "import json"
      ],
      "metadata": {
        "id": "WAWySj3AkuIC",
        "executionInfo": {
          "status": "ok",
          "timestamp": 1693937754118,
          "user_tz": 240,
          "elapsed": 624,
          "user": {
            "displayName": "Joongeun Choi",
            "userId": "16179959334871840414"
          }
        }
      },
      "execution_count": 2,
      "outputs": []
    },
    {
      "cell_type": "code",
      "source": [
        "# #encoding='utf-8' so that emojis (unicode character) can be translated to binary - otherwise, error will result\n",
        "# with open(r'/content/sample_data/QuitVaping_submissions', 'r', encoding='utf-8') as f:\n",
        "#   df = pd.read_json(f, lines=True)\n",
        "# df.to_csv('all_posts_csv.csv', encoding='utf-8', index=False)"
      ],
      "metadata": {
        "id": "twKcZ_4RlSNQ",
        "executionInfo": {
          "status": "ok",
          "timestamp": 1693937754119,
          "user_tz": 240,
          "elapsed": 14,
          "user": {
            "displayName": "Joongeun Choi",
            "userId": "16179959334871840414"
          }
        }
      },
      "execution_count": 3,
      "outputs": []
    },
    {
      "cell_type": "code",
      "source": [
        "df = pd.read_csv('/content/predicted_labels.csv')\n",
        "print(df)"
      ],
      "metadata": {
        "id": "w-fcVQoGrX5o",
        "colab": {
          "base_uri": "https://localhost:8080/",
          "height": 355
        },
        "executionInfo": {
          "status": "error",
          "timestamp": 1693937754120,
          "user_tz": 240,
          "elapsed": 14,
          "user": {
            "displayName": "Joongeun Choi",
            "userId": "16179959334871840414"
          }
        },
        "outputId": "eaab202c-07c0-4932-91fa-dfa13e232843"
      },
      "execution_count": 4,
      "outputs": [
        {
          "output_type": "error",
          "ename": "FileNotFoundError",
          "evalue": "ignored",
          "traceback": [
            "\u001b[0;31m---------------------------------------------------------------------------\u001b[0m",
            "\u001b[0;31mFileNotFoundError\u001b[0m                         Traceback (most recent call last)",
            "\u001b[0;32m<ipython-input-4-1ec5d6a85fcb>\u001b[0m in \u001b[0;36m<cell line: 1>\u001b[0;34m()\u001b[0m\n\u001b[0;32m----> 1\u001b[0;31m \u001b[0mdf\u001b[0m \u001b[0;34m=\u001b[0m \u001b[0mpd\u001b[0m\u001b[0;34m.\u001b[0m\u001b[0mread_csv\u001b[0m\u001b[0;34m(\u001b[0m\u001b[0;34m'/content/predicted_labels.csv'\u001b[0m\u001b[0;34m)\u001b[0m\u001b[0;34m\u001b[0m\u001b[0;34m\u001b[0m\u001b[0m\n\u001b[0m\u001b[1;32m      2\u001b[0m \u001b[0mprint\u001b[0m\u001b[0;34m(\u001b[0m\u001b[0mdf\u001b[0m\u001b[0;34m)\u001b[0m\u001b[0;34m\u001b[0m\u001b[0;34m\u001b[0m\u001b[0m\n",
            "\u001b[0;32m/usr/local/lib/python3.10/dist-packages/pandas/util/_decorators.py\u001b[0m in \u001b[0;36mwrapper\u001b[0;34m(*args, **kwargs)\u001b[0m\n\u001b[1;32m    209\u001b[0m                 \u001b[0;32melse\u001b[0m\u001b[0;34m:\u001b[0m\u001b[0;34m\u001b[0m\u001b[0;34m\u001b[0m\u001b[0m\n\u001b[1;32m    210\u001b[0m                     \u001b[0mkwargs\u001b[0m\u001b[0;34m[\u001b[0m\u001b[0mnew_arg_name\u001b[0m\u001b[0;34m]\u001b[0m \u001b[0;34m=\u001b[0m \u001b[0mnew_arg_value\u001b[0m\u001b[0;34m\u001b[0m\u001b[0;34m\u001b[0m\u001b[0m\n\u001b[0;32m--> 211\u001b[0;31m             \u001b[0;32mreturn\u001b[0m \u001b[0mfunc\u001b[0m\u001b[0;34m(\u001b[0m\u001b[0;34m*\u001b[0m\u001b[0margs\u001b[0m\u001b[0;34m,\u001b[0m \u001b[0;34m**\u001b[0m\u001b[0mkwargs\u001b[0m\u001b[0;34m)\u001b[0m\u001b[0;34m\u001b[0m\u001b[0;34m\u001b[0m\u001b[0m\n\u001b[0m\u001b[1;32m    212\u001b[0m \u001b[0;34m\u001b[0m\u001b[0m\n\u001b[1;32m    213\u001b[0m         \u001b[0;32mreturn\u001b[0m \u001b[0mcast\u001b[0m\u001b[0;34m(\u001b[0m\u001b[0mF\u001b[0m\u001b[0;34m,\u001b[0m \u001b[0mwrapper\u001b[0m\u001b[0;34m)\u001b[0m\u001b[0;34m\u001b[0m\u001b[0;34m\u001b[0m\u001b[0m\n",
            "\u001b[0;32m/usr/local/lib/python3.10/dist-packages/pandas/util/_decorators.py\u001b[0m in \u001b[0;36mwrapper\u001b[0;34m(*args, **kwargs)\u001b[0m\n\u001b[1;32m    329\u001b[0m                     \u001b[0mstacklevel\u001b[0m\u001b[0;34m=\u001b[0m\u001b[0mfind_stack_level\u001b[0m\u001b[0;34m(\u001b[0m\u001b[0;34m)\u001b[0m\u001b[0;34m,\u001b[0m\u001b[0;34m\u001b[0m\u001b[0;34m\u001b[0m\u001b[0m\n\u001b[1;32m    330\u001b[0m                 )\n\u001b[0;32m--> 331\u001b[0;31m             \u001b[0;32mreturn\u001b[0m \u001b[0mfunc\u001b[0m\u001b[0;34m(\u001b[0m\u001b[0;34m*\u001b[0m\u001b[0margs\u001b[0m\u001b[0;34m,\u001b[0m \u001b[0;34m**\u001b[0m\u001b[0mkwargs\u001b[0m\u001b[0;34m)\u001b[0m\u001b[0;34m\u001b[0m\u001b[0;34m\u001b[0m\u001b[0m\n\u001b[0m\u001b[1;32m    332\u001b[0m \u001b[0;34m\u001b[0m\u001b[0m\n\u001b[1;32m    333\u001b[0m         \u001b[0;31m# error: \"Callable[[VarArg(Any), KwArg(Any)], Any]\" has no\u001b[0m\u001b[0;34m\u001b[0m\u001b[0;34m\u001b[0m\u001b[0m\n",
            "\u001b[0;32m/usr/local/lib/python3.10/dist-packages/pandas/io/parsers/readers.py\u001b[0m in \u001b[0;36mread_csv\u001b[0;34m(filepath_or_buffer, sep, delimiter, header, names, index_col, usecols, squeeze, prefix, mangle_dupe_cols, dtype, engine, converters, true_values, false_values, skipinitialspace, skiprows, skipfooter, nrows, na_values, keep_default_na, na_filter, verbose, skip_blank_lines, parse_dates, infer_datetime_format, keep_date_col, date_parser, dayfirst, cache_dates, iterator, chunksize, compression, thousands, decimal, lineterminator, quotechar, quoting, doublequote, escapechar, comment, encoding, encoding_errors, dialect, error_bad_lines, warn_bad_lines, on_bad_lines, delim_whitespace, low_memory, memory_map, float_precision, storage_options)\u001b[0m\n\u001b[1;32m    948\u001b[0m     \u001b[0mkwds\u001b[0m\u001b[0;34m.\u001b[0m\u001b[0mupdate\u001b[0m\u001b[0;34m(\u001b[0m\u001b[0mkwds_defaults\u001b[0m\u001b[0;34m)\u001b[0m\u001b[0;34m\u001b[0m\u001b[0;34m\u001b[0m\u001b[0m\n\u001b[1;32m    949\u001b[0m \u001b[0;34m\u001b[0m\u001b[0m\n\u001b[0;32m--> 950\u001b[0;31m     \u001b[0;32mreturn\u001b[0m \u001b[0m_read\u001b[0m\u001b[0;34m(\u001b[0m\u001b[0mfilepath_or_buffer\u001b[0m\u001b[0;34m,\u001b[0m \u001b[0mkwds\u001b[0m\u001b[0;34m)\u001b[0m\u001b[0;34m\u001b[0m\u001b[0;34m\u001b[0m\u001b[0m\n\u001b[0m\u001b[1;32m    951\u001b[0m \u001b[0;34m\u001b[0m\u001b[0m\n\u001b[1;32m    952\u001b[0m \u001b[0;34m\u001b[0m\u001b[0m\n",
            "\u001b[0;32m/usr/local/lib/python3.10/dist-packages/pandas/io/parsers/readers.py\u001b[0m in \u001b[0;36m_read\u001b[0;34m(filepath_or_buffer, kwds)\u001b[0m\n\u001b[1;32m    603\u001b[0m \u001b[0;34m\u001b[0m\u001b[0m\n\u001b[1;32m    604\u001b[0m     \u001b[0;31m# Create the parser.\u001b[0m\u001b[0;34m\u001b[0m\u001b[0;34m\u001b[0m\u001b[0m\n\u001b[0;32m--> 605\u001b[0;31m     \u001b[0mparser\u001b[0m \u001b[0;34m=\u001b[0m \u001b[0mTextFileReader\u001b[0m\u001b[0;34m(\u001b[0m\u001b[0mfilepath_or_buffer\u001b[0m\u001b[0;34m,\u001b[0m \u001b[0;34m**\u001b[0m\u001b[0mkwds\u001b[0m\u001b[0;34m)\u001b[0m\u001b[0;34m\u001b[0m\u001b[0;34m\u001b[0m\u001b[0m\n\u001b[0m\u001b[1;32m    606\u001b[0m \u001b[0;34m\u001b[0m\u001b[0m\n\u001b[1;32m    607\u001b[0m     \u001b[0;32mif\u001b[0m \u001b[0mchunksize\u001b[0m \u001b[0;32mor\u001b[0m \u001b[0miterator\u001b[0m\u001b[0;34m:\u001b[0m\u001b[0;34m\u001b[0m\u001b[0;34m\u001b[0m\u001b[0m\n",
            "\u001b[0;32m/usr/local/lib/python3.10/dist-packages/pandas/io/parsers/readers.py\u001b[0m in \u001b[0;36m__init__\u001b[0;34m(self, f, engine, **kwds)\u001b[0m\n\u001b[1;32m   1440\u001b[0m \u001b[0;34m\u001b[0m\u001b[0m\n\u001b[1;32m   1441\u001b[0m         \u001b[0mself\u001b[0m\u001b[0;34m.\u001b[0m\u001b[0mhandles\u001b[0m\u001b[0;34m:\u001b[0m \u001b[0mIOHandles\u001b[0m \u001b[0;34m|\u001b[0m \u001b[0;32mNone\u001b[0m \u001b[0;34m=\u001b[0m \u001b[0;32mNone\u001b[0m\u001b[0;34m\u001b[0m\u001b[0;34m\u001b[0m\u001b[0m\n\u001b[0;32m-> 1442\u001b[0;31m         \u001b[0mself\u001b[0m\u001b[0;34m.\u001b[0m\u001b[0m_engine\u001b[0m \u001b[0;34m=\u001b[0m \u001b[0mself\u001b[0m\u001b[0;34m.\u001b[0m\u001b[0m_make_engine\u001b[0m\u001b[0;34m(\u001b[0m\u001b[0mf\u001b[0m\u001b[0;34m,\u001b[0m \u001b[0mself\u001b[0m\u001b[0;34m.\u001b[0m\u001b[0mengine\u001b[0m\u001b[0;34m)\u001b[0m\u001b[0;34m\u001b[0m\u001b[0;34m\u001b[0m\u001b[0m\n\u001b[0m\u001b[1;32m   1443\u001b[0m \u001b[0;34m\u001b[0m\u001b[0m\n\u001b[1;32m   1444\u001b[0m     \u001b[0;32mdef\u001b[0m \u001b[0mclose\u001b[0m\u001b[0;34m(\u001b[0m\u001b[0mself\u001b[0m\u001b[0;34m)\u001b[0m \u001b[0;34m->\u001b[0m \u001b[0;32mNone\u001b[0m\u001b[0;34m:\u001b[0m\u001b[0;34m\u001b[0m\u001b[0;34m\u001b[0m\u001b[0m\n",
            "\u001b[0;32m/usr/local/lib/python3.10/dist-packages/pandas/io/parsers/readers.py\u001b[0m in \u001b[0;36m_make_engine\u001b[0;34m(self, f, engine)\u001b[0m\n\u001b[1;32m   1733\u001b[0m                 \u001b[0;32mif\u001b[0m \u001b[0;34m\"b\"\u001b[0m \u001b[0;32mnot\u001b[0m \u001b[0;32min\u001b[0m \u001b[0mmode\u001b[0m\u001b[0;34m:\u001b[0m\u001b[0;34m\u001b[0m\u001b[0;34m\u001b[0m\u001b[0m\n\u001b[1;32m   1734\u001b[0m                     \u001b[0mmode\u001b[0m \u001b[0;34m+=\u001b[0m \u001b[0;34m\"b\"\u001b[0m\u001b[0;34m\u001b[0m\u001b[0;34m\u001b[0m\u001b[0m\n\u001b[0;32m-> 1735\u001b[0;31m             self.handles = get_handle(\n\u001b[0m\u001b[1;32m   1736\u001b[0m                 \u001b[0mf\u001b[0m\u001b[0;34m,\u001b[0m\u001b[0;34m\u001b[0m\u001b[0;34m\u001b[0m\u001b[0m\n\u001b[1;32m   1737\u001b[0m                 \u001b[0mmode\u001b[0m\u001b[0;34m,\u001b[0m\u001b[0;34m\u001b[0m\u001b[0;34m\u001b[0m\u001b[0m\n",
            "\u001b[0;32m/usr/local/lib/python3.10/dist-packages/pandas/io/common.py\u001b[0m in \u001b[0;36mget_handle\u001b[0;34m(path_or_buf, mode, encoding, compression, memory_map, is_text, errors, storage_options)\u001b[0m\n\u001b[1;32m    854\u001b[0m         \u001b[0;32mif\u001b[0m \u001b[0mioargs\u001b[0m\u001b[0;34m.\u001b[0m\u001b[0mencoding\u001b[0m \u001b[0;32mand\u001b[0m \u001b[0;34m\"b\"\u001b[0m \u001b[0;32mnot\u001b[0m \u001b[0;32min\u001b[0m \u001b[0mioargs\u001b[0m\u001b[0;34m.\u001b[0m\u001b[0mmode\u001b[0m\u001b[0;34m:\u001b[0m\u001b[0;34m\u001b[0m\u001b[0;34m\u001b[0m\u001b[0m\n\u001b[1;32m    855\u001b[0m             \u001b[0;31m# Encoding\u001b[0m\u001b[0;34m\u001b[0m\u001b[0;34m\u001b[0m\u001b[0m\n\u001b[0;32m--> 856\u001b[0;31m             handle = open(\n\u001b[0m\u001b[1;32m    857\u001b[0m                 \u001b[0mhandle\u001b[0m\u001b[0;34m,\u001b[0m\u001b[0;34m\u001b[0m\u001b[0;34m\u001b[0m\u001b[0m\n\u001b[1;32m    858\u001b[0m                 \u001b[0mioargs\u001b[0m\u001b[0;34m.\u001b[0m\u001b[0mmode\u001b[0m\u001b[0;34m,\u001b[0m\u001b[0;34m\u001b[0m\u001b[0;34m\u001b[0m\u001b[0m\n",
            "\u001b[0;31mFileNotFoundError\u001b[0m: [Errno 2] No such file or directory: '/content/predicted_labels.csv'"
          ]
        }
      ]
    },
    {
      "cell_type": "code",
      "source": [
        "exp_posts = pd.read_csv('/content/experience_posts.csv')"
      ],
      "metadata": {
        "id": "tXmJtS2Aqirk",
        "executionInfo": {
          "status": "ok",
          "timestamp": 1693937774601,
          "user_tz": 240,
          "elapsed": 669,
          "user": {
            "displayName": "Joongeun Choi",
            "userId": "16179959334871840414"
          }
        }
      },
      "execution_count": 7,
      "outputs": []
    },
    {
      "cell_type": "code",
      "source": [
        "a, b, c, d = [],[],[],[]\n",
        "for ind, i in enumerate(exp_posts['selftext']):\n",
        "  l = len(i.split())\n",
        "  if exp_posts['score'][ind] >= 22:\n",
        "    d.append(l)\n",
        "  if exp_posts['score'][ind] >=13:\n",
        "    c.append(l)\n",
        "  elif exp_posts['score'][ind] <=7 and exp_posts['score'][ind] > 0:\n",
        "    b.append(l)\n",
        "  elif exp_posts['score'][ind] == 0:\n",
        "    a.append(l)\n",
        "sum(a)/len(a), sum(b)/len(b), sum(c)/len(c), sum(d)/len(d)"
      ],
      "metadata": {
        "colab": {
          "base_uri": "https://localhost:8080/"
        },
        "id": "ke55jdzyxd4b",
        "executionInfo": {
          "status": "ok",
          "timestamp": 1693937777029,
          "user_tz": 240,
          "elapsed": 253,
          "user": {
            "displayName": "Joongeun Choi",
            "userId": "16179959334871840414"
          }
        },
        "outputId": "200a4a42-f154-475a-abf2-f28c3886a73b"
      },
      "execution_count": 8,
      "outputs": [
        {
          "output_type": "execute_result",
          "data": {
            "text/plain": [
              "(220.0, 132.81578947368422, 204.13657407407408, 235.04558404558404)"
            ]
          },
          "metadata": {},
          "execution_count": 8
        }
      ]
    },
    {
      "cell_type": "code",
      "source": [
        "import math\n",
        "for ind, i in enumerate(df['selftext']):\n",
        "  if type(i) != str and math.isnan(i):\n",
        "    df.drop(ind, inplace=True)\n",
        "  elif \"[removed]\" in i or \"[deleted]\" in i:\n",
        "    df.drop(ind, inplace=True)\n",
        "print(df['selftext'])"
      ],
      "metadata": {
        "id": "pY0rDcOXrnIq",
        "colab": {
          "base_uri": "https://localhost:8080/",
          "height": 245
        },
        "executionInfo": {
          "status": "error",
          "timestamp": 1693937777029,
          "user_tz": 240,
          "elapsed": 7,
          "user": {
            "displayName": "Joongeun Choi",
            "userId": "16179959334871840414"
          }
        },
        "outputId": "4f1a9d6c-10e7-4119-ea5a-fa78351de4ef"
      },
      "execution_count": 9,
      "outputs": [
        {
          "output_type": "error",
          "ename": "NameError",
          "evalue": "ignored",
          "traceback": [
            "\u001b[0;31m---------------------------------------------------------------------------\u001b[0m",
            "\u001b[0;31mNameError\u001b[0m                                 Traceback (most recent call last)",
            "\u001b[0;32m<ipython-input-9-230f329b09af>\u001b[0m in \u001b[0;36m<cell line: 2>\u001b[0;34m()\u001b[0m\n\u001b[1;32m      1\u001b[0m \u001b[0;32mimport\u001b[0m \u001b[0mmath\u001b[0m\u001b[0;34m\u001b[0m\u001b[0;34m\u001b[0m\u001b[0m\n\u001b[0;32m----> 2\u001b[0;31m \u001b[0;32mfor\u001b[0m \u001b[0mind\u001b[0m\u001b[0;34m,\u001b[0m \u001b[0mi\u001b[0m \u001b[0;32min\u001b[0m \u001b[0menumerate\u001b[0m\u001b[0;34m(\u001b[0m\u001b[0mdf\u001b[0m\u001b[0;34m[\u001b[0m\u001b[0;34m'selftext'\u001b[0m\u001b[0;34m]\u001b[0m\u001b[0;34m)\u001b[0m\u001b[0;34m:\u001b[0m\u001b[0;34m\u001b[0m\u001b[0;34m\u001b[0m\u001b[0m\n\u001b[0m\u001b[1;32m      3\u001b[0m   \u001b[0;32mif\u001b[0m \u001b[0mtype\u001b[0m\u001b[0;34m(\u001b[0m\u001b[0mi\u001b[0m\u001b[0;34m)\u001b[0m \u001b[0;34m!=\u001b[0m \u001b[0mstr\u001b[0m \u001b[0;32mand\u001b[0m \u001b[0mmath\u001b[0m\u001b[0;34m.\u001b[0m\u001b[0misnan\u001b[0m\u001b[0;34m(\u001b[0m\u001b[0mi\u001b[0m\u001b[0;34m)\u001b[0m\u001b[0;34m:\u001b[0m\u001b[0;34m\u001b[0m\u001b[0;34m\u001b[0m\u001b[0m\n\u001b[1;32m      4\u001b[0m     \u001b[0mdf\u001b[0m\u001b[0;34m.\u001b[0m\u001b[0mdrop\u001b[0m\u001b[0;34m(\u001b[0m\u001b[0mind\u001b[0m\u001b[0;34m,\u001b[0m \u001b[0minplace\u001b[0m\u001b[0;34m=\u001b[0m\u001b[0;32mTrue\u001b[0m\u001b[0;34m)\u001b[0m\u001b[0;34m\u001b[0m\u001b[0;34m\u001b[0m\u001b[0m\n\u001b[1;32m      5\u001b[0m   \u001b[0;32melif\u001b[0m \u001b[0;34m\"[removed]\"\u001b[0m \u001b[0;32min\u001b[0m \u001b[0mi\u001b[0m \u001b[0;32mor\u001b[0m \u001b[0;34m\"[deleted]\"\u001b[0m \u001b[0;32min\u001b[0m \u001b[0mi\u001b[0m\u001b[0;34m:\u001b[0m\u001b[0;34m\u001b[0m\u001b[0;34m\u001b[0m\u001b[0m\n",
            "\u001b[0;31mNameError\u001b[0m: name 'df' is not defined"
          ]
        }
      ]
    },
    {
      "cell_type": "code",
      "source": [
        "df = df.reset_index()\n",
        "print(df['selftext'])"
      ],
      "metadata": {
        "id": "4RAZVQfbBWy4",
        "executionInfo": {
          "status": "aborted",
          "timestamp": 1693937754123,
          "user_tz": 240,
          "elapsed": 14,
          "user": {
            "displayName": "Joongeun Choi",
            "userId": "16179959334871840414"
          }
        }
      },
      "execution_count": null,
      "outputs": []
    },
    {
      "cell_type": "code",
      "source": [
        "posts = list(df['selftext'])\n",
        "print(len(posts))\n",
        "\n",
        "df2 = df.copy()['selftext'].drop_duplicates(keep = 'first')\n",
        "print(len(df2))\n",
        "for ind, i in enumerate(df2):\n",
        "  if posts.count(i) > 1:\n",
        "    df.drop(posts.index(i), inplace=True)\n",
        "    posts.remove(i)\n",
        "    print(len(posts), len(df))\n",
        "print(len(df))"
      ],
      "metadata": {
        "id": "p3vcJJN3z6K8",
        "executionInfo": {
          "status": "aborted",
          "timestamp": 1693937754124,
          "user_tz": 240,
          "elapsed": 14,
          "user": {
            "displayName": "Joongeun Choi",
            "userId": "16179959334871840414"
          }
        }
      },
      "execution_count": null,
      "outputs": []
    },
    {
      "cell_type": "code",
      "source": [
        "import copy\n",
        "exp_posts = copy.deepcopy(df)\n",
        "for ind, i in enumerate(df['labels']):\n",
        "  if i not in [1.0]:\n",
        "    exp_posts.drop(ind, inplace=True)\n",
        "exp_posts = exp_posts.reset_index()\n",
        "exp_posts"
      ],
      "metadata": {
        "id": "zRDN3Ak5JG8k"
      },
      "execution_count": null,
      "outputs": []
    },
    {
      "cell_type": "code",
      "source": [
        "import csv\n",
        "exp_posts.to_csv(\"experience_posts.csv\")"
      ],
      "metadata": {
        "id": "5yQ2zvire8lm",
        "executionInfo": {
          "status": "ok",
          "timestamp": 1693937803867,
          "user_tz": 240,
          "elapsed": 455,
          "user": {
            "displayName": "Joongeun Choi",
            "userId": "16179959334871840414"
          }
        }
      },
      "execution_count": 11,
      "outputs": []
    },
    {
      "cell_type": "code",
      "source": [
        "import matplotlib.pyplot as plt\n",
        "post_dict = {}\n",
        "for score in exp_posts['score']:\n",
        "  if score in post_dict:\n",
        "      post_dict[score] += 1\n",
        "  else:\n",
        "      post_dict[score] = 1\n",
        "plt.bar(list(post_dict.keys()), list(post_dict.values()))\n",
        "plt.title('Posts per upvote')\n",
        "plt.show()"
      ],
      "metadata": {
        "colab": {
          "base_uri": "https://localhost:8080/",
          "height": 452
        },
        "id": "pGORpJQvQE08",
        "executionInfo": {
          "status": "ok",
          "timestamp": 1693937806887,
          "user_tz": 240,
          "elapsed": 386,
          "user": {
            "displayName": "Joongeun Choi",
            "userId": "16179959334871840414"
          }
        },
        "outputId": "7de5844c-ee41-4e10-e011-f18ebe62a539"
      },
      "execution_count": 12,
      "outputs": [
        {
          "output_type": "display_data",
          "data": {
            "text/plain": [
              "<Figure size 640x480 with 1 Axes>"
            ],
            "image/png": "[encoded data removed]"
          },
          "metadata": {}
        }
      ]
    },
    {
      "cell_type": "code",
      "source": [
        "scores = list(exp_posts['score'])\n",
        "# for ind, i in enumerate(sorted(scores)):\n",
        "#   if ind == 348:\n",
        "#     low = i\n",
        "#   if ind == 696:\n",
        "#     mid = i\n",
        "#   if ind == 1044:\n",
        "#     high = i\n",
        "\n",
        "texts = [[], [], [], []]\n",
        "for ind, score in enumerate(exp_posts['score']):\n",
        "  if score == 0:\n",
        "    texts[0].append(exp_posts['selftext'][ind])\n",
        "  elif score > 0 and score <=7:\n",
        "    texts[1].append(exp_posts['selftext'][ind])\n",
        "  # else:\n",
        "  #   texts[2].append(exp_posts['selftext'][ind]) # 8 or above\n",
        "  if score >= 8:\n",
        "    texts[2].append(exp_posts['selftext'][ind])\n",
        "  if score >= 22:\n",
        "    texts[3].append(exp_posts['selftext'][ind])\n",
        "\n",
        "print(len(texts[0]), len(texts[1]), len(texts[2]), len(texts[3]))\n",
        "\n",
        "low = {\"text\": texts[0]}\n",
        "low_mid = {\"text\": texts[1]}\n",
        "high_mid = {\"text\": texts[2]}\n",
        "high = {\"text\": texts[3]}\n",
        "low_df = pd.DataFrame(low)\n",
        "low_mid_df = pd.DataFrame(low_mid)\n",
        "high_mid_df = pd.DataFrame(high_mid)\n",
        "high_df = pd.DataFrame(high)"
      ],
      "metadata": {
        "id": "szdZplFUOGRE",
        "colab": {
          "base_uri": "https://localhost:8080/"
        },
        "executionInfo": {
          "status": "ok",
          "timestamp": 1693937809213,
          "user_tz": 240,
          "elapsed": 3,
          "user": {
            "displayName": "Joongeun Choi",
            "userId": "16179959334871840414"
          }
        },
        "outputId": "8e2de2c7-6ca4-426e-f808-488b4df67a90"
      },
      "execution_count": 13,
      "outputs": [
        {
          "output_type": "stream",
          "name": "stdout",
          "text": [
            "35 1786 1513 351\n"
          ]
        }
      ]
    },
    {
      "cell_type": "code",
      "source": [
        "#Make new column \"label\" to store the dictionary of sentiment intensity (intensity of pos/neg/neut sent.)\n",
        "# df['label'] = df['selftext'].apply(lambda review:sid.polarity_scores(review))\n",
        "low_df['sentiment_scores'] = low_df['text'].apply(lambda review:sid.polarity_scores(review))\n",
        "low_mid_df['sentiment_scores'] = low_mid_df['text'].apply(lambda review:sid.polarity_scores(review))\n",
        "high_mid_df['sentiment_scores'] = high_mid_df['text'].apply(lambda review:sid.polarity_scores(review))\n",
        "high_df['sentiment_scores'] = high_df['text'].apply(lambda review:sid.polarity_scores(review))"
      ],
      "metadata": {
        "id": "7mxSXFtKuk9o",
        "executionInfo": {
          "status": "ok",
          "timestamp": 1693937820190,
          "user_tz": 240,
          "elapsed": 7096,
          "user": {
            "displayName": "Joongeun Choi",
            "userId": "16179959334871840414"
          }
        }
      },
      "execution_count": 14,
      "outputs": []
    },
    {
      "cell_type": "code",
      "source": [
        "from pprint import pprint\n",
        "#Example\n",
        "# pprint(exp_posts['selftext'][100])\n",
        "# print(exp_posts['score'][100])\n",
        "# print(exp_posts['created_utc'][100])\n",
        "# print(exp_posts['sentiment_scores'][100])\n",
        "# print(exp_posts['sentiment_scores'][100]['compound'])\n",
        "pprint(high_df['text'][100])\n",
        "print(high_df['sentiment_scores'][100])"
      ],
      "metadata": {
        "id": "3EWm_YbnzLuX",
        "executionInfo": {
          "status": "aborted",
          "timestamp": 1693937754127,
          "user_tz": 240,
          "elapsed": 16,
          "user": {
            "displayName": "Joongeun Choi",
            "userId": "16179959334871840414"
          }
        }
      },
      "execution_count": null,
      "outputs": []
    },
    {
      "cell_type": "code",
      "source": [
        "def average(scores):\n",
        "  sum = 0\n",
        "  for score in scores:\n",
        "    sum += score['compound']\n",
        "  return str(sum/len(scores))\n",
        "print(\"Average compound sentiment for score 0 = \"+ average(low_df['sentiment_scores']))\n",
        "print(\"Average compound sentiment for scores 1-7 = \"+ average(low_mid_df['sentiment_scores']))\n",
        "print(\"Average compound sentiment for scores 8 and above = \"+ average(high_mid_df['sentiment_scores']))\n",
        "print(\"Average compound sentiment top 10% = \"+ average(high_df['sentiment_scores']))"
      ],
      "metadata": {
        "colab": {
          "base_uri": "https://localhost:8080/"
        },
        "id": "llOWPcr0QcHV",
        "executionInfo": {
          "status": "ok",
          "timestamp": 1693937820191,
          "user_tz": 240,
          "elapsed": 4,
          "user": {
            "displayName": "Joongeun Choi",
            "userId": "16179959334871840414"
          }
        },
        "outputId": "36836b29-a1e3-4848-ab8c-970d9ffb15d3"
      },
      "execution_count": 15,
      "outputs": [
        {
          "output_type": "stream",
          "name": "stdout",
          "text": [
            "Average compound sentiment for score 0 = 0.03700285714285715\n",
            "Average compound sentiment for scores 1-7 = 0.09409479283314681\n",
            "Average compound sentiment for scores 8 and above = 0.3154886979510907\n",
            "Average compound sentiment top 10% = 0.3541646723646723\n"
          ]
        }
      ]
    },
    {
      "cell_type": "code",
      "source": [
        "!pip install bertopic\n",
        "from bertopic import BERTopic\n",
        "import json\n",
        "import pandas as pd\n",
        "from google.colab import files"
      ],
      "metadata": {
        "colab": {
          "base_uri": "https://localhost:8080/"
        },
        "id": "XFvabvl5cg9O",
        "executionInfo": {
          "status": "ok",
          "timestamp": 1693689144348,
          "user_tz": 240,
          "elapsed": 135329,
          "user": {
            "displayName": "Joongeun Choi",
            "userId": "16179959334871840414"
          }
        },
        "outputId": "8f7dd50d-08e0-4467-a94a-af737eb0dee0"
      },
      "execution_count": null,
      "outputs": [
        {
          "output_type": "stream",
          "name": "stdout",
          "text": [
            "Collecting bertopic\n",
            "  Downloading bertopic-0.15.0-py2.py3-none-any.whl (143 kB)\n",
            "\u001b[2K     \u001b[90m━━━━━━━━━━━━━━━━━━━━━━━━━━━━━━━━━━━━━━━\u001b[0m \u001b[32m143.4/143.4 kB\u001b[0m \u001b[31m2.8 MB/s\u001b[0m eta \u001b[36m0:00:00\u001b[0m\n",
            "\u001b[?25hRequirement already satisfied: numpy>=1.20.0 in /usr/local/lib/python3.10/dist-packages (from bertopic) (1.23.5)\n",
            "Collecting hdbscan>=0.8.29 (from bertopic)\n",
            "  Downloading hdbscan-0.8.33.tar.gz (5.2 MB)\n",
            "\u001b[2K     \u001b[90m━━━━━━━━━━━━━━━━━━━━━━━━━━━━━━━━━━━━━━━━\u001b[0m \u001b[32m5.2/5.2 MB\u001b[0m \u001b[31m14.2 MB/s\u001b[0m eta \u001b[36m0:00:00\u001b[0m\n",
            "\u001b[?25h  Installing build dependencies ... \u001b[?25l\u001b[?25hdone\n",
            "  Getting requirements to build wheel ... \u001b[?25l\u001b[?25hdone\n",
            "  Preparing metadata (pyproject.toml) ... \u001b[?25l\u001b[?25hdone\n",
            "Collecting umap-learn>=0.5.0 (from bertopic)\n",
            "  Downloading umap-learn-0.5.3.tar.gz (88 kB)\n",
            "\u001b[2K     \u001b[90m━━━━━━━━━━━━━━━━━━━━━━━━━━━━━━━━━━━━━━━━\u001b[0m \u001b[32m88.2/88.2 kB\u001b[0m \u001b[31m8.7 MB/s\u001b[0m eta \u001b[36m0:00:00\u001b[0m\n",
            "\u001b[?25h  Preparing metadata (setup.py) ... \u001b[?25l\u001b[?25hdone\n",
            "Requirement already satisfied: pandas>=1.1.5 in /usr/local/lib/python3.10/dist-packages (from bertopic) (1.5.3)\n",
            "Requirement already satisfied: scikit-learn>=0.22.2.post1 in /usr/local/lib/python3.10/dist-packages (from bertopic) (1.2.2)\n",
            "Requirement already satisfied: tqdm>=4.41.1 in /usr/local/lib/python3.10/dist-packages (from bertopic) (4.66.1)\n",
            "Collecting sentence-transformers>=0.4.1 (from bertopic)\n",
            "  Downloading sentence-transformers-2.2.2.tar.gz (85 kB)\n",
            "\u001b[2K     \u001b[90m━━━━━━━━━━━━━━━━━━━━━━━━━━━━━━━━━━━━━━━━\u001b[0m \u001b[32m86.0/86.0 kB\u001b[0m \u001b[31m8.0 MB/s\u001b[0m eta \u001b[36m0:00:00\u001b[0m\n",
            "\u001b[?25h  Preparing metadata (setup.py) ... \u001b[?25l\u001b[?25hdone\n",
            "Requirement already satisfied: plotly>=4.7.0 in /usr/local/lib/python3.10/dist-packages (from bertopic) (5.15.0)\n",
            "Requirement already satisfied: cython<3,>=0.27 in /usr/local/lib/python3.10/dist-packages (from hdbscan>=0.8.29->bertopic) (0.29.36)\n",
            "Requirement already satisfied: scipy>=1.0 in /usr/local/lib/python3.10/dist-packages (from hdbscan>=0.8.29->bertopic) (1.10.1)\n",
            "Requirement already satisfied: joblib>=1.0 in /usr/local/lib/python3.10/dist-packages (from hdbscan>=0.8.29->bertopic) (1.3.2)\n",
            "Requirement already satisfied: python-dateutil>=2.8.1 in /usr/local/lib/python3.10/dist-packages (from pandas>=1.1.5->bertopic) (2.8.2)\n",
            "Requirement already satisfied: pytz>=2020.1 in /usr/local/lib/python3.10/dist-packages (from pandas>=1.1.5->bertopic) (2023.3)\n",
            "Requirement already satisfied: tenacity>=6.2.0 in /usr/local/lib/python3.10/dist-packages (from plotly>=4.7.0->bertopic) (8.2.3)\n",
            "Requirement already satisfied: packaging in /usr/local/lib/python3.10/dist-packages (from plotly>=4.7.0->bertopic) (23.1)\n",
            "Requirement already satisfied: threadpoolctl>=2.0.0 in /usr/local/lib/python3.10/dist-packages (from scikit-learn>=0.22.2.post1->bertopic) (3.2.0)\n",
            "Collecting transformers<5.0.0,>=4.6.0 (from sentence-transformers>=0.4.1->bertopic)\n",
            "  Downloading transformers-4.32.1-py3-none-any.whl (7.5 MB)\n",
            "\u001b[2K     \u001b[90m━━━━━━━━━━━━━━━━━━━━━━━━━━━━━━━━━━━━━━━━\u001b[0m \u001b[32m7.5/7.5 MB\u001b[0m \u001b[31m30.3 MB/s\u001b[0m eta \u001b[36m0:00:00\u001b[0m\n",
            "\u001b[?25hRequirement already satisfied: torch>=1.6.0 in /usr/local/lib/python3.10/dist-packages (from sentence-transformers>=0.4.1->bertopic) (2.0.1+cu118)\n",
            "Requirement already satisfied: torchvision in /usr/local/lib/python3.10/dist-packages (from sentence-transformers>=0.4.1->bertopic) (0.15.2+cu118)\n",
            "Requirement already satisfied: nltk in /usr/local/lib/python3.10/dist-packages (from sentence-transformers>=0.4.1->bertopic) (3.8.1)\n",
            "Collecting sentencepiece (from sentence-transformers>=0.4.1->bertopic)\n",
            "  Downloading sentencepiece-0.1.99-cp310-cp310-manylinux_2_17_x86_64.manylinux2014_x86_64.whl (1.3 MB)\n",
            "\u001b[2K     \u001b[90m━━━━━━━━━━━━━━━━━━━━━━━━━━━━━━━━━━━━━━━━\u001b[0m \u001b[32m1.3/1.3 MB\u001b[0m \u001b[31m39.4 MB/s\u001b[0m eta \u001b[36m0:00:00\u001b[0m\n",
            "\u001b[?25hCollecting huggingface-hub>=0.4.0 (from sentence-transformers>=0.4.1->bertopic)\n",
            "  Downloading huggingface_hub-0.16.4-py3-none-any.whl (268 kB)\n",
            "\u001b[2K     \u001b[90m━━━━━━━━━━━━━━━━━━━━━━━━━━━━━━━━━━━━━━\u001b[0m \u001b[32m268.8/268.8 kB\u001b[0m \u001b[31m24.8 MB/s\u001b[0m eta \u001b[36m0:00:00\u001b[0m\n",
            "\u001b[?25hRequirement already satisfied: numba>=0.49 in /usr/local/lib/python3.10/dist-packages (from umap-learn>=0.5.0->bertopic) (0.56.4)\n",
            "Collecting pynndescent>=0.5 (from umap-learn>=0.5.0->bertopic)\n",
            "  Downloading pynndescent-0.5.10.tar.gz (1.1 MB)\n",
            "\u001b[2K     \u001b[90m━━━━━━━━━━━━━━━━━━━━━━━━━━━━━━━━━━━━━━━━\u001b[0m \u001b[32m1.1/1.1 MB\u001b[0m \u001b[31m39.0 MB/s\u001b[0m eta \u001b[36m0:00:00\u001b[0m\n",
            "\u001b[?25h  Preparing metadata (setup.py) ... \u001b[?25l\u001b[?25hdone\n",
            "Requirement already satisfied: filelock in /usr/local/lib/python3.10/dist-packages (from huggingface-hub>=0.4.0->sentence-transformers>=0.4.1->bertopic) (3.12.2)\n",
            "Requirement already satisfied: fsspec in /usr/local/lib/python3.10/dist-packages (from huggingface-hub>=0.4.0->sentence-transformers>=0.4.1->bertopic) (2023.6.0)\n",
            "Requirement already satisfied: requests in /usr/local/lib/python3.10/dist-packages (from huggingface-hub>=0.4.0->sentence-transformers>=0.4.1->bertopic) (2.31.0)\n",
            "Requirement already satisfied: pyyaml>=5.1 in /usr/local/lib/python3.10/dist-packages (from huggingface-hub>=0.4.0->sentence-transformers>=0.4.1->bertopic) (6.0.1)\n",
            "Requirement already satisfied: typing-extensions>=3.7.4.3 in /usr/local/lib/python3.10/dist-packages (from huggingface-hub>=0.4.0->sentence-transformers>=0.4.1->bertopic) (4.7.1)\n",
            "Requirement already satisfied: llvmlite<0.40,>=0.39.0dev0 in /usr/local/lib/python3.10/dist-packages (from numba>=0.49->umap-learn>=0.5.0->bertopic) (0.39.1)\n",
            "Requirement already satisfied: setuptools in /usr/local/lib/python3.10/dist-packages (from numba>=0.49->umap-learn>=0.5.0->bertopic) (67.7.2)\n",
            "Requirement already satisfied: six>=1.5 in /usr/local/lib/python3.10/dist-packages (from python-dateutil>=2.8.1->pandas>=1.1.5->bertopic) (1.16.0)\n",
            "Requirement already satisfied: sympy in /usr/local/lib/python3.10/dist-packages (from torch>=1.6.0->sentence-transformers>=0.4.1->bertopic) (1.12)\n",
            "Requirement already satisfied: networkx in /usr/local/lib/python3.10/dist-packages (from torch>=1.6.0->sentence-transformers>=0.4.1->bertopic) (3.1)\n",
            "Requirement already satisfied: jinja2 in /usr/local/lib/python3.10/dist-packages (from torch>=1.6.0->sentence-transformers>=0.4.1->bertopic) (3.1.2)\n",
            "Requirement already satisfied: triton==2.0.0 in /usr/local/lib/python3.10/dist-packages (from torch>=1.6.0->sentence-transformers>=0.4.1->bertopic) (2.0.0)\n",
            "Requirement already satisfied: cmake in /usr/local/lib/python3.10/dist-packages (from triton==2.0.0->torch>=1.6.0->sentence-transformers>=0.4.1->bertopic) (3.27.2)\n",
            "Requirement already satisfied: lit in /usr/local/lib/python3.10/dist-packages (from triton==2.0.0->torch>=1.6.0->sentence-transformers>=0.4.1->bertopic) (16.0.6)\n",
            "Requirement already satisfied: regex!=2019.12.17 in /usr/local/lib/python3.10/dist-packages (from transformers<5.0.0,>=4.6.0->sentence-transformers>=0.4.1->bertopic) (2023.6.3)\n",
            "Collecting tokenizers!=0.11.3,<0.14,>=0.11.1 (from transformers<5.0.0,>=4.6.0->sentence-transformers>=0.4.1->bertopic)\n",
            "  Downloading tokenizers-0.13.3-cp310-cp310-manylinux_2_17_x86_64.manylinux2014_x86_64.whl (7.8 MB)\n",
            "\u001b[2K     \u001b[90m━━━━━━━━━━━━━━━━━━━━━━━━━━━━━━━━━━━━━━━━\u001b[0m \u001b[32m7.8/7.8 MB\u001b[0m \u001b[31m46.8 MB/s\u001b[0m eta \u001b[36m0:00:00\u001b[0m\n",
            "\u001b[?25hCollecting safetensors>=0.3.1 (from transformers<5.0.0,>=4.6.0->sentence-transformers>=0.4.1->bertopic)\n",
            "  Downloading safetensors-0.3.3-cp310-cp310-manylinux_2_17_x86_64.manylinux2014_x86_64.whl (1.3 MB)\n",
            "\u001b[2K     \u001b[90m━━━━━━━━━━━━━━━━━━━━━━━━━━━━━━━━━━━━━━━━\u001b[0m \u001b[32m1.3/1.3 MB\u001b[0m \u001b[31m61.2 MB/s\u001b[0m eta \u001b[36m0:00:00\u001b[0m\n",
            "\u001b[?25hRequirement already satisfied: click in /usr/local/lib/python3.10/dist-packages (from nltk->sentence-transformers>=0.4.1->bertopic) (8.1.7)\n",
            "Requirement already satisfied: pillow!=8.3.*,>=5.3.0 in /usr/local/lib/python3.10/dist-packages (from torchvision->sentence-transformers>=0.4.1->bertopic) (9.4.0)\n",
            "Requirement already satisfied: MarkupSafe>=2.0 in /usr/local/lib/python3.10/dist-packages (from jinja2->torch>=1.6.0->sentence-transformers>=0.4.1->bertopic) (2.1.3)\n",
            "Requirement already satisfied: charset-normalizer<4,>=2 in /usr/local/lib/python3.10/dist-packages (from requests->huggingface-hub>=0.4.0->sentence-transformers>=0.4.1->bertopic) (3.2.0)\n",
            "Requirement already satisfied: idna<4,>=2.5 in /usr/local/lib/python3.10/dist-packages (from requests->huggingface-hub>=0.4.0->sentence-transformers>=0.4.1->bertopic) (3.4)\n",
            "Requirement already satisfied: urllib3<3,>=1.21.1 in /usr/local/lib/python3.10/dist-packages (from requests->huggingface-hub>=0.4.0->sentence-transformers>=0.4.1->bertopic) (2.0.4)\n",
            "Requirement already satisfied: certifi>=2017.4.17 in /usr/local/lib/python3.10/dist-packages (from requests->huggingface-hub>=0.4.0->sentence-transformers>=0.4.1->bertopic) (2023.7.22)\n",
            "Requirement already satisfied: mpmath>=0.19 in /usr/local/lib/python3.10/dist-packages (from sympy->torch>=1.6.0->sentence-transformers>=0.4.1->bertopic) (1.3.0)\n",
            "Building wheels for collected packages: hdbscan, sentence-transformers, umap-learn, pynndescent\n",
            "  Building wheel for hdbscan (pyproject.toml) ... \u001b[?25l\u001b[?25hdone\n",
            "  Created wheel for hdbscan: filename=hdbscan-0.8.33-cp310-cp310-linux_x86_64.whl size=3039177 sha256=bee0da4d6bc3e6a6b2abbaaeb2c0608394ed3578b96aa4b44e2ed15f4d1f9301\n",
            "  Stored in directory: /root/.cache/pip/wheels/75/0b/3b/dc4f60b7cc455efaefb62883a7483e76f09d06ca81cf87d610\n",
            "  Building wheel for sentence-transformers (setup.py) ... \u001b[?25l\u001b[?25hdone\n",
            "  Created wheel for sentence-transformers: filename=sentence_transformers-2.2.2-py3-none-any.whl size=125923 sha256=ddba43ea5a6274c32be49b5e83f0130e1454f12fe4be9f11ebc286f935ae30fb\n",
            "  Stored in directory: /root/.cache/pip/wheels/62/f2/10/1e606fd5f02395388f74e7462910fe851042f97238cbbd902f\n",
            "  Building wheel for umap-learn (setup.py) ... \u001b[?25l\u001b[?25hdone\n",
            "  Created wheel for umap-learn: filename=umap_learn-0.5.3-py3-none-any.whl size=82807 sha256=64f9855f058ed5a6216945525ece9b1010a6295f5b29cc2e0d5725e42ea9733b\n",
            "  Stored in directory: /root/.cache/pip/wheels/a0/e8/c6/a37ea663620bd5200ea1ba0907ab3c217042c1d035ef606acc\n",
            "  Building wheel for pynndescent (setup.py) ... \u001b[?25l\u001b[?25hdone\n",
            "  Created wheel for pynndescent: filename=pynndescent-0.5.10-py3-none-any.whl size=55615 sha256=e76af09f93c2d1722edd079c356e035d946e54cdb66b7633bbef18daffe9d0fb\n",
            "  Stored in directory: /root/.cache/pip/wheels/4a/38/5d/f60a40a66a9512b7e5e83517ebc2d1b42d857be97d135f1096\n",
            "Successfully built hdbscan sentence-transformers umap-learn pynndescent\n",
            "Installing collected packages: tokenizers, sentencepiece, safetensors, huggingface-hub, transformers, pynndescent, hdbscan, umap-learn, sentence-transformers, bertopic\n",
            "Successfully installed bertopic-0.15.0 hdbscan-0.8.33 huggingface-hub-0.16.4 pynndescent-0.5.10 safetensors-0.3.3 sentence-transformers-2.2.2 sentencepiece-0.1.99 tokenizers-0.13.3 transformers-4.32.1 umap-learn-0.5.3\n"
          ]
        }
      ]
    },
    {
      "cell_type": "code",
      "source": [
        "!pip install nltk\n",
        "import nltk\n",
        "nltk.download('stopwords')\n",
        "from nltk.corpus import stopwords\n",
        "import re\n",
        "\n",
        "stop_words = set(stopwords.words('english'))\n",
        "new_stopwords =[\"vaping\", \"vape\", \"nicotine\", \"cigarettes\", \"cigarette\", \"juul\", \"juice\", \"juices\", \"smoking\",\n",
        "                \"smoke\", \"tobacco\", \"nic\", \"cigs\", \"vaped\", \"vapes\"]\n",
        "new_stopwords2 =[\"im\",\"quit\", \"quitting\", \"ive\", \"i've\"]\n",
        "new_stopwords3 =[\"year\",\"years\", \"day\", \"days\", \"since\", \"ago\", \"week\", \"weeks\", \"today\", \"months\", \"month\"]\n",
        "stop_words = stop_words.union(new_stopwords, new_stopwords2) #, new_stopwords3) - include temporal terms\n",
        "\n",
        "def clean_text(posts):\n",
        "  cleaned_posts = []\n",
        "  for sentences in posts:\n",
        "    split = re.findall(r\"[\\w']+|[!?]\", sentences)\n",
        "    i = 0\n",
        "    while i < len(split)-1:\n",
        "      if split[i] == split[i+1]:\n",
        "        del split[i+1]\n",
        "        i-=1\n",
        "      i+= 1\n",
        "    # Remove all instances of \\n where only the n remains\n",
        "    split = [i for i in split if i != \"n\" and i not in stop_words]\n",
        "    cleaned_posts.append(\" \".join(split))\n",
        "  return cleaned_posts"
      ],
      "metadata": {
        "colab": {
          "base_uri": "https://localhost:8080/"
        },
        "id": "cm5YslqzhNhM",
        "executionInfo": {
          "status": "ok",
          "timestamp": 1693703191176,
          "user_tz": 240,
          "elapsed": 7852,
          "user": {
            "displayName": "Joongeun Choi",
            "userId": "16179959334871840414"
          }
        },
        "outputId": "3f130db6-5890-4bab-d89f-fc1939c2cafa"
      },
      "execution_count": null,
      "outputs": [
        {
          "output_type": "stream",
          "name": "stdout",
          "text": [
            "Requirement already satisfied: nltk in /usr/local/lib/python3.10/dist-packages (3.8.1)\n",
            "Requirement already satisfied: click in /usr/local/lib/python3.10/dist-packages (from nltk) (8.1.7)\n",
            "Requirement already satisfied: joblib in /usr/local/lib/python3.10/dist-packages (from nltk) (1.3.2)\n",
            "Requirement already satisfied: regex>=2021.8.3 in /usr/local/lib/python3.10/dist-packages (from nltk) (2023.6.3)\n",
            "Requirement already satisfied: tqdm in /usr/local/lib/python3.10/dist-packages (from nltk) (4.66.1)\n"
          ]
        },
        {
          "output_type": "stream",
          "name": "stderr",
          "text": [
            "[nltk_data] Downloading package stopwords to /root/nltk_data...\n",
            "[nltk_data]   Package stopwords is already up-to-date!\n"
          ]
        }
      ]
    },
    {
      "cell_type": "code",
      "source": [
        "l, l_m, h_m, h = map(list, [low_df[\"text\"], low_mid_df[\"text\"], high_mid_df[\"text\"], high_df[\"text\"]])\n",
        "l, l_m, h_m, h = map(clean_text, [l, l_m, h_m, h])\n",
        "from sklearn.feature_extraction.text import CountVectorizer\n",
        "# we add this to remove stopwords\n",
        "vectorizer_model = CountVectorizer(ngram_range=(1, 2), stop_words=list(stop_words))\n",
        "\n",
        "topic_model = BERTopic(vectorizer_model=vectorizer_model,\n",
        "                       top_n_words=80,\n",
        "    language='english', calculate_probabilities=True,\n",
        "    verbose=True)\n",
        "\n",
        "def get_topic(saved_column, name):\n",
        "  #print(len(topics)) will print 3397 - \"topics\" is a list of numbers that labels posts with topics\n",
        "  topics, probs = topic_model.fit_transform(saved_column)\n",
        "  topic_model.get_topic_info()\n",
        "  freq = topic_model.get_topic_info()\n",
        "  freq.to_csv(name+\".csv\", index=False)\n",
        "  # fig = topic_model.visualize_barchart()\n",
        "  # fig.write_html(name)\n",
        "  for i in range(len(freq)):\n",
        "    print(freq.iloc[i])  # freq.iloc[i][0, 1, 2, 3, 4] will get columns\n",
        "\n",
        "get_topic(h, \"high\")\n",
        "print(\"=\" * 20)\n",
        "get_topic(h_m, \"high_mid\")\n",
        "print(\"=\" * 20)\n",
        "get_topic(l, \"low\")\n",
        "print(\"=\" * 20)\n",
        "get_topic(l_m, \"low_mid\")"
      ],
      "metadata": {
        "colab": {
          "base_uri": "https://localhost:8080/",
          "height": 1000,
          "referenced_widgets": [
            "df66bfc93cad4419a4d6a4a92f2d4a15",
            "2342722d31884d109471cad817525307",
            "b8a41b222e014696891003d471b248db",
            "d73a3bc0e11a448dbb9bdec5744e3a83",
            "47bf471a91be4e35ad2e0f96e6c4b35b",
            "efbf9ed9896b43e1aa94f8f9ccb2ad4e",
            "5ddaa78f3e9241f8880de34d333dfd23",
            "2c0faca81bc94f1f89f8f50b7f9db8f9",
            "c126be724bd54eee85afbf1946f109c0",
            "a93903a71495499b9af19c30ca585af5",
            "ebc334b2e17d443da656fd13a48ad4ff",
            "c501e0eccbd84a68bb735cb3e471d95f",
            "9b148020f3ab4bb5886393787454edfa",
            "1223754b84134a10b90ac5b5475acb15",
            "96f941c85ec44bf6b39f7443ce822d92",
            "e8e9f3d8eed24f3db9cbae1c8f02f855",
            "18eaf1b4342e4782a62189e0334a112d",
            "c7708b5a75684e5ba636cc69a19662c0",
            "ca73d8de01ba4a02adc9d359b58b33d7",
            "74874239b2624b52a74bfd77fb3f3032",
            "36025dba1c524230b4ae19674cc98112",
            "e2e647a5373d49cfb202ef9dd4dd6f8e",
            "952b0eccc55a4cd8a84f1a90cd721332",
            "c1b09dc441b641cc8f1a7a1f98690f3f",
            "32d2576cf33f4e7cacdd984d9d089bd4",
            "5196ed0378584049a52984de11655c10",
            "e67945d49a72400d89ae88608779e656",
            "92c58019fcf4425492b7f2dedec51a27",
            "a056cdec25c14ff881ae0213a9c93b9c",
            "8e1c4fa326eb432a867ee1e65346f858",
            "bbc23dd6c2d6498cb04269acd9944b89",
            "c21213fcddba4821805c8d96c6d3e8a8",
            "07f2bb8a9f9c4acbbc5e1d4920b6a1ee",
            "1e8cc58d50524d47b22b56db5f495c4c",
            "7a99c485ece3442f970b3f15c212fb34",
            "886f55b746cb4c3496ebf77727f81611",
            "cb29cab29f4a443fad15241bbad8f1ca",
            "987cb46fdf324666a71a8dbd6c3ff38a",
            "80f7d37a887f4b8aba1e620e21d93ded",
            "b191cd07f367490bb3b63f12977f4af2",
            "6d4b041e84fa452fa5ef719583335cd6",
            "920127c2320747049521728882ec44f6",
            "3717124345e142baa903c86cb2621e7c",
            "3e908c15be164581acebea614d90c943"
          ]
        },
        "id": "t5HKNKMOckhh",
        "executionInfo": {
          "status": "ok",
          "timestamp": 1693703436478,
          "user_tz": 240,
          "elapsed": 129629,
          "user": {
            "displayName": "Joongeun Choi",
            "userId": "16179959334871840414"
          }
        },
        "outputId": "6a3ea950-241d-4f5d-a798-ce568cb91366"
      },
      "execution_count": null,
      "outputs": [
        {
          "data": {
            "application/vnd.jupyter.widget-view+json": {
              "model_id": "df66bfc93cad4419a4d6a4a92f2d4a15",
              "version_major": 2,
              "version_minor": 0
            },
            "text/plain": [
              "Batches:   0%|          | 0/11 [00:00<?, ?it/s]"
            ]
          },
          "metadata": {},
          "output_type": "display_data"
        },
        {
          "metadata": {
            "tags": null
          },
          "name": "stderr",
          "output_type": "stream",
          "text": [
            "2023-09-03 01:07:16,390 - BERTopic - Transformed documents to Embeddings\n",
            "2023-09-03 01:07:19,777 - BERTopic - Reduced dimensionality\n",
            "2023-09-03 01:07:19,811 - BERTopic - Clustered reduced embeddings\n"
          ]
        },
        {
          "metadata": {
            "tags": null
          },
          "name": "stdout",
          "output_type": "stream",
          "text": [
            "Topic                                                                 -1\n",
            "Count                                                                172\n",
            "Name                                               -1_like_time_feel_get\n",
            "Representation         [like, time, feel, get, days, day, would, life...\n",
            "Representative_Docs    [Longtime lurker group clean almost 5 months c...\n",
            "Name: 0, dtype: object\n",
            "Topic                                                                  0\n",
            "Count                                                                 42\n",
            "Name                                              0_time_like_would_much\n",
            "Representation         [time, like, would, much, day, get, really, go...\n",
            "Representative_Docs    [I saw post r coolguides posted comment experi...\n",
            "Name: 1, dtype: object\n",
            "Topic                                                                  1\n",
            "Count                                                                 31\n",
            "Name                                            1_days_day_even_cravings\n",
            "Representation         [days, day, even, cravings, really, hit, one, ...\n",
            "Representative_Docs    [Hey ! So I hit 100 days like 3 months ten day...\n",
            "Name: 2, dtype: object\n",
            "Topic                                                                  2\n",
            "Count                                                                 24\n",
            "Name                                             2_better_lungs_feel_get\n",
            "Representation         [better, lungs, feel, get, worth, still, like,...\n",
            "Representative_Docs    [Haven month Before I trying best days change ...\n",
            "Name: 3, dtype: object\n",
            "Topic                                                                  3\n",
            "Count                                                                 22\n",
            "Name                                              3_proud_days_today_day\n",
            "Representation         [proud, days, today, day, positive, feel, feel...\n",
            "Representative_Docs    [This feels super lame say I actually proud I ...\n",
            "Name: 4, dtype: object\n",
            "Topic                                                                  4\n",
            "Count                                                                 17\n",
            "Name                                          4_addiction_one_need_going\n",
            "Representation         [addiction, one, need, going, addicted, withou...\n",
            "Representative_Docs    [I never really smoked I socialized Went trip ...\n",
            "Name: 5, dtype: object\n",
            "Topic                                                                  5\n",
            "Count                                                                 16\n",
            "Name                                              5_miss_years_like_time\n",
            "Representation         [miss, years, like, time, every, heart, even, ...\n",
            "Representative_Docs    [Long post ahead Vaping legitametly worse here...\n",
            "Name: 6, dtype: object\n",
            "Topic                                                                  6\n",
            "Count                                                                 14\n",
            "Name                                                 6_pods_day_pod_done\n",
            "Representation         [pods, day, pod, done, got, device, years, eve...\n",
            "Representative_Docs    [I 6 years straight Pods dispos Smok Novo 4 It...\n",
            "Name: 7, dtype: object\n",
            "Topic                                                                  7\n",
            "Count                                                                 13\n",
            "Name                                         7_cravings_craving_feel_hit\n",
            "Representation         [cravings, craving, feel, hit, feeling, day, k...\n",
            "Representative_Docs    [You past worst cravings physical symptoms It'...\n",
            "Name: 8, dtype: object\n",
            "====================\n"
          ]
        },
        {
          "data": {
            "application/vnd.jupyter.widget-view+json": {
              "model_id": "c501e0eccbd84a68bb735cb3e471d95f",
              "version_major": 2,
              "version_minor": 0
            },
            "text/plain": [
              "Batches:   0%|          | 0/27 [00:00<?, ?it/s]"
            ]
          },
          "metadata": {},
          "output_type": "display_data"
        },
        {
          "output_type": "stream",
          "name": "stderr",
          "text": [
            "2023-09-03 01:08:30,862 - BERTopic - Transformed documents to Embeddings\n",
            "2023-09-03 01:08:36,290 - BERTopic - Reduced dimensionality\n",
            "2023-09-03 01:08:36,359 - BERTopic - Clustered reduced embeddings\n"
          ]
        },
        {
          "output_type": "stream",
          "name": "stdout",
          "text": [
            "Topic                                                                 -1\n",
            "Count                                                                400\n",
            "Name                                               -1_like_day_time_days\n",
            "Representation         [like, day, time, days, feel, get, one, would,...\n",
            "Representative_Docs    [365 days free today ! Here tips helped get 1 ...\n",
            "Name: 0, dtype: object\n",
            "Topic                                                                  0\n",
            "Count                                                                179\n",
            "Name                                            0_cravings_days_day_like\n",
            "Representation         [cravings, days, day, like, feel, time, free, ...\n",
            "Representative_Docs    [When craving heres makes give But first let s...\n",
            "Name: 1, dtype: object\n",
            "Topic                                                                  1\n",
            "Count                                                                112\n",
            "Name                                               1_time_like_day_would\n",
            "Representation         [time, like, day, would, feel, really, want, e...\n",
            "Representative_Docs    [I saw post r coolguides posted comment experi...\n",
            "Name: 2, dtype: object\n",
            "Topic                                                                  2\n",
            "Count                                                                 43\n",
            "Name                                          2_would_one_like_addiction\n",
            "Representation         [would, one, like, addiction, life, time, year...\n",
            "Representative_Docs    [Hey I wanted share story also thank everyone ...\n",
            "Name: 3, dtype: object\n",
            "Topic                                                                  3\n",
            "Count                                                                 39\n",
            "Name                                           3_years_time_started_like\n",
            "Representation         [years, time, started, like, every, smoked, he...\n",
            "Representative_Docs    [Tl dr Vaping bad health You feel like shit te...\n",
            "Name: 4, dtype: object\n",
            "Topic                                                                  4\n",
            "Count                                                                 32\n",
            "Name                                      4_better_feel_breathing_breath\n",
            "Representation         [better, feel, breathing, breath, breathe, lun...\n",
            "Representative_Docs    [What I expected hoped get Stop coughing time ...\n",
            "Name: 5, dtype: object\n",
            "Topic                                                                  5\n",
            "Count                                                                 14\n",
            "Name                                                 5_pod_pods_day_done\n",
            "Representation         [pod, pods, day, done, know, guess, couple, li...\n",
            "Representative_Docs    [I've tried pod day habit couple times past 2 ...\n",
            "Name: 6, dtype: object\n",
            "Topic                                                                  6\n",
            "Count                                                                 13\n",
            "Name                             6_gum_disgusting_oral fixation_fixation\n",
            "Representation         [gum, disgusting, oral fixation, fixation, ora...\n",
            "Representative_Docs    [So day 1 My plan constantly much gum mouth I ...\n",
            "Name: 7, dtype: object\n",
            "Topic                                                                  7\n",
            "Count                                                                 11\n",
            "Name                                               7_today_days_day_feel\n",
            "Representation         [today, days, day, feel, know, woke, help, thi...\n",
            "Representative_Docs    [I went 2 days 60 hours without Earlier week I...\n",
            "Name: 8, dtype: object\n",
            "Topic                                                                  8\n",
            "Count                                                                 11\n",
            "Name                                                8_big_hit_hand_threw\n",
            "Representation         [big, hit, hand, threw, nothing, started, luck...\n",
            "Representative_Docs    [My trigger happened way home I stopped 7 11 p...\n",
            "Name: 9, dtype: object\n",
            "Topic                                                                  9\n",
            "Count                                                                 10\n",
            "Name                                               9_hit_even_one_streak\n",
            "Representation         [hit, even, one, streak, friends, miss, relaps...\n",
            "Representative_Docs    [Hey guys I relapsed 76 days I even know even ...\n",
            "Name: 10, dtype: object\n",
            "====================\n"
          ]
        },
        {
          "output_type": "display_data",
          "data": {
            "text/plain": [
              "Batches:   0%|          | 0/2 [00:00<?, ?it/s]"
            ],
            "application/vnd.jupyter.widget-view+json": {
              "version_major": 2,
              "version_minor": 0,
              "model_id": "952b0eccc55a4cd8a84f1a90cd721332"
            }
          },
          "metadata": {}
        },
        {
          "output_type": "stream",
          "name": "stderr",
          "text": [
            "2023-09-03 01:08:44,416 - BERTopic - Transformed documents to Embeddings\n",
            "2023-09-03 01:08:46,845 - BERTopic - Reduced dimensionality\n",
            "2023-09-03 01:08:46,853 - BERTopic - Clustered reduced embeddings\n"
          ]
        },
        {
          "output_type": "stream",
          "name": "stdout",
          "text": [
            "Topic                                                                 -1\n",
            "Count                                                                 35\n",
            "Name                                                -1_like_one_day_time\n",
            "Representation         [like, one, day, time, got, days, know, going,...\n",
            "Representative_Docs    [I'm 33 Older everyone sub Doesn't mean jack s...\n",
            "Name: 0, dtype: object\n",
            "====================\n"
          ]
        },
        {
          "output_type": "display_data",
          "data": {
            "text/plain": [
              "Batches:   0%|          | 0/56 [00:00<?, ?it/s]"
            ],
            "application/vnd.jupyter.widget-view+json": {
              "version_major": 2,
              "version_minor": 0,
              "model_id": "1e8cc58d50524d47b22b56db5f495c4c"
            }
          },
          "metadata": {}
        },
        {
          "output_type": "stream",
          "name": "stderr",
          "text": [
            "2023-09-03 01:10:24,409 - BERTopic - Transformed documents to Embeddings\n",
            "2023-09-03 01:10:34,179 - BERTopic - Reduced dimensionality\n",
            "2023-09-03 01:10:34,355 - BERTopic - Clustered reduced embeddings\n"
          ]
        },
        {
          "output_type": "stream",
          "name": "stdout",
          "text": [
            "Topic                                                                 -1\n",
            "Count                                                                910\n",
            "Name                                               -1_like_day_time_feel\n",
            "Representation         [like, day, time, feel, get, really, days, kno...\n",
            "Representative_Docs    [Thought I would add data point case encourage...\n",
            "Name: 0, dtype: object\n",
            "Topic                                                                  0\n",
            "Count                                                                212\n",
            "Name                                               0_like_feel_know_want\n",
            "Representation         [like, feel, know, want, time, day, get, life,...\n",
            "Representative_Docs    [I got bored covid lockdowns time I even consi...\n",
            "Name: 1, dtype: object\n",
            "Topic                                                                  1\n",
            "Count                                                                120\n",
            "Name                                         1_cravings_days_day_craving\n",
            "Representation         [cravings, days, day, craving, get, still, wee...\n",
            "Representative_Docs    [I need help I cusp 72 hours free using patch ...\n",
            "Name: 2, dtype: object\n",
            "Topic                                                                  2\n",
            "Count                                                                 80\n",
            "Name                                         2_lungs_breathing_feel_like\n",
            "Representation         [lungs, breathing, feel, like, pouches, good, ...\n",
            "Representative_Docs    [It nearly 72 hours since I last hit Recently ...\n",
            "Name: 3, dtype: object\n",
            "Topic                                                                  3\n",
            "Count                                                                 71\n",
            "Name                                            3_pods_years_like_smoked\n",
            "Representation         [pods, years, like, smoked, one, feel, time, b...\n",
            "Representative_Docs    [Long time vaper This experience I I think app...\n",
            "Name: 4, dtype: object\n",
            "Topic                                                                  4\n",
            "Count                                                                 42\n",
            "Name                                          4_drunk_drinking_sober_day\n",
            "Representation         [drunk, drinking, sober, day, like, time, real...\n",
            "Representative_Docs    [I've many times I've chewing multiple times I...\n",
            "Name: 5, dtype: object\n",
            "Topic                                                                  5\n",
            "Count                                                                 39\n",
            "Name                                                5_hit_days_day_today\n",
            "Representation         [hit, days, day, today, one, right, one hit, h...\n",
            "Representative_Docs    [So I said I three days ago I think ? But I ta...\n",
            "Name: 6, dtype: object\n",
            "Topic                                                                  6\n",
            "Count                                                                 38\n",
            "Name                                                6_time_day_days_like\n",
            "Representation         [time, day, days, like, motivation, get, one, ...\n",
            "Representative_Docs    [I free 4 months I 8th May couple slip ups hel...\n",
            "Name: 7, dtype: object\n",
            "Topic                                                                  7\n",
            "Count                                                                 34\n",
            "Name                                  7_gum_chewing_chewing gum_cravings\n",
            "Representation         [gum, chewing, chewing gum, cravings, day, min...\n",
            "Representative_Docs    [0 disposable gum specifically cinnamon nicore...\n",
            "Name: 8, dtype: object\n",
            "Topic                                                                  8\n",
            "Count                                                                 30\n",
            "Name                                       8_0mg_cold turkey_turkey_cold\n",
            "Representation         [0mg, cold turkey, turkey, cold, 50mg, 3mg, sa...\n",
            "Representative_Docs    [If like steadily spent past five years moving...\n",
            "Name: 9, dtype: object\n",
            "Topic                                                                  9\n",
            "Count                                                                 29\n",
            "Name                                         9_anxiety_attack_panic_also\n",
            "Representation         [anxiety, attack, panic, also, attacks, like, ...\n",
            "Representative_Docs    [I five days ago I feeling great much withdraw...\n",
            "Name: 10, dtype: object\n",
            "Topic                                                                 10\n",
            "Count                                                                 24\n",
            "Name                                                10_weed_cbd_week_day\n",
            "Representation         [weed, cbd, week, day, back, since, go, week s...\n",
            "Representative_Docs    [I weed since I 16 I 20 I feel though taking s...\n",
            "Name: 11, dtype: object\n",
            "Topic                                                                 11\n",
            "Count                                                                 24\n",
            "Name                                         11_fog_brain fog_brain_head\n",
            "Representation         [fog, brain fog, brain, head, feel, like, anxi...\n",
            "Representative_Docs    [This something I noticed I week half brain fo...\n",
            "Name: 12, dtype: object\n",
            "Topic                                                                 12\n",
            "Count                                                                 22\n",
            "Name                                     12_covid_days_tested_quarantine\n",
            "Representation         [covid, days, tested, quarantine, week, cold, ...\n",
            "Representative_Docs    [unintentionally going caught covid hit whole ...\n",
            "Name: 13, dtype: object\n",
            "Topic                                                                 13\n",
            "Count                                                                 18\n",
            "Name                   13_withdrawal symptoms_symptoms_withdrawal_wit...\n",
            "Representation         [withdrawal symptoms, symptoms, withdrawal, wi...\n",
            "Representative_Docs    [Its 2 weeks today since went 2 4 pods day 0 S...\n",
            "Name: 14, dtype: object\n",
            "Topic                                                                 14\n",
            "Count                                                                 18\n",
            "Name                                             14_salt_time_high_heart\n",
            "Representation         [salt, time, high, heart, 50mg, started, like,...\n",
            "Representative_Docs    [Some back story I cold Turkey person I admire...\n",
            "Name: 15, dtype: object\n",
            "Topic                                                                 15\n",
            "Count                                                                 17\n",
            "Name                                           15_want_lungs_need_reason\n",
            "Representation         [want, lungs, need, reason, going, got, asthma...\n",
            "Representative_Docs    [Hello I years recently I feel severely affect...\n",
            "Name: 16, dtype: object\n",
            "Topic                                                                 16\n",
            "Count                                                                 17\n",
            "Name                                  16_disposables_good_disposable_one\n",
            "Representation         [disposables, good, disposable, one, want, dis...\n",
            "Representative_Docs    [With prices everything anymore I really want ...\n",
            "Name: 17, dtype: object\n",
            "Topic                                                                 17\n",
            "Count                                                                 15\n",
            "Name                                           17_patches_month_day_acne\n",
            "Representation         [patches, month, day, acne, using, step, patch...\n",
            "Representative_Docs    [Day 59 Puff Machine Was using 12mg 10ml day t...\n",
            "Name: 18, dtype: object\n",
            "Topic                                                                 18\n",
            "Count                                                                 15\n",
            "Name                                           18_weight_gain_eat_eating\n",
            "Representation         [weight, gain, eat, eating, food, hungry, gain...\n",
            "Representative_Docs    [Hey guys two years I really want The thing I ...\n",
            "Name: 19, dtype: object\n",
            "Topic                                                                 19\n",
            "Count                                                                 11\n",
            "Name                                            19_day_day one_upset_god\n",
            "Representation         [day, day one, upset, god, literally, one, tod...\n",
            "Representative_Docs    [day six well traumatic event happened life bo...\n",
            "Name: 20, dtype: object\n"
          ]
        }
      ]
    },
    {
      "cell_type": "code",
      "source": [
        "#Save posts and scores for each post as csv\n",
        "selected_columns = exp_posts[['selftext', 'sentiment_scores']]\n",
        "selected_columns.to_csv('VADER2.csv', index=False)"
      ],
      "metadata": {
        "id": "8LEE5SJg2hJ0"
      },
      "execution_count": null,
      "outputs": []
    },
    {
      "cell_type": "code",
      "source": [
        "#Test a new \"post\" to see if it is pos/neg/neut\n",
        "review = \"I hate my life and am very depressed. I have tried many times to quit vaping but always failed. I want to quit really bad but I feel helpless\"\n",
        "sid.polarity_scores(review)"
      ],
      "metadata": {
        "id": "4LA0iYt-178h"
      },
      "execution_count": null,
      "outputs": []
    }
  ]
}
