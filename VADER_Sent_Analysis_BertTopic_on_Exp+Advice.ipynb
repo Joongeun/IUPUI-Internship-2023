{
  "nbformat": 4,
  "nbformat_minor": 0,
  "metadata": {
    "colab": {
      "provenance": [],
      "gpuType": "V100",
      "include_colab_link": true
    },
    "kernelspec": {
      "name": "python3",
      "display_name": "Python 3"
    },
    "language_info": {
      "name": "python"
    },
    "accelerator": "GPU"
  },
  "cells": [
    {
      "cell_type": "markdown",
      "metadata": {
        "id": "view-in-github",
        "colab_type": "text"
      },
      "source": [
        "<a href=\"https://colab.research.google.com/github/Joongeun/Internship/blob/main/VADER_Sent_Analysis_BertTopic_on_Exp%2BAdvice.ipynb\" target=\"_parent\"><img src=\"https://colab.research.google.com/assets/colab-badge.svg\" alt=\"Open In Colab\"/></a>"
      ]
    },
    {
      "cell_type": "code",
      "execution_count": null,
      "metadata": {
        "colab": {
          "base_uri": "https://localhost:8080/"
        },
        "id": "k8m9KW2rkBrB",
        "outputId": "653765eb-16d6-4895-e979-919b9c433e9f"
      },
      "outputs": [
        {
          "output_type": "stream",
          "name": "stderr",
          "text": [
            "[nltk_data] Downloading package vader_lexicon to /root/nltk_data...\n"
          ]
        }
      ],
      "source": [
        "import nltk\n",
        "nltk.download('vader_lexicon')\n",
        "from nltk.sentiment.vader import SentimentIntensityAnalyzer\n",
        "\n",
        "sid = SentimentIntensityAnalyzer()"
      ]
    },
    {
      "cell_type": "code",
      "source": [
        "import numpy as np\n",
        "import pandas as pd\n",
        "import json"
      ],
      "metadata": {
        "id": "WAWySj3AkuIC"
      },
      "execution_count": null,
      "outputs": []
    },
    {
      "cell_type": "code",
      "source": [
        "# #encoding='utf-8' so that emojis (unicode character) can be translated to binary - otherwise, error will result\n",
        "# with open(r'/content/sample_data/QuitVaping_submissions', 'r', encoding='utf-8') as f:\n",
        "#   df = pd.read_json(f, lines=True)\n",
        "# df.to_csv('all_posts_csv.csv', encoding='utf-8', index=False)"
      ],
      "metadata": {
        "id": "twKcZ_4RlSNQ"
      },
      "execution_count": null,
      "outputs": []
    },
    {
      "cell_type": "code",
      "source": [
        "df = pd.read_csv('/content/QuitVaping Score, Selftext, Created_UTC - preprocessed_csv.csv.csv')\n",
        "print(df)"
      ],
      "metadata": {
        "id": "w-fcVQoGrX5o"
      },
      "execution_count": null,
      "outputs": []
    },
    {
      "cell_type": "code",
      "source": [
        "import math\n",
        "for ind, i in enumerate(df['selftext']):\n",
        "  if type(i) != str and math.isnan(i):\n",
        "    df.drop(ind, inplace=True)\n",
        "  elif \"[removed]\" in i or \"[deleted]\" in i:\n",
        "    df.drop(ind, inplace=True)\n",
        "print(df['selftext'])"
      ],
      "metadata": {
        "id": "pY0rDcOXrnIq"
      },
      "execution_count": null,
      "outputs": []
    },
    {
      "cell_type": "code",
      "source": [
        "df = df.reset_index()\n",
        "print(df['selftext'])"
      ],
      "metadata": {
        "id": "4RAZVQfbBWy4"
      },
      "execution_count": null,
      "outputs": []
    },
    {
      "cell_type": "code",
      "source": [
        "posts = list(df['selftext'])\n",
        "print(len(posts))\n",
        "\n",
        "df2 = df.copy()['selftext'].drop_duplicates(keep = 'first')\n",
        "print(len(df2))\n",
        "for ind, i in enumerate(df2):\n",
        "  if posts.count(i) > 1:\n",
        "    df.drop(posts.index(i), inplace=True)\n",
        "    posts.remove(i)\n",
        "    print(len(posts), len(df))\n",
        "print(len(df))"
      ],
      "metadata": {
        "id": "p3vcJJN3z6K8"
      },
      "execution_count": null,
      "outputs": []
    },
    {
      "cell_type": "code",
      "source": [
        "import copy\n",
        "exp_posts = copy.deepcopy(df)\n",
        "for ind, i in enumerate(df['labels']):\n",
        "  if i not in [2.0, 4.0]:\n",
        "    exp_posts.drop(ind, inplace=True)\n",
        "exp_posts = exp_posts.reset_index()\n",
        "exp_posts"
      ],
      "metadata": {
        "colab": {
          "base_uri": "https://localhost:8080/",
          "height": 424
        },
        "id": "zRDN3Ak5JG8k",
        "outputId": "ea740134-b7b4-4f9b-994d-13521aa15bde"
      },
      "execution_count": null,
      "outputs": [
        {
          "output_type": "execute_result",
          "data": {
            "text/plain": [
              "      level_0  index  score  \\\n",
              "0           3      3      1   \n",
              "1           4      4      4   \n",
              "2           6      6      3   \n",
              "3          13     13      3   \n",
              "4          15     15     11   \n",
              "...       ...    ...    ...   \n",
              "1388     3481   3481      3   \n",
              "1389     3482   3482      0   \n",
              "1390     3483   3483      8   \n",
              "1391     3490   3490      3   \n",
              "1392     3493   3493      2   \n",
              "\n",
              "                                               selftext  created_utc  labels  \n",
              "0     I moved from cigarettes to my vape three years...   1537340982     4.0  \n",
              "1     I vape constantly.. started about 5 years ago....   1544777392     4.0  \n",
              "2     I’m 25 and I picked up smoking in rehab and en...   1545355520     4.0  \n",
              "3     Took apart my RDA to change cotton but thought...   1551946400     4.0  \n",
              "4     Hello, everyone! I'm glad to see that this sub...   1554167339     4.0  \n",
              "...                                                 ...          ...     ...  \n",
              "1388  Going to try once again to quit starting tomor...   1643413561     4.0  \n",
              "1389  I want to quit but I'd rather keep vaping then...   1643420017     4.0  \n",
              "1390  I threw everything in some hole I stumbled upo...   1643425485     4.0  \n",
              "1391  I took my last hit at 4pm yesterday, it’s now ...   1643481683     4.0  \n",
              "1392  I’ve been on here preaching about hemp cigs …I...   1643487900     4.0  \n",
              "\n",
              "[1393 rows x 6 columns]"
            ],
            "text/html": [
              "\n",
              "  <div id=\"df-aecf6a2a-9c2d-4f7d-9cce-3ea690128289\" class=\"colab-df-container\">\n",
              "    <div>\n",
              "<style scoped>\n",
              "    .dataframe tbody tr th:only-of-type {\n",
              "        vertical-align: middle;\n",
              "    }\n",
              "\n",
              "    .dataframe tbody tr th {\n",
              "        vertical-align: top;\n",
              "    }\n",
              "\n",
              "    .dataframe thead th {\n",
              "        text-align: right;\n",
              "    }\n",
              "</style>\n",
              "<table border=\"1\" class=\"dataframe\">\n",
              "  <thead>\n",
              "    <tr style=\"text-align: right;\">\n",
              "      <th></th>\n",
              "      <th>level_0</th>\n",
              "      <th>index</th>\n",
              "      <th>score</th>\n",
              "      <th>selftext</th>\n",
              "      <th>created_utc</th>\n",
              "      <th>labels</th>\n",
              "    </tr>\n",
              "  </thead>\n",
              "  <tbody>\n",
              "    <tr>\n",
              "      <th>0</th>\n",
              "      <td>3</td>\n",
              "      <td>3</td>\n",
              "      <td>1</td>\n",
              "      <td>I moved from cigarettes to my vape three years...</td>\n",
              "      <td>1537340982</td>\n",
              "      <td>4.0</td>\n",
              "    </tr>\n",
              "    <tr>\n",
              "      <th>1</th>\n",
              "      <td>4</td>\n",
              "      <td>4</td>\n",
              "      <td>4</td>\n",
              "      <td>I vape constantly.. started about 5 years ago....</td>\n",
              "      <td>1544777392</td>\n",
              "      <td>4.0</td>\n",
              "    </tr>\n",
              "    <tr>\n",
              "      <th>2</th>\n",
              "      <td>6</td>\n",
              "      <td>6</td>\n",
              "      <td>3</td>\n",
              "      <td>I’m 25 and I picked up smoking in rehab and en...</td>\n",
              "      <td>1545355520</td>\n",
              "      <td>4.0</td>\n",
              "    </tr>\n",
              "    <tr>\n",
              "      <th>3</th>\n",
              "      <td>13</td>\n",
              "      <td>13</td>\n",
              "      <td>3</td>\n",
              "      <td>Took apart my RDA to change cotton but thought...</td>\n",
              "      <td>1551946400</td>\n",
              "      <td>4.0</td>\n",
              "    </tr>\n",
              "    <tr>\n",
              "      <th>4</th>\n",
              "      <td>15</td>\n",
              "      <td>15</td>\n",
              "      <td>11</td>\n",
              "      <td>Hello, everyone! I'm glad to see that this sub...</td>\n",
              "      <td>1554167339</td>\n",
              "      <td>4.0</td>\n",
              "    </tr>\n",
              "    <tr>\n",
              "      <th>...</th>\n",
              "      <td>...</td>\n",
              "      <td>...</td>\n",
              "      <td>...</td>\n",
              "      <td>...</td>\n",
              "      <td>...</td>\n",
              "      <td>...</td>\n",
              "    </tr>\n",
              "    <tr>\n",
              "      <th>1388</th>\n",
              "      <td>3481</td>\n",
              "      <td>3481</td>\n",
              "      <td>3</td>\n",
              "      <td>Going to try once again to quit starting tomor...</td>\n",
              "      <td>1643413561</td>\n",
              "      <td>4.0</td>\n",
              "    </tr>\n",
              "    <tr>\n",
              "      <th>1389</th>\n",
              "      <td>3482</td>\n",
              "      <td>3482</td>\n",
              "      <td>0</td>\n",
              "      <td>I want to quit but I'd rather keep vaping then...</td>\n",
              "      <td>1643420017</td>\n",
              "      <td>4.0</td>\n",
              "    </tr>\n",
              "    <tr>\n",
              "      <th>1390</th>\n",
              "      <td>3483</td>\n",
              "      <td>3483</td>\n",
              "      <td>8</td>\n",
              "      <td>I threw everything in some hole I stumbled upo...</td>\n",
              "      <td>1643425485</td>\n",
              "      <td>4.0</td>\n",
              "    </tr>\n",
              "    <tr>\n",
              "      <th>1391</th>\n",
              "      <td>3490</td>\n",
              "      <td>3490</td>\n",
              "      <td>3</td>\n",
              "      <td>I took my last hit at 4pm yesterday, it’s now ...</td>\n",
              "      <td>1643481683</td>\n",
              "      <td>4.0</td>\n",
              "    </tr>\n",
              "    <tr>\n",
              "      <th>1392</th>\n",
              "      <td>3493</td>\n",
              "      <td>3493</td>\n",
              "      <td>2</td>\n",
              "      <td>I’ve been on here preaching about hemp cigs …I...</td>\n",
              "      <td>1643487900</td>\n",
              "      <td>4.0</td>\n",
              "    </tr>\n",
              "  </tbody>\n",
              "</table>\n",
              "<p>1393 rows × 6 columns</p>\n",
              "</div>\n",
              "    <div class=\"colab-df-buttons\">\n",
              "\n",
              "  <div class=\"colab-df-container\">\n",
              "    <button class=\"colab-df-convert\" onclick=\"convertToInteractive('df-aecf6a2a-9c2d-4f7d-9cce-3ea690128289')\"\n",
              "            title=\"Convert this dataframe to an interactive table.\"\n",
              "            style=\"display:none;\">\n",
              "\n",
              "  <svg xmlns=\"http://www.w3.org/2000/svg\" height=\"24px\" viewBox=\"0 -960 960 960\">\n",
              "    <path d=\"M120-120v-720h720v720H120Zm60-500h600v-160H180v160Zm220 220h160v-160H400v160Zm0 220h160v-160H400v160ZM180-400h160v-160H180v160Zm440 0h160v-160H620v160ZM180-180h160v-160H180v160Zm440 0h160v-160H620v160Z\"/>\n",
              "  </svg>\n",
              "    </button>\n",
              "\n",
              "  <style>\n",
              "    .colab-df-container {\n",
              "      display:flex;\n",
              "      gap: 12px;\n",
              "    }\n",
              "\n",
              "    .colab-df-convert {\n",
              "      background-color: #E8F0FE;\n",
              "      border: none;\n",
              "      border-radius: 50%;\n",
              "      cursor: pointer;\n",
              "      display: none;\n",
              "      fill: #1967D2;\n",
              "      height: 32px;\n",
              "      padding: 0 0 0 0;\n",
              "      width: 32px;\n",
              "    }\n",
              "\n",
              "    .colab-df-convert:hover {\n",
              "      background-color: #E2EBFA;\n",
              "      box-shadow: 0px 1px 2px rgba(60, 64, 67, 0.3), 0px 1px 3px 1px rgba(60, 64, 67, 0.15);\n",
              "      fill: #174EA6;\n",
              "    }\n",
              "\n",
              "    .colab-df-buttons div {\n",
              "      margin-bottom: 4px;\n",
              "    }\n",
              "\n",
              "    [theme=dark] .colab-df-convert {\n",
              "      background-color: #3B4455;\n",
              "      fill: #D2E3FC;\n",
              "    }\n",
              "\n",
              "    [theme=dark] .colab-df-convert:hover {\n",
              "      background-color: #434B5C;\n",
              "      box-shadow: 0px 1px 3px 1px rgba(0, 0, 0, 0.15);\n",
              "      filter: drop-shadow(0px 1px 2px rgba(0, 0, 0, 0.3));\n",
              "      fill: #FFFFFF;\n",
              "    }\n",
              "  </style>\n",
              "\n",
              "    <script>\n",
              "      const buttonEl =\n",
              "        document.querySelector('#df-aecf6a2a-9c2d-4f7d-9cce-3ea690128289 button.colab-df-convert');\n",
              "      buttonEl.style.display =\n",
              "        google.colab.kernel.accessAllowed ? 'block' : 'none';\n",
              "\n",
              "      async function convertToInteractive(key) {\n",
              "        const element = document.querySelector('#df-aecf6a2a-9c2d-4f7d-9cce-3ea690128289');\n",
              "        const dataTable =\n",
              "          await google.colab.kernel.invokeFunction('convertToInteractive',\n",
              "                                                    [key], {});\n",
              "        if (!dataTable) return;\n",
              "\n",
              "        const docLinkHtml = 'Like what you see? Visit the ' +\n",
              "          '<a target=\"_blank\" href=https://colab.research.google.com/notebooks/data_table.ipynb>data table notebook</a>'\n",
              "          + ' to learn more about interactive tables.';\n",
              "        element.innerHTML = '';\n",
              "        dataTable['output_type'] = 'display_data';\n",
              "        await google.colab.output.renderOutput(dataTable, element);\n",
              "        const docLink = document.createElement('div');\n",
              "        docLink.innerHTML = docLinkHtml;\n",
              "        element.appendChild(docLink);\n",
              "      }\n",
              "    </script>\n",
              "  </div>\n",
              "\n",
              "\n",
              "<div id=\"df-64252a3b-87dc-4e04-864e-6b6723127bb6\">\n",
              "  <button class=\"colab-df-quickchart\" onclick=\"quickchart('df-64252a3b-87dc-4e04-864e-6b6723127bb6')\"\n",
              "            title=\"Suggest charts.\"\n",
              "            style=\"display:none;\">\n",
              "\n",
              "<svg xmlns=\"http://www.w3.org/2000/svg\" height=\"24px\"viewBox=\"0 0 24 24\"\n",
              "     width=\"24px\">\n",
              "    <g>\n",
              "        <path d=\"M19 3H5c-1.1 0-2 .9-2 2v14c0 1.1.9 2 2 2h14c1.1 0 2-.9 2-2V5c0-1.1-.9-2-2-2zM9 17H7v-7h2v7zm4 0h-2V7h2v10zm4 0h-2v-4h2v4z\"/>\n",
              "    </g>\n",
              "</svg>\n",
              "  </button>\n",
              "\n",
              "<style>\n",
              "  .colab-df-quickchart {\n",
              "    background-color: #E8F0FE;\n",
              "    border: none;\n",
              "    border-radius: 50%;\n",
              "    cursor: pointer;\n",
              "    display: none;\n",
              "    fill: #1967D2;\n",
              "    height: 32px;\n",
              "    padding: 0 0 0 0;\n",
              "    width: 32px;\n",
              "  }\n",
              "\n",
              "  .colab-df-quickchart:hover {\n",
              "    background-color: #E2EBFA;\n",
              "    box-shadow: 0px 1px 2px rgba(60, 64, 67, 0.3), 0px 1px 3px 1px rgba(60, 64, 67, 0.15);\n",
              "    fill: #174EA6;\n",
              "  }\n",
              "\n",
              "  [theme=dark] .colab-df-quickchart {\n",
              "    background-color: #3B4455;\n",
              "    fill: #D2E3FC;\n",
              "  }\n",
              "\n",
              "  [theme=dark] .colab-df-quickchart:hover {\n",
              "    background-color: #434B5C;\n",
              "    box-shadow: 0px 1px 3px 1px rgba(0, 0, 0, 0.15);\n",
              "    filter: drop-shadow(0px 1px 2px rgba(0, 0, 0, 0.3));\n",
              "    fill: #FFFFFF;\n",
              "  }\n",
              "</style>\n",
              "\n",
              "  <script>\n",
              "    async function quickchart(key) {\n",
              "      const charts = await google.colab.kernel.invokeFunction(\n",
              "          'suggestCharts', [key], {});\n",
              "    }\n",
              "    (() => {\n",
              "      let quickchartButtonEl =\n",
              "        document.querySelector('#df-64252a3b-87dc-4e04-864e-6b6723127bb6 button');\n",
              "      quickchartButtonEl.style.display =\n",
              "        google.colab.kernel.accessAllowed ? 'block' : 'none';\n",
              "    })();\n",
              "  </script>\n",
              "</div>\n",
              "    </div>\n",
              "  </div>\n"
            ]
          },
          "metadata": {},
          "execution_count": 9
        }
      ]
    },
    {
      "cell_type": "code",
      "source": [
        "import matplotlib.pyplot as plt\n",
        "post_dict = {}\n",
        "for score in exp_posts['score']:\n",
        "  if score in post_dict:\n",
        "      post_dict[score] += 1\n",
        "  else:\n",
        "      post_dict[score] = 1\n",
        "plt.bar(list(post_dict.keys()), list(post_dict.values()))\n",
        "plt.title('Posts per upvote')\n",
        "plt.show()"
      ],
      "metadata": {
        "colab": {
          "base_uri": "https://localhost:8080/",
          "height": 452
        },
        "id": "pGORpJQvQE08",
        "outputId": "364522ad-6e65-4ec3-f68c-98f212fb7844"
      },
      "execution_count": null,
      "outputs": [
        {
          "output_type": "display_data",
          "data": {
            "text/plain": [
              "<Figure size 640x480 with 1 Axes>"
            ],
            "image/png": "[encoded data removed]"
          },
          "metadata": {}
        }
      ]
    },
    {
      "cell_type": "code",
      "source": [
        "scores = list(exp_posts['score'])\n",
        "for ind, i in enumerate(sorted(scores)):\n",
        "  if ind == 348:\n",
        "    low = i\n",
        "  if ind == 696:\n",
        "    mid = i\n",
        "  if ind == 1044:\n",
        "    high = i\n",
        "\n",
        "texts = [[], [], [], []]\n",
        "for ind, score in enumerate(exp_posts['score']):\n",
        "  if score <= low:\n",
        "    texts[0].append(exp_posts['selftext'][ind])\n",
        "  elif score > low and score <=mid:\n",
        "    texts[1].append(exp_posts['selftext'][ind])\n",
        "  elif score > mid and score <= high:\n",
        "    texts[2].append(exp_posts['selftext'][ind])\n",
        "  else:\n",
        "    texts[3].append(exp_posts['selftext'][ind])\n",
        "\n",
        "low = {\"text\": texts[0]}\n",
        "low_mid = {\"text\": texts[1]}\n",
        "high_mid = {\"text\": texts[2]}\n",
        "high = {\"text\": texts[3]}\n",
        "low_df = pd.DataFrame(low)\n",
        "low_mid_df = pd.DataFrame(low_mid)\n",
        "high_mid_df = pd.DataFrame(high_mid)\n",
        "high_df = pd.DataFrame(high)"
      ],
      "metadata": {
        "id": "szdZplFUOGRE"
      },
      "execution_count": null,
      "outputs": []
    },
    {
      "cell_type": "code",
      "source": [
        "#Make new column \"label\" to store the dictionary of sentiment intensity (intensity of pos/neg/neut sent.)\n",
        "# df['label'] = df['selftext'].apply(lambda review:sid.polarity_scores(review))\n",
        "low_df['sentiment_scores'] = low_df['text'].apply(lambda review:sid.polarity_scores(review))\n",
        "low_mid_df['sentiment_scores'] = low_mid_df['text'].apply(lambda review:sid.polarity_scores(review))\n",
        "high_mid_df['sentiment_scores'] = high_mid_df['text'].apply(lambda review:sid.polarity_scores(review))\n",
        "high_df['sentiment_scores'] = high_df['text'].apply(lambda review:sid.polarity_scores(review))"
      ],
      "metadata": {
        "id": "7mxSXFtKuk9o"
      },
      "execution_count": null,
      "outputs": []
    },
    {
      "cell_type": "code",
      "source": [
        "from pprint import pprint\n",
        "#Example\n",
        "# pprint(exp_posts['selftext'][100])\n",
        "# print(exp_posts['score'][100])\n",
        "# print(exp_posts['created_utc'][100])\n",
        "# print(exp_posts['sentiment_scores'][100])\n",
        "# print(exp_posts['sentiment_scores'][100]['compound'])\n",
        "pprint(high_df['text'][100])\n",
        "print(high_df['sentiment_scores'][100])"
      ],
      "metadata": {
        "colab": {
          "base_uri": "https://localhost:8080/"
        },
        "id": "3EWm_YbnzLuX",
        "outputId": "d900af6c-017b-456b-a15c-7f6beb3bee1d"
      },
      "execution_count": null,
      "outputs": [
        {
          "output_type": "stream",
          "name": "stdout",
          "text": [
            "(\"I'm 16 weeks pregnant. It was an unplanned pregnancy so for the first 3-4 \"\n",
            " 'weeks I felt so overwhelmed and stressed out by the news that I felt like I '\n",
            " \"couldn't quit the vape. Have been vaping consistently for 7 years and I \"\n",
            " \"loved the calm effect it had on my brain. I'm a naturally anxious person so \"\n",
            " 'I guess I saw it as my crutch. \\n'\n",
            " '\\n'\n",
            " 'After some time, I knew that I simply had to quit and grab the bull by the '\n",
            " 'horns. There is very little research about the effects of vaping on pregnant '\n",
            " 'women and fetal development. But why take the risk? We know that it does not '\n",
            " \"offer any benefits so realistically it can't be good. The guilt I felt that \"\n",
            " 'I could potentially be doing something damaging and harmful to this little '\n",
            " 'human who has say or control over it was killing me and eating me up.\\n'\n",
            " '\\n'\n",
            " \"I started off by downloading Allen Carr's easyway audible book. I listened \"\n",
            " 'to it all in two days. It was originally designed to help people quit '\n",
            " 'smoking but the method can very easily be applied to quitting vaping also.\\n'\n",
            " '\\n'\n",
            " 'It completely challenges your beliefs around nicotine usage. It convinces '\n",
            " 'you that your beliefs about needing nicotine to concentrate or to relax is '\n",
            " 'completely false. Our bodies were never designed that way. \\n'\n",
            " '\\n'\n",
            " 'It is hard to grasp that idea for the first week of quitting cold turkey. I '\n",
            " 'definitely struggled on week 1. At times I felt like I was going insane, but '\n",
            " 'I think that was also the pregnancy hormones. But after the first 7-10 days '\n",
            " 'I started to feel like yes, I never needed nicotine for anything. I am '\n",
            " 'strong enough to manage without it and my health and breathing patterns have '\n",
            " 'changed dramatically, obviously for the better. \\n'\n",
            " '\\n'\n",
            " \"I'm so happy that I have battled and fought the urges so far. It really is \"\n",
            " 'starting to get so much easier! Things like yoga, reading books, and having '\n",
            " 'nice healthy snacks are excellent tools as well.\\n'\n",
            " '\\n'\n",
            " 'Delighted also to have found this subreddit!!\\n'\n",
            " '\\n'\n",
            " 'I had nobody to talk to properly about this. Stay strong everyone!!')\n",
            "{'neg': 0.093, 'neu': 0.711, 'pos': 0.196, 'compound': 0.9926}\n"
          ]
        }
      ]
    },
    {
      "cell_type": "code",
      "source": [
        "def average(scores):\n",
        "  sum = 0\n",
        "  for score in scores:\n",
        "    sum += score['compound']\n",
        "  return str(sum/len(posts))\n",
        "print(\"Average compound sentiment for lowest 25% = \"+ average(low_df['sentiment_scores']))\n",
        "print(\"Average compound sentiment for lower middle 25% = \"+ average(low_mid_df['sentiment_scores']))\n",
        "print(\"Average compound sentiment for higher middle 25% = \"+ average(high_mid_df['sentiment_scores']))\n",
        "print(\"Average compound sentiment highest 25% = \"+ average(high_df['sentiment_scores']))"
      ],
      "metadata": {
        "colab": {
          "base_uri": "https://localhost:8080/"
        },
        "id": "llOWPcr0QcHV",
        "outputId": "9217413f-0cb6-4f03-b603-20ea0e99d327"
      },
      "execution_count": null,
      "outputs": [
        {
          "output_type": "stream",
          "name": "stdout",
          "text": [
            "Average compound sentiment for lowest 25% = 0.0007164107857050699\n",
            "Average compound sentiment for lower middle 25% = 0.006453515675396721\n",
            "Average compound sentiment for higher middle 25% = 0.011280479938072506\n",
            "Average compound sentiment highest 25% = 0.013575319313636966\n"
          ]
        }
      ]
    },
    {
      "cell_type": "code",
      "source": [
        "!pip install bertopic\n",
        "from bertopic import BERTopic\n",
        "import json\n",
        "import pandas as pd\n",
        "from google.colab import files"
      ],
      "metadata": {
        "id": "XFvabvl5cg9O"
      },
      "execution_count": null,
      "outputs": []
    },
    {
      "cell_type": "code",
      "source": [
        "!pip install nltk\n",
        "import nltk\n",
        "nltk.download('stopwords')\n",
        "from nltk.corpus import stopwords\n",
        "import re\n",
        "\n",
        "stop_words = set(stopwords.words('english'))\n",
        "def clean_text(posts):\n",
        "  cleaned_posts = []\n",
        "  for sentences in posts:\n",
        "    split = re.findall(r\"[\\w']+|[!?]\", sentences)\n",
        "    i = 0\n",
        "    while i < len(split)-1:\n",
        "      if split[i] == split[i+1]:\n",
        "        del split[i+1]\n",
        "        i-=1\n",
        "      i+= 1\n",
        "    # Remove all instances of \\n where only the n remains\n",
        "    split = [i for i in split if i != \"n\" and i not in stop_words]\n",
        "    cleaned_posts.append(\" \".join(split))\n",
        "  return cleaned_posts"
      ],
      "metadata": {
        "id": "cm5YslqzhNhM"
      },
      "execution_count": null,
      "outputs": []
    },
    {
      "cell_type": "code",
      "source": [
        "l, l_m, h_m, h = map(list, [low_df[\"text\"], low_mid_df[\"text\"], high_mid_df[\"text\"], high_df[\"text\"]])\n",
        "l, l_m, h_m, h = map(clean_text, [l, l_m, h_m, h])\n",
        "topic_model = BERTopic()\n",
        "def get_topic(saved_column, name):\n",
        "  #print(len(topics)) will print 3397 - \"topics\" is a list of numbers that labels posts with topics\n",
        "  topics, probs = topic_model.fit_transform(saved_column)\n",
        "  topic_model.get_topic_info()\n",
        "  freq = topic_model.get_topic_info()\n",
        "  freq.to_csv(name+\".csv\", index=False)\n",
        "  fig = topic_model.visualize_barchart()\n",
        "  fig.write_html(name)\n",
        "  for i in range(len(freq)):\n",
        "    print(freq.iloc[i])  # freq.iloc[i][0, 1, 2, 3, 4] will get columns\n",
        "\n",
        "get_topic(l, \"low\")\n",
        "print(\"=\" * 20)\n",
        "get_topic(l_m, \"low_mid\")\n",
        "print(\"=\" * 20)\n",
        "get_topic(h_m, \"high_mid\")\n",
        "print(\"=\" * 20)\n",
        "get_topic(h, \"high\")"
      ],
      "metadata": {
        "colab": {
          "base_uri": "https://localhost:8080/"
        },
        "id": "t5HKNKMOckhh",
        "outputId": "87ade887-ac06-468e-f825-81995a3a0a95"
      },
      "execution_count": null,
      "outputs": [
        {
          "output_type": "stream",
          "name": "stdout",
          "text": [
            "Topic                                                                 -1\n",
            "Count                                                                124\n",
            "Name                                             -1_quit_vaping_day_last\n",
            "Representation         [quit, vaping, day, last, feel, week, like, im...\n",
            "Representative_Docs    [I know I ready quit I want quit turn 21 June ...\n",
            "Name: 0, dtype: object\n",
            "Topic                                                                  0\n",
            "Count                                                                270\n",
            "Name                                         0_vaping_nicotine_vape_quit\n",
            "Representation         [vaping, nicotine, vape, quit, like, day, im, ...\n",
            "Representative_Docs    [I'm moment I realise bad got I've vaping 20mg...\n",
            "Name: 1, dtype: object\n",
            "Topic                                                                  1\n",
            "Count                                                                 39\n",
            "Name                                           1_cravings_vaping_time_im\n",
            "Representation         [cravings, vaping, time, im, going, quit, days...\n",
            "Representative_Docs    [I've vaped since college mid 20s I started hi...\n",
            "Name: 2, dtype: object\n",
            "====================\n",
            "Topic                                                                 -1\n",
            "Count                                                                106\n",
            "Name                                            -1_vape_like_vaping_quit\n",
            "Representation         [vape, like, vaping, quit, day, feel, im, get,...\n",
            "Representative_Docs    [Quitting cigarettes easy compared If I want o...\n",
            "Name: 0, dtype: object\n",
            "Topic                                                                  0\n",
            "Count                                                                 75\n",
            "Name                                         0_quit_vaping_nicotine_time\n",
            "Representation         [quit, vaping, nicotine, time, like, years, im...\n",
            "Representative_Docs    [About 4 years ago July 2015 I got vaping got ...\n",
            "Name: 1, dtype: object\n",
            "Topic                                                                  1\n",
            "Count                                                                 46\n",
            "Name                                               1_quit_vaping_vape_im\n",
            "Representation         [quit, vaping, vape, im, day, like, go, quitti...\n",
            "Representative_Docs    [5 days ! I never thought I make long I went v...\n",
            "Name: 2, dtype: object\n",
            "Topic                                                                  2\n",
            "Count                                                                 29\n",
            "Name                                            2_cravings_days_day_feel\n",
            "Representation         [cravings, days, day, feel, made, first, vape,...\n",
            "Representative_Docs    [Just looking encouragement Most day okay crav...\n",
            "Name: 3, dtype: object\n",
            "Topic                                                                  3\n",
            "Count                                                                 21\n",
            "Name                                              3_nicotine_free_im_day\n",
            "Representation         [nicotine, free, im, day, really, pouches, tod...\n",
            "Representative_Docs    [Just sold pods juices devices Was getting gru...\n",
            "Name: 4, dtype: object\n",
            "Topic                                                                  4\n",
            "Count                                                                 12\n",
            "Name                                             4_anxiety_fog_brain_bad\n",
            "Representation         [anxiety, fog, brain, bad, sleep, get, right, ...\n",
            "Representative_Docs    [So I 7 days cravings sooo bad right I tempted...\n",
            "Name: 5, dtype: object\n",
            "====================\n",
            "Topic                                                                 -1\n",
            "Count                                                                139\n",
            "Name                                         -1_quit_vaping_nicotine_day\n",
            "Representation         [quit, vaping, nicotine, day, time, im, like, ...\n",
            "Representative_Docs    [I also quit drinking little bit ago made easi...\n",
            "Name: 0, dtype: object\n",
            "Topic                                                                  0\n",
            "Count                                                                189\n",
            "Name                                              0_vaping_vape_quit_day\n",
            "Representation         [vaping, vape, quit, day, im, like, time, nico...\n",
            "Representative_Docs    [TLDR I vaped years despite completely messing...\n",
            "Name: 1, dtype: object\n",
            "Topic                                                                  1\n",
            "Count                                                                 27\n",
            "Name                                       1_cravings_day_today_nicotine\n",
            "Representation         [cravings, day, today, nicotine, continue, eve...\n",
            "Representative_Docs    [I hit milestone sub When I worst cravings I r...\n",
            "Name: 2, dtype: object\n",
            "====================\n",
            "Topic                                                                 -1\n",
            "Count                                                                128\n",
            "Name                                            -1_quit_vape_vaping_time\n",
            "Representation         [quit, vape, vaping, time, nicotine, day, like...\n",
            "Representative_Docs    [I saw post quitting r coolguides posted comme...\n",
            "Name: 0, dtype: object\n",
            "Topic                                                                  0\n",
            "Count                                                                 70\n",
            "Name                                         0_vaping_nicotine_like_vape\n",
            "Representation         [vaping, nicotine, like, vape, feel, quit, tim...\n",
            "Representative_Docs    [I 22F vaped little two years mostly juul bree...\n",
            "Name: 1, dtype: object\n",
            "Topic                                                                  1\n",
            "Count                                                                 70\n",
            "Name                                            1_quit_day_quitting_like\n",
            "Representation         [quit, day, quitting, like, cravings, time, ni...\n",
            "Representative_Docs    [Hi everyone ! I finished day 6 quitting cold ...\n",
            "Name: 2, dtype: object\n",
            "Topic                                                                  2\n",
            "Count                                                                 48\n",
            "Name                                             2_vape_days_vaping_quit\n",
            "Representation         [vape, days, vaping, quit, it, last, going, hi...\n",
            "Representative_Docs    [I lot mind morning I really need share I smok...\n",
            "Name: 3, dtype: object\n"
          ]
        }
      ]
    },
    {
      "cell_type": "code",
      "source": [
        "#Save posts and scores for each post as csv\n",
        "selected_columns = exp_posts[['selftext', 'sentiment_scores']]\n",
        "selected_columns.to_csv('VADER2.csv', index=False)"
      ],
      "metadata": {
        "id": "8LEE5SJg2hJ0"
      },
      "execution_count": null,
      "outputs": []
    },
    {
      "cell_type": "code",
      "source": [
        "#Test a new \"post\" to see if it is pos/neg/neut\n",
        "review = \"I hate my life and am very depressed. I have tried many times to quit vaping but always failed. I want to quit really bad but I feel helpless\"\n",
        "sid.polarity_scores(review)"
      ],
      "metadata": {
        "id": "4LA0iYt-178h"
      },
      "execution_count": null,
      "outputs": []
    }
  ]
}